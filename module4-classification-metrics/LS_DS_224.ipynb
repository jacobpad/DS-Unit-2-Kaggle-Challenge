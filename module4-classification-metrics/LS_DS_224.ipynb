{
  "nbformat": 4,
  "nbformat_minor": 0,
  "metadata": {
    "kernelspec": {
      "display_name": "Python 3",
      "language": "python",
      "name": "python3"
    },
    "language_info": {
      "codemirror_mode": {
        "name": "ipython",
        "version": 3
      },
      "file_extension": ".py",
      "mimetype": "text/x-python",
      "name": "python",
      "nbconvert_exporter": "python",
      "pygments_lexer": "ipython3",
      "version": "3.7.6"
    },
    "colab": {
      "name": "LS_DS11_224.ipynb",
      "provenance": [],
      "include_colab_link": true
    },
    "widgets": {
      "application/vnd.jupyter.widget-state+json": {
        "63da0508b8144031b11b06fd98f4331d": {
          "model_module": "@jupyter-widgets/controls",
          "model_name": "VBoxModel",
          "state": {
            "_view_name": "VBoxView",
            "_dom_classes": [
              "widget-interact"
            ],
            "_model_name": "VBoxModel",
            "_view_module": "@jupyter-widgets/controls",
            "_model_module_version": "1.5.0",
            "_view_count": null,
            "_view_module_version": "1.5.0",
            "box_style": "",
            "layout": "IPY_MODEL_19806b30f4aa46129fe7c343405e5315",
            "_model_module": "@jupyter-widgets/controls",
            "children": [
              "IPY_MODEL_5bbfff5596c44df3b991a0e106b4e9d2",
              "IPY_MODEL_2a3856c1cc834ef589d679e23e8b4cdd"
            ]
          }
        },
        "19806b30f4aa46129fe7c343405e5315": {
          "model_module": "@jupyter-widgets/base",
          "model_name": "LayoutModel",
          "state": {
            "_view_name": "LayoutView",
            "grid_template_rows": null,
            "right": null,
            "justify_content": null,
            "_view_module": "@jupyter-widgets/base",
            "overflow": null,
            "_model_module_version": "1.2.0",
            "_view_count": null,
            "flex_flow": null,
            "width": null,
            "min_width": null,
            "border": null,
            "align_items": null,
            "bottom": null,
            "_model_module": "@jupyter-widgets/base",
            "top": null,
            "grid_column": null,
            "overflow_y": null,
            "overflow_x": null,
            "grid_auto_flow": null,
            "grid_area": null,
            "grid_template_columns": null,
            "flex": null,
            "_model_name": "LayoutModel",
            "justify_items": null,
            "grid_row": null,
            "max_height": null,
            "align_content": null,
            "visibility": null,
            "align_self": null,
            "height": null,
            "min_height": null,
            "padding": null,
            "grid_auto_rows": null,
            "grid_gap": null,
            "max_width": null,
            "order": null,
            "_view_module_version": "1.2.0",
            "grid_template_areas": null,
            "object_position": null,
            "object_fit": null,
            "grid_auto_columns": null,
            "margin": null,
            "display": null,
            "left": null
          }
        },
        "5bbfff5596c44df3b991a0e106b4e9d2": {
          "model_module": "@jupyter-widgets/controls",
          "model_name": "FloatSliderModel",
          "state": {
            "_view_name": "FloatSliderView",
            "style": "IPY_MODEL_65d251225a2d4481be01f34b64d97f79",
            "_dom_classes": [],
            "description": "threshold",
            "step": 0.02,
            "_model_name": "FloatSliderModel",
            "orientation": "horizontal",
            "max": 1,
            "_view_module": "@jupyter-widgets/controls",
            "_model_module_version": "1.5.0",
            "value": 0.9,
            "_view_count": null,
            "disabled": false,
            "_view_module_version": "1.5.0",
            "min": 0,
            "continuous_update": true,
            "readout_format": ".2f",
            "description_tooltip": null,
            "readout": true,
            "_model_module": "@jupyter-widgets/controls",
            "layout": "IPY_MODEL_c5bcc06b823b48e3bb8d8a025a40e712"
          }
        },
        "2a3856c1cc834ef589d679e23e8b4cdd": {
          "model_module": "@jupyter-widgets/output",
          "model_name": "OutputModel",
          "state": {
            "_view_name": "OutputView",
            "msg_id": "",
            "_dom_classes": [],
            "_model_name": "OutputModel",
            "outputs": [
              {
                "output_type": "display_data",
                "metadata": {
                  "tags": []
                },
                "image/png": "iVBORw0KGgoAAAANSUhEUgAAAXgAAAD4CAYAAADmWv3KAAAABHNCSVQICAgIfAhkiAAAAAlwSFlz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\n5MkAAAAASUVORK5CYII=\n",
                "text/plain": "<Figure size 432x288 with 1 Axes>"
              },
              {
                "output_type": "stream",
                "metadata": {
                  "tags": []
                },
                "text": "              precision    recall  f1-score   support\n\n       False       0.65      0.99      0.78      7798\n        True       0.98      0.35      0.52      6560\n\n    accuracy                           0.70     14358\n   macro avg       0.81      0.67      0.65     14358\nweighted avg       0.80      0.70      0.66     14358\n\n",
                "stream": "stdout"
              },
              {
                "output_type": "display_data",
                "metadata": {
                  "tags": []
                },
                "image/png": "iVBORw0KGgoAAAANSUhEUgAAAWcAAAD4CAYAAAAw/yevAAAABHNCSVQICAgIfAhkiAAAAAlwSFlz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\n",
                "text/plain": "<Figure size 432x288 with 2 Axes>"
              }
            ],
            "_view_module": "@jupyter-widgets/output",
            "_model_module_version": "1.0.0",
            "_view_count": null,
            "_view_module_version": "1.0.0",
            "layout": "IPY_MODEL_568ca21a92c94132aba049e26db73410",
            "_model_module": "@jupyter-widgets/output"
          }
        },
        "65d251225a2d4481be01f34b64d97f79": {
          "model_module": "@jupyter-widgets/controls",
          "model_name": "SliderStyleModel",
          "state": {
            "_view_name": "StyleView",
            "handle_color": null,
            "_model_name": "SliderStyleModel",
            "description_width": "",
            "_view_module": "@jupyter-widgets/base",
            "_model_module_version": "1.5.0",
            "_view_count": null,
            "_view_module_version": "1.2.0",
            "_model_module": "@jupyter-widgets/controls"
          }
        },
        "c5bcc06b823b48e3bb8d8a025a40e712": {
          "model_module": "@jupyter-widgets/base",
          "model_name": "LayoutModel",
          "state": {
            "_view_name": "LayoutView",
            "grid_template_rows": null,
            "right": null,
            "justify_content": null,
            "_view_module": "@jupyter-widgets/base",
            "overflow": null,
            "_model_module_version": "1.2.0",
            "_view_count": null,
            "flex_flow": null,
            "width": null,
            "min_width": null,
            "border": null,
            "align_items": null,
            "bottom": null,
            "_model_module": "@jupyter-widgets/base",
            "top": null,
            "grid_column": null,
            "overflow_y": null,
            "overflow_x": null,
            "grid_auto_flow": null,
            "grid_area": null,
            "grid_template_columns": null,
            "flex": null,
            "_model_name": "LayoutModel",
            "justify_items": null,
            "grid_row": null,
            "max_height": null,
            "align_content": null,
            "visibility": null,
            "align_self": null,
            "height": null,
            "min_height": null,
            "padding": null,
            "grid_auto_rows": null,
            "grid_gap": null,
            "max_width": null,
            "order": null,
            "_view_module_version": "1.2.0",
            "grid_template_areas": null,
            "object_position": null,
            "object_fit": null,
            "grid_auto_columns": null,
            "margin": null,
            "display": null,
            "left": null
          }
        }
      }
    }
  },
  "cells": [
    {
      "cell_type": "markdown",
      "metadata": {
        "id": "view-in-github",
        "colab_type": "text"
      },
      "source": [
        "<a href=\"https://colab.research.google.com/github/jacobpad/DS-Unit-2-Kaggle-Challenge/blob/master/module4-classification-metrics/LS_DS_224.ipynb\" target=\"_parent\"><img src=\"https://colab.research.google.com/assets/colab-badge.svg\" alt=\"Open In Colab\"/></a>"
      ]
    },
    {
      "cell_type": "markdown",
      "metadata": {
        "colab_type": "text",
        "id": "EZyiOteN16cD"
      },
      "source": [
        "Lambda School Data Science\n",
        "\n",
        "*Unit 2, Sprint 2, Module 4*\n",
        "\n",
        "---"
      ]
    },
    {
      "cell_type": "markdown",
      "metadata": {
        "colab_type": "text",
        "id": "KMI2k-oBsS08"
      },
      "source": [
        "# Classification Metrics\n",
        "\n",
        "- get and interpret the **confusion matrix** for classification models\n",
        "- use classification metrics: **precision, recall**\n",
        "- understand the relationships between precision, recall, **thresholds, and predicted probabilities**, to help **make decisions and allocate budgets**\n",
        "- Get **ROC AUC** (Receiver Operating Characteristic, Area Under the Curve)"
      ]
    },
    {
      "cell_type": "markdown",
      "metadata": {
        "colab_type": "text",
        "id": "rU7RuVcjWdcp"
      },
      "source": [
        "### Setup\n",
        "\n",
        "Run the code cell below. You can work locally (follow the [local setup instructions](https://lambdaschool.github.io/ds/unit2/local/)) or on Colab.\n",
        "\n",
        "Libraries\n",
        "\n",
        "- category_encoders\n",
        "- ipywidgets\n",
        "- matplotlib\n",
        "- numpy\n",
        "- pandas\n",
        "- scikit-learn\n",
        "- seaborn"
      ]
    },
    {
      "cell_type": "code",
      "metadata": {
        "colab_type": "code",
        "id": "OpFoag9QoTgA",
        "colab": {}
      },
      "source": [
        "%%capture\n",
        "import sys\n",
        "\n",
        "# If you're on Colab:\n",
        "if 'google.colab' in sys.modules:\n",
        "    DATA_PATH = 'https://raw.githubusercontent.com/LambdaSchool/DS-Unit-2-Kaggle-Challenge/master/data/'\n",
        "    !pip install category_encoders==2.*\n",
        "\n",
        "# If you're working locally:\n",
        "else:\n",
        "    DATA_PATH = '../data/'"
      ],
      "execution_count": 0,
      "outputs": []
    },
    {
      "cell_type": "markdown",
      "metadata": {
        "colab_type": "text",
        "id": "EfhziD2Wn_iO"
      },
      "source": [
        "# Get and interpret the confusion matrix for classification models"
      ]
    },
    {
      "cell_type": "markdown",
      "metadata": {
        "id": "sg1daUtcWAnN",
        "colab_type": "text"
      },
      "source": [
        "## Overview"
      ]
    },
    {
      "cell_type": "markdown",
      "metadata": {
        "colab_type": "text",
        "id": "xZNCHldPn_iL"
      },
      "source": [
        "First, load the Tanzania Waterpumps data and fit a model. (This code isn't new, we've seen it all before.)"
      ]
    },
    {
      "cell_type": "code",
      "metadata": {
        "colab_type": "code",
        "id": "t8Cjxzrwn_iL",
        "outputId": "c7f1fa9e-5f65-4092-c2dc-5ef432e49c56",
        "colab": {
          "base_uri": "https://localhost:8080/",
          "height": 34
        }
      },
      "source": [
        "%matplotlib inline\n",
        "import category_encoders as ce\n",
        "import matplotlib.pyplot as plt\n",
        "import numpy as np\n",
        "import pandas as pd\n",
        "import seaborn as sns\n",
        "from sklearn.impute import SimpleImputer\n",
        "from sklearn.metrics import accuracy_score\n",
        "from sklearn.model_selection import train_test_split\n",
        "from sklearn.pipeline import make_pipeline\n",
        "from sklearn.ensemble import RandomForestClassifier\n",
        "\n",
        "def wrangle(X):\n",
        "    \"\"\"Wrangles train, validate, and test sets in the same way\"\"\"\n",
        "    X = X.copy()\n",
        "\n",
        "    # Convert date_recorded to datetime\n",
        "    X['date_recorded'] = pd.to_datetime(X['date_recorded'], infer_datetime_format=True)\n",
        "    \n",
        "    # Extract components from date_recorded, then drop the original column\n",
        "    X['year_recorded'] = X['date_recorded'].dt.year\n",
        "    X['month_recorded'] = X['date_recorded'].dt.month\n",
        "    X['day_recorded'] = X['date_recorded'].dt.day\n",
        "    X = X.drop(columns='date_recorded')\n",
        "    \n",
        "    # Engineer feature: how many years from construction_year to date_recorded\n",
        "    X['years'] = X['year_recorded'] - X['construction_year']    \n",
        "    \n",
        "    # Drop recorded_by (never varies) and id (always varies, random)\n",
        "    unusable_variance = ['recorded_by', 'id']\n",
        "    X = X.drop(columns=unusable_variance)\n",
        "    \n",
        "    # Drop duplicate columns\n",
        "    duplicate_columns = ['quantity_group']\n",
        "    X = X.drop(columns=duplicate_columns)\n",
        "    \n",
        "    # About 3% of the time, latitude has small values near zero,\n",
        "    # outside Tanzania, so we'll treat these like null values\n",
        "    X['latitude'] = X['latitude'].replace(-2e-08, np.nan)\n",
        "    \n",
        "    # When columns have zeros and shouldn't, they are like null values\n",
        "    cols_with_zeros = ['construction_year', 'longitude', 'latitude', 'gps_height', 'population']\n",
        "    for col in cols_with_zeros:\n",
        "        X[col] = X[col].replace(0, np.nan)\n",
        "        \n",
        "    return X\n",
        "\n",
        "\n",
        "# Merge train_features.csv & train_labels.csv\n",
        "train = pd.merge(pd.read_csv(DATA_PATH+'waterpumps/train_features.csv'), \n",
        "                 pd.read_csv(DATA_PATH+'waterpumps/train_labels.csv'))\n",
        "\n",
        "# Read test_features.csv & sample_submission.csv\n",
        "test = pd.read_csv(DATA_PATH+'waterpumps/test_features.csv')\n",
        "sample_submission = pd.read_csv(DATA_PATH+'waterpumps/sample_submission.csv')\n",
        "\n",
        "# Split train into train & val. Make val the same size as test.\n",
        "target = 'status_group'\n",
        "train, val = train_test_split(train, test_size=len(test),  \n",
        "                              stratify=train[target], random_state=42)\n",
        "\n",
        "# Wrangle train, validate, and test sets in the same way\n",
        "train = wrangle(train)\n",
        "val = wrangle(val)\n",
        "test = wrangle(test)\n",
        "\n",
        "# Arrange data into X features matrix and y target vector\n",
        "X_train = train.drop(columns=target)\n",
        "y_train = train[target]\n",
        "X_val = val.drop(columns=target)\n",
        "y_val = val[target]\n",
        "X_test = test\n",
        "\n",
        "# Make pipeline!\n",
        "pipeline = make_pipeline(\n",
        "    ce.OrdinalEncoder(), \n",
        "    SimpleImputer(strategy='mean'), \n",
        "    RandomForestClassifier(n_estimators=100, random_state=42, n_jobs=-1)\n",
        ")\n",
        "\n",
        "# Fit on train, score on val\n",
        "pipeline.fit(X_train, y_train)\n",
        "y_pred = pipeline.predict(X_val)\n",
        "print('Validation Accuracy', accuracy_score(y_val, y_pred))"
      ],
      "execution_count": 0,
      "outputs": [
        {
          "output_type": "stream",
          "text": [
            "Validation Accuracy 0.8140409527789386\n"
          ],
          "name": "stdout"
        }
      ]
    },
    {
      "cell_type": "markdown",
      "metadata": {
        "id": "nMbLXEKHWAnU",
        "colab_type": "text"
      },
      "source": [
        "## Follow Along\n",
        "\n",
        "Scikit-learn added a [**`plot_confusion_matrix`**](https://scikit-learn.org/stable/modules/generated/sklearn.metrics.plot_confusion_matrix.html) function in version 0.22!"
      ]
    },
    {
      "cell_type": "code",
      "metadata": {
        "colab_type": "code",
        "id": "2MSWehj9n_iO",
        "outputId": "1cfc5d0a-eefc-47f7-9279-7d82f1829038",
        "colab": {
          "base_uri": "https://localhost:8080/",
          "height": 34
        }
      },
      "source": [
        "# Check scikit-learn version\n",
        "import sklearn\n",
        "sklearn.__version__"
      ],
      "execution_count": 0,
      "outputs": [
        {
          "output_type": "execute_result",
          "data": {
            "text/plain": [
              "'0.22.1'"
            ]
          },
          "metadata": {
            "tags": []
          },
          "execution_count": 3
        }
      ]
    },
    {
      "cell_type": "code",
      "metadata": {
        "id": "K3jhDMw5X6Px",
        "colab_type": "code",
        "colab": {}
      },
      "source": [
        "from sklearn.metrics import plot_confusion_matrix"
      ],
      "execution_count": 0,
      "outputs": []
    },
    {
      "cell_type": "code",
      "metadata": {
        "id": "8tci-hTQX9XZ",
        "colab_type": "code",
        "outputId": "ab9d360c-0618-4c49-e999-0322e1c94c82",
        "colab": {
          "base_uri": "https://localhost:8080/",
          "height": 389
        }
      },
      "source": [
        "plot_confusion_matrix(pipeline, X_val, y_val, values_format='.0f', xticks_rotation='vertical');"
      ],
      "execution_count": 0,
      "outputs": [
        {
          "output_type": "display_data",
          "data": {
            "image/png": "[encoded data removed]",
            "text/plain": [
              "<Figure size 432x288 with 2 Axes>"
            ]
          },
          "metadata": {
            "tags": []
          }
        }
      ]
    },
    {
      "cell_type": "markdown",
      "metadata": {
        "colab_type": "text",
        "id": "fP6FGBGUn_iQ"
      },
      "source": [
        "#### How many correct predictions were made?"
      ]
    },
    {
      "cell_type": "code",
      "metadata": {
        "colab_type": "code",
        "id": "wRSaYRPWn_iR",
        "outputId": "caa788d4-ee13-4313-f550-aca3c05dab74",
        "colab": {
          "base_uri": "https://localhost:8080/",
          "height": 34
        }
      },
      "source": [
        "correct_predictions = 7005 + 332 + 4351\n",
        "correct_predictions"
      ],
      "execution_count": 0,
      "outputs": [
        {
          "output_type": "execute_result",
          "data": {
            "text/plain": [
              "11688"
            ]
          },
          "metadata": {
            "tags": []
          },
          "execution_count": 12
        }
      ]
    },
    {
      "cell_type": "markdown",
      "metadata": {
        "colab_type": "text",
        "id": "-q-3R7Ean_iT"
      },
      "source": [
        "#### How many total predictions were made?"
      ]
    },
    {
      "cell_type": "code",
      "metadata": {
        "colab_type": "code",
        "id": "vLAQL05fn_iT",
        "outputId": "a6ba4a91-4514-4e84-9f75-c46b366546bd",
        "colab": {
          "base_uri": "https://localhost:8080/",
          "height": 34
        }
      },
      "source": [
        "total_predictions = 7005 + 171 + 622 + 555 + 332 + 156 + 1098 + 68 + 4351\n",
        "total_predictions"
      ],
      "execution_count": 0,
      "outputs": [
        {
          "output_type": "execute_result",
          "data": {
            "text/plain": [
              "14358"
            ]
          },
          "metadata": {
            "tags": []
          },
          "execution_count": 13
        }
      ]
    },
    {
      "cell_type": "markdown",
      "metadata": {
        "colab_type": "text",
        "id": "K1yQ_jYPn_iV"
      },
      "source": [
        "#### What was the classification accuracy?"
      ]
    },
    {
      "cell_type": "code",
      "metadata": {
        "colab_type": "code",
        "id": "fskAC6SYn_iW",
        "outputId": "a49413d2-8323-4511-f0cf-28a55ccfcce4",
        "colab": {
          "base_uri": "https://localhost:8080/",
          "height": 34
        }
      },
      "source": [
        "correct_predictions / total_predictions"
      ],
      "execution_count": 0,
      "outputs": [
        {
          "output_type": "execute_result",
          "data": {
            "text/plain": [
              "0.8140409527789386"
            ]
          },
          "metadata": {
            "tags": []
          },
          "execution_count": 15
        }
      ]
    },
    {
      "cell_type": "code",
      "metadata": {
        "id": "7MX2-0djcBxI",
        "colab_type": "code",
        "outputId": "5e9a1a8e-8774-4a79-8428-882cec7e035d",
        "colab": {
          "base_uri": "https://localhost:8080/",
          "height": 34
        }
      },
      "source": [
        "accuracy_score(y_val, y_pred)"
      ],
      "execution_count": 0,
      "outputs": [
        {
          "output_type": "execute_result",
          "data": {
            "text/plain": [
              "0.8140409527789386"
            ]
          },
          "metadata": {
            "tags": []
          },
          "execution_count": 16
        }
      ]
    },
    {
      "cell_type": "code",
      "metadata": {
        "id": "eFEmUPTXcEeY",
        "colab_type": "code",
        "outputId": "d32518c7-4fd2-4e3b-cadf-3f0b2042ecca",
        "colab": {
          "base_uri": "https://localhost:8080/",
          "height": 34
        }
      },
      "source": [
        "sum(y_pred == y_val) / len(y_pred)"
      ],
      "execution_count": 0,
      "outputs": [
        {
          "output_type": "execute_result",
          "data": {
            "text/plain": [
              "0.8140409527789386"
            ]
          },
          "metadata": {
            "tags": []
          },
          "execution_count": 19
        }
      ]
    },
    {
      "cell_type": "markdown",
      "metadata": {
        "colab_type": "text",
        "id": "EqFgEm3tn_iY"
      },
      "source": [
        "# Use classification metrics: precision, recall"
      ]
    },
    {
      "cell_type": "markdown",
      "metadata": {
        "id": "aN9ZsaqKWAni",
        "colab_type": "text"
      },
      "source": [
        "## Overview\n",
        "\n",
        "[Scikit-Learn User Guide — Classification Report](https://scikit-learn.org/stable/modules/model_evaluation.html#classification-report)"
      ]
    },
    {
      "cell_type": "code",
      "metadata": {
        "colab_type": "code",
        "id": "mGv7OLL4n_iY",
        "outputId": "9875f813-f6b6-4300-8fb5-92d966425456",
        "colab": {
          "base_uri": "https://localhost:8080/",
          "height": 185
        }
      },
      "source": [
        "from sklearn.metrics import classification_report\n",
        "print(classification_report(y_val, y_pred))"
      ],
      "execution_count": 0,
      "outputs": [
        {
          "output_type": "stream",
          "text": [
            "                         precision    recall  f1-score   support\n",
            "\n",
            "             functional       0.81      0.90      0.85      7798\n",
            "functional needs repair       0.58      0.32      0.41      1043\n",
            "         non functional       0.85      0.79      0.82      5517\n",
            "\n",
            "               accuracy                           0.81     14358\n",
            "              macro avg       0.75      0.67      0.69     14358\n",
            "           weighted avg       0.81      0.81      0.81     14358\n",
            "\n"
          ],
          "name": "stdout"
        }
      ]
    },
    {
      "cell_type": "markdown",
      "metadata": {
        "colab_type": "text",
        "id": "Z1U7HdC6n_ia"
      },
      "source": [
        "#### Wikipedia, [Precision and recall](https://en.wikipedia.org/wiki/Precision_and_recall)\n",
        "\n",
        "> Both precision and recall are based on an understanding and measure of relevance.\n",
        "\n",
        "> Suppose a computer program for recognizing dogs in photographs identifies 8 dogs in a picture containing 12 dogs and some cats. Of the 8 identified as dogs, 5 actually are dogs (true positives), while the rest are cats (false positives). The program's precision is 5/8 while its recall is 5/12.\n",
        "\n",
        "> High precision means that an algorithm returned substantially more relevant results than irrelevant ones, while high recall means that an algorithm returned most of the relevant results.\n",
        "\n",
        "<img src=\"https://upload.wikimedia.org/wikipedia/commons/thumb/2/26/Precisionrecall.svg/700px-Precisionrecall.svg.png\" width=\"400\">"
      ]
    },
    {
      "cell_type": "markdown",
      "metadata": {
        "id": "dF_Oj0kTWAnm",
        "colab_type": "text"
      },
      "source": [
        "## Follow Along"
      ]
    },
    {
      "cell_type": "markdown",
      "metadata": {
        "colab_type": "text",
        "id": "50R-Xhwdn_ie"
      },
      "source": [
        "#### [We can get precision & recall from the confusion matrix](https://en.wikipedia.org/wiki/Precision_and_recall#Definition_(classification_context))"
      ]
    },
    {
      "cell_type": "code",
      "metadata": {
        "colab_type": "code",
        "id": "eIta6Vwsn_if",
        "outputId": "588fd8f3-b73c-4ff7-b210-7a02132ba79a",
        "colab": {
          "base_uri": "https://localhost:8080/",
          "height": 389
        }
      },
      "source": [
        "cm = plot_confusion_matrix(pipeline, X_val, y_val, values_format='.0f', xticks_rotation='vertical')\n",
        "cm;"
      ],
      "execution_count": 0,
      "outputs": [
        {
          "output_type": "display_data",
          "data": {
            "image/png": "[encoded data removed]",
            "text/plain": [
              "<Figure size 432x288 with 2 Axes>"
            ]
          },
          "metadata": {
            "tags": []
          }
        }
      ]
    },
    {
      "cell_type": "markdown",
      "metadata": {
        "colab_type": "text",
        "id": "iY2rfzA4n_ih"
      },
      "source": [
        "#### How many correct predictions of \"non functional\"?"
      ]
    },
    {
      "cell_type": "code",
      "metadata": {
        "colab_type": "code",
        "id": "O-anLkCin_ii",
        "colab": {}
      },
      "source": [
        "correct_predictions_nonfunctional = 4351"
      ],
      "execution_count": 0,
      "outputs": []
    },
    {
      "cell_type": "markdown",
      "metadata": {
        "colab_type": "text",
        "id": "pYM6f99cn_ij"
      },
      "source": [
        "#### How many total predictions of \"non functional\"?"
      ]
    },
    {
      "cell_type": "code",
      "metadata": {
        "colab_type": "code",
        "id": "_qCiA8j2n_ik",
        "colab": {}
      },
      "source": [
        "total_predictions_nonfunctional = 4351 + 156 + 622"
      ],
      "execution_count": 0,
      "outputs": []
    },
    {
      "cell_type": "markdown",
      "metadata": {
        "colab_type": "text",
        "id": "mXNuZ_Rnn_il"
      },
      "source": [
        "#### What's the precision for \"non functional\"?"
      ]
    },
    {
      "cell_type": "code",
      "metadata": {
        "colab_type": "code",
        "id": "X1f7VsyXn_im",
        "outputId": "d61126a5-57b1-4956-a432-a7a9bb41c11c",
        "colab": {
          "base_uri": "https://localhost:8080/",
          "height": 34
        }
      },
      "source": [
        "correct_predictions_nonfunctional / total_predictions_nonfunctional"
      ],
      "execution_count": 0,
      "outputs": [
        {
          "output_type": "execute_result",
          "data": {
            "text/plain": [
              "0.8483135114057321"
            ]
          },
          "metadata": {
            "tags": []
          },
          "execution_count": 28
        }
      ]
    },
    {
      "cell_type": "code",
      "metadata": {
        "id": "c8XrxddYj9ob",
        "colab_type": "code",
        "outputId": "1aa07b0e-6af9-4b44-a861-5462f47aadc6",
        "colab": {
          "base_uri": "https://localhost:8080/",
          "height": 185
        }
      },
      "source": [
        "print(classification_report(y_val, y_pred))"
      ],
      "execution_count": 0,
      "outputs": [
        {
          "output_type": "stream",
          "text": [
            "                         precision    recall  f1-score   support\n",
            "\n",
            "             functional       0.81      0.90      0.85      7798\n",
            "functional needs repair       0.58      0.32      0.41      1043\n",
            "         non functional       0.85      0.79      0.82      5517\n",
            "\n",
            "               accuracy                           0.81     14358\n",
            "              macro avg       0.75      0.67      0.69     14358\n",
            "           weighted avg       0.81      0.81      0.81     14358\n",
            "\n"
          ],
          "name": "stdout"
        }
      ]
    },
    {
      "cell_type": "markdown",
      "metadata": {
        "colab_type": "text",
        "id": "ci4QguAkn_in"
      },
      "source": [
        "#### How many actual \"non functional\" waterpumps?"
      ]
    },
    {
      "cell_type": "code",
      "metadata": {
        "colab_type": "code",
        "id": "FlqxNhlYn_io",
        "colab": {}
      },
      "source": [
        "actual_nonfunctional = 1098 + 68 + 4351"
      ],
      "execution_count": 0,
      "outputs": []
    },
    {
      "cell_type": "markdown",
      "metadata": {
        "colab_type": "text",
        "id": "9IY-vC-hn_iq"
      },
      "source": [
        "#### What's the recall for \"non functional\"?"
      ]
    },
    {
      "cell_type": "code",
      "metadata": {
        "colab_type": "code",
        "id": "4U3v8lPP4KbP",
        "outputId": "1033af92-cca5-48da-dc9e-737ef2fd2ce6",
        "colab": {
          "base_uri": "https://localhost:8080/",
          "height": 34
        }
      },
      "source": [
        "correct_predictions_nonfunctional / actual_nonfunctional"
      ],
      "execution_count": 0,
      "outputs": [
        {
          "output_type": "execute_result",
          "data": {
            "text/plain": [
              "0.7886532535798442"
            ]
          },
          "metadata": {
            "tags": []
          },
          "execution_count": 31
        }
      ]
    },
    {
      "cell_type": "markdown",
      "metadata": {
        "colab_type": "text",
        "id": "ObVED_ugn_is"
      },
      "source": [
        "# Understand the relationships between precision, recall, thresholds, and predicted probabilities, to help make decisions and allocate budgets"
      ]
    },
    {
      "cell_type": "markdown",
      "metadata": {
        "id": "QjCddOORWAn5",
        "colab_type": "text"
      },
      "source": [
        "## Overview"
      ]
    },
    {
      "cell_type": "markdown",
      "metadata": {
        "colab_type": "text",
        "id": "kBcQQJ2kn_is"
      },
      "source": [
        "### Imagine this scenario...\n",
        "\n",
        "Suppose there are over 14,000 waterpumps that you _do_ have some information about, but you _don't_ know whether they are currently functional, or functional but need repair, or non-functional."
      ]
    },
    {
      "cell_type": "code",
      "metadata": {
        "colab_type": "code",
        "id": "jEEy86CHn_it",
        "outputId": "d0a9dcd6-2104-4cf6-82be-a65c11c12431",
        "colab": {
          "base_uri": "https://localhost:8080/",
          "height": 34
        }
      },
      "source": [
        "len(test)"
      ],
      "execution_count": 0,
      "outputs": [
        {
          "output_type": "execute_result",
          "data": {
            "text/plain": [
              "14358"
            ]
          },
          "metadata": {
            "tags": []
          },
          "execution_count": 32
        }
      ]
    },
    {
      "cell_type": "markdown",
      "metadata": {
        "colab_type": "text",
        "id": "3az2llAAn_iu"
      },
      "source": [
        "**You have the time and resources to go to just 2,000 waterpumps for proactive maintenance.** You want to predict, which 2,000 are most likely non-functional or in need of repair, to help you triage and prioritize your waterpump inspections.\n",
        "\n",
        "You have historical inspection data for over 59,000 other waterpumps, which you'll use to fit your predictive model."
      ]
    },
    {
      "cell_type": "code",
      "metadata": {
        "colab_type": "code",
        "id": "pEWc2zt2n_iv",
        "outputId": "37194161-f5c1-4654-edd3-d20b50186959",
        "colab": {
          "base_uri": "https://localhost:8080/",
          "height": 34
        }
      },
      "source": [
        "len(train) + len(val)"
      ],
      "execution_count": 0,
      "outputs": [
        {
          "output_type": "execute_result",
          "data": {
            "text/plain": [
              "59400"
            ]
          },
          "metadata": {
            "tags": []
          },
          "execution_count": 33
        }
      ]
    },
    {
      "cell_type": "markdown",
      "metadata": {
        "colab_type": "text",
        "id": "L2LiGJLin_ix"
      },
      "source": [
        "Based on this historical data, if you randomly chose waterpumps to inspect, then about 46% of the waterpumps would need repairs, and 54% would not need repairs."
      ]
    },
    {
      "cell_type": "code",
      "metadata": {
        "colab_type": "code",
        "id": "JliDXTp5n_iy",
        "outputId": "75fe6d90-46b3-4e1c-c344-8b4d2758c8f7",
        "colab": {
          "base_uri": "https://localhost:8080/",
          "height": 84
        }
      },
      "source": [
        "y_train.value_counts(normalize=True)"
      ],
      "execution_count": 0,
      "outputs": [
        {
          "output_type": "execute_result",
          "data": {
            "text/plain": [
              "functional                 0.543071\n",
              "non functional             0.384241\n",
              "functional needs repair    0.072688\n",
              "Name: status_group, dtype: float64"
            ]
          },
          "metadata": {
            "tags": []
          },
          "execution_count": 34
        }
      ]
    },
    {
      "cell_type": "code",
      "metadata": {
        "colab_type": "code",
        "id": "0dP7fjQJeQEX",
        "outputId": "b449498c-55bb-46ef-cff5-3cd1b80ac69b",
        "colab": {
          "base_uri": "https://localhost:8080/",
          "height": 34
        }
      },
      "source": [
        "2000 * 0.46"
      ],
      "execution_count": 0,
      "outputs": [
        {
          "output_type": "execute_result",
          "data": {
            "text/plain": [
              "920.0"
            ]
          },
          "metadata": {
            "tags": []
          },
          "execution_count": 35
        }
      ]
    },
    {
      "cell_type": "markdown",
      "metadata": {
        "colab_type": "text",
        "id": "dLnJ7Fnan_i1"
      },
      "source": [
        "**Can you do better than random at prioritizing inspections?**"
      ]
    },
    {
      "cell_type": "markdown",
      "metadata": {
        "colab_type": "text",
        "id": "sIh2Xj8fn_i3"
      },
      "source": [
        "In this scenario, we should define our target differently. We want to identify which waterpumps are non-functional _or_ are functional but needs repair:"
      ]
    },
    {
      "cell_type": "code",
      "metadata": {
        "colab_type": "code",
        "id": "7naqusI0n_i4",
        "outputId": "46a57f0c-c27c-46e6-c5c6-1ba910bf98b5",
        "colab": {
          "base_uri": "https://localhost:8080/",
          "height": 67
        }
      },
      "source": [
        "y_train = y_train != 'functional'\n",
        "y_val = y_val != 'functional'\n",
        "y_train.value_counts(normalize=True)"
      ],
      "execution_count": 0,
      "outputs": [
        {
          "output_type": "execute_result",
          "data": {
            "text/plain": [
              "False    0.543071\n",
              "True     0.456929\n",
              "Name: status_group, dtype: float64"
            ]
          },
          "metadata": {
            "tags": []
          },
          "execution_count": 36
        }
      ]
    },
    {
      "cell_type": "markdown",
      "metadata": {
        "colab_type": "text",
        "id": "P1UR1t8Zn_i6"
      },
      "source": [
        "We already made our validation set the same size as our test set."
      ]
    },
    {
      "cell_type": "code",
      "metadata": {
        "colab_type": "code",
        "id": "CHHIplB7n_i8",
        "outputId": "60c4c0ec-cb00-4e97-f03e-381e030e7ce9",
        "colab": {
          "base_uri": "https://localhost:8080/",
          "height": 34
        }
      },
      "source": [
        "len(val) == len(test)"
      ],
      "execution_count": 0,
      "outputs": [
        {
          "output_type": "execute_result",
          "data": {
            "text/plain": [
              "True"
            ]
          },
          "metadata": {
            "tags": []
          },
          "execution_count": 37
        }
      ]
    },
    {
      "cell_type": "markdown",
      "metadata": {
        "colab_type": "text",
        "id": "g41DA70rn_i9"
      },
      "source": [
        "We can refit our model, using the redefined target.\n",
        "\n",
        "Then make predictions for the validation set."
      ]
    },
    {
      "cell_type": "code",
      "metadata": {
        "colab_type": "code",
        "id": "VXL0LaXQn_i-",
        "colab": {}
      },
      "source": [
        "pipeline.fit(X_train, y_train)\n",
        "y_pred = pipeline.predict(X_val)"
      ],
      "execution_count": 0,
      "outputs": []
    },
    {
      "cell_type": "markdown",
      "metadata": {
        "id": "ZBFoVpVFWAoN",
        "colab_type": "text"
      },
      "source": [
        "## Follow Along"
      ]
    },
    {
      "cell_type": "markdown",
      "metadata": {
        "colab_type": "text",
        "id": "qISPzM43n_jA"
      },
      "source": [
        "#### Look at the confusion matrix:"
      ]
    },
    {
      "cell_type": "code",
      "metadata": {
        "colab_type": "code",
        "id": "y72fakpmn_jB",
        "outputId": "3071a6ae-1a6a-44be-ceeb-c2141bd1df2f",
        "colab": {
          "base_uri": "https://localhost:8080/",
          "height": 295
        }
      },
      "source": [
        "plot_confusion_matrix(pipeline, X_val, y_val, values_format='.0f', xticks_rotation='vertical');"
      ],
      "execution_count": 0,
      "outputs": [
        {
          "output_type": "display_data",
          "data": {
            "image/png": "[encoded data removed]",
            "text/plain": [
              "<Figure size 432x288 with 2 Axes>"
            ]
          },
          "metadata": {
            "tags": []
          }
        }
      ]
    },
    {
      "cell_type": "markdown",
      "metadata": {
        "colab_type": "text",
        "id": "M30BXR6Rn_jC"
      },
      "source": [
        "#### How many total predictions of \"True\" (\"non functional\" or \"functional needs repair\") ?"
      ]
    },
    {
      "cell_type": "code",
      "metadata": {
        "colab_type": "code",
        "id": "4IeTJFo8n_jD",
        "outputId": "62e344d7-3c44-4409-aa0a-a13b0282ff6c",
        "colab": {
          "base_uri": "https://localhost:8080/",
          "height": 34
        }
      },
      "source": [
        "5032 + 977"
      ],
      "execution_count": 0,
      "outputs": [
        {
          "output_type": "execute_result",
          "data": {
            "text/plain": [
              "6009"
            ]
          },
          "metadata": {
            "tags": []
          },
          "execution_count": 42
        }
      ]
    },
    {
      "cell_type": "markdown",
      "metadata": {
        "colab_type": "text",
        "id": "1aZSdskSn_jF"
      },
      "source": [
        "### We don't have \"budget\" to take action on all these predictions\n",
        "\n",
        "- But we can get predicted probabilities, to rank the predictions. \n",
        "- Then change the threshold, to change the number of positive predictions, based on our budget."
      ]
    },
    {
      "cell_type": "markdown",
      "metadata": {
        "colab_type": "text",
        "id": "rXkfXDDZn_jF"
      },
      "source": [
        "### Get predicted probabilities and plot the distribution"
      ]
    },
    {
      "cell_type": "code",
      "metadata": {
        "colab_type": "code",
        "id": "jwfe7j7W_jTp",
        "outputId": "ec448602-6851-40f6-8efa-67f4f1f8152b",
        "colab": {
          "base_uri": "https://localhost:8080/",
          "height": 34
        }
      },
      "source": [
        "# Discrete predictions look like this...\n",
        "pipeline.predict(X_val)"
      ],
      "execution_count": 0,
      "outputs": [
        {
          "output_type": "execute_result",
          "data": {
            "text/plain": [
              "array([ True,  True, False, ..., False,  True, False])"
            ]
          },
          "metadata": {
            "tags": []
          },
          "execution_count": 43
        }
      ]
    },
    {
      "cell_type": "code",
      "metadata": {
        "id": "D9nblZTlq5hk",
        "colab_type": "code",
        "outputId": "2c1b2052-1424-4561-9644-c3a4eca848a7",
        "colab": {
          "base_uri": "https://localhost:8080/",
          "height": 134
        }
      },
      "source": [
        "# Predicted probabilities look like this...\n",
        "pipeline.predict_proba(X_val)"
      ],
      "execution_count": 0,
      "outputs": [
        {
          "output_type": "execute_result",
          "data": {
            "text/plain": [
              "array([[0.  , 1.  ],\n",
              "       [0.26, 0.74],\n",
              "       [0.9 , 0.1 ],\n",
              "       ...,\n",
              "       [0.91, 0.09],\n",
              "       [0.41, 0.59],\n",
              "       [0.98, 0.02]])"
            ]
          },
          "metadata": {
            "tags": []
          },
          "execution_count": 44
        }
      ]
    },
    {
      "cell_type": "code",
      "metadata": {
        "id": "l8GwYmqPrq9W",
        "colab_type": "code",
        "outputId": "b966b7cb-0459-49c7-b133-1794f651b7c7",
        "colab": {
          "base_uri": "https://localhost:8080/",
          "height": 34
        }
      },
      "source": [
        "# Predicted probabilities *for the positive class* ...\n",
        "pipeline.predict_proba(X_val)[:, 1]"
      ],
      "execution_count": 0,
      "outputs": [
        {
          "output_type": "execute_result",
          "data": {
            "text/plain": [
              "array([1.  , 0.74, 0.1 , ..., 0.09, 0.59, 0.02])"
            ]
          },
          "metadata": {
            "tags": []
          },
          "execution_count": 45
        }
      ]
    },
    {
      "cell_type": "code",
      "metadata": {
        "id": "_-ibudaysEYW",
        "colab_type": "code",
        "outputId": "b8533823-add5-47f4-8eee-c5e726636cd5",
        "colab": {
          "base_uri": "https://localhost:8080/",
          "height": 34
        }
      },
      "source": [
        "# Make predicted probabilities into discrete predictions, \n",
        "# using a \"threshold\"\n",
        "threshold = 0.50\n",
        "pipeline.predict_proba(X_val)[:, 1] > threshold"
      ],
      "execution_count": 0,
      "outputs": [
        {
          "output_type": "execute_result",
          "data": {
            "text/plain": [
              "array([ True,  True, False, ..., False,  True, False])"
            ]
          },
          "metadata": {
            "tags": []
          },
          "execution_count": 53
        }
      ]
    },
    {
      "cell_type": "code",
      "metadata": {
        "id": "KMqMOIkasdre",
        "colab_type": "code",
        "outputId": "29d11e20-f9a9-4dc4-dc5c-de9fff06cca7",
        "colab": {
          "base_uri": "https://localhost:8080/",
          "height": 265
        }
      },
      "source": [
        "import seaborn as sns\n",
        "\n",
        "y_pred_proba = pipeline.predict_proba(X_val)[:, 1]\n",
        "sns.distplot(y_pred_proba);"
      ],
      "execution_count": 0,
      "outputs": [
        {
          "output_type": "display_data",
          "data": {
            "image/png": "[encoded data removed]",
            "text/plain": [
              "<Figure size 432x288 with 1 Axes>"
            ]
          },
          "metadata": {
            "tags": []
          }
        }
      ]
    },
    {
      "cell_type": "markdown",
      "metadata": {
        "colab_type": "text",
        "id": "eD6pRFKOn_jH"
      },
      "source": [
        "### Change the threshold"
      ]
    },
    {
      "cell_type": "code",
      "metadata": {
        "id": "3UKX9vygtf0Q",
        "colab_type": "code",
        "colab": {}
      },
      "source": [
        "y_pred_proba = pipeline.predict_proba(X_val)[:, 1]"
      ],
      "execution_count": 0,
      "outputs": []
    },
    {
      "cell_type": "code",
      "metadata": {
        "colab_type": "code",
        "id": "SjOhH0BMB55A",
        "outputId": "0e1c878b-e171-40e3-9291-cfde1939c5d9",
        "colab": {
          "base_uri": "https://localhost:8080/",
          "height": 315
        }
      },
      "source": [
        "threshold = 0.92\n",
        "\n",
        "y_pred = y_pred_proba > threshold\n",
        "\n",
        "ax = sns.distplot(y_pred_proba)\n",
        "ax.axvline(threshold, color='red')\n",
        "\n",
        "pd.Series(y_pred).value_counts()"
      ],
      "execution_count": 0,
      "outputs": [
        {
          "output_type": "execute_result",
          "data": {
            "text/plain": [
              "False    12325\n",
              "True      2033\n",
              "dtype: int64"
            ]
          },
          "metadata": {
            "tags": []
          },
          "execution_count": 61
        },
        {
          "output_type": "display_data",
          "data": {
            "image/png": "[encoded data removed]",
            "text/plain": [
              "<Figure size 432x288 with 1 Axes>"
            ]
          },
          "metadata": {
            "tags": []
          }
        }
      ]
    },
    {
      "cell_type": "code",
      "metadata": {
        "id": "N_q8Ywustw1l",
        "colab_type": "code",
        "outputId": "4f96ffb3-b41d-4d0f-d088-090109631dd2",
        "colab": {
          "base_uri": "https://localhost:8080/",
          "height": 696,
          "referenced_widgets": [
            "63da0508b8144031b11b06fd98f4331d",
            "19806b30f4aa46129fe7c343405e5315",
            "5bbfff5596c44df3b991a0e106b4e9d2",
            "2a3856c1cc834ef589d679e23e8b4cdd",
            "65d251225a2d4481be01f34b64d97f79",
            "c5bcc06b823b48e3bb8d8a025a40e712"
          ]
        }
      },
      "source": [
        "from ipywidgets import interact, fixed\n",
        "import seaborn as sns\n",
        "from sklearn.metrics import confusion_matrix\n",
        "from sklearn.utils.multiclass import unique_labels\n",
        "\n",
        "def my_confusion_matrix(y_true, y_pred):\n",
        "    labels = unique_labels(y_true)\n",
        "    columns = [f'Predicted {label}' for label in labels]\n",
        "    index = [f'Actual {label}' for label in labels]\n",
        "    table = pd.DataFrame(confusion_matrix(y_true, y_pred), \n",
        "                         columns=columns, index=index)\n",
        "    return sns.heatmap(table, annot=True, fmt='d', cmap='viridis')\n",
        "\n",
        "def set_threshold(y_true, y_pred_proba, threshold=0.5):\n",
        "    y_pred = y_pred_proba > threshold\n",
        "    ax = sns.distplot(y_pred_proba)\n",
        "    ax.axvline(threshold, color='red')\n",
        "    plt.show()\n",
        "    print(classification_report(y_true, y_pred))\n",
        "    my_confusion_matrix(y_true, y_pred)\n",
        "\n",
        "interact(set_threshold, \n",
        "         y_true=fixed(y_val), \n",
        "         y_pred_proba=fixed(y_pred_proba), \n",
        "         threshold=(0, 1, 0.02));"
      ],
      "execution_count": 0,
      "outputs": [
        {
          "output_type": "display_data",
          "data": {
            "application/vnd.jupyter.widget-view+json": {
              "model_id": "63da0508b8144031b11b06fd98f4331d",
              "version_minor": 0,
              "version_major": 2
            },
            "text/plain": [
              "interactive(children=(FloatSlider(value=0.5, description='threshold', max=1.0, step=0.02), Output()), _dom_cla…"
            ]
          },
          "metadata": {
            "tags": []
          }
        }
      ]
    },
    {
      "cell_type": "markdown",
      "metadata": {
        "id": "lDGCJz3cWAoZ",
        "colab_type": "text"
      },
      "source": [
        "### Or, get exactly 2,000 positive predictions"
      ]
    },
    {
      "cell_type": "markdown",
      "metadata": {
        "id": "DXZ9hEhTWAoa",
        "colab_type": "text"
      },
      "source": [
        "Identify the 2,000 waterpumps in the validation set with highest predicted probabilities."
      ]
    },
    {
      "cell_type": "code",
      "metadata": {
        "id": "IZ0YgYTjWAob",
        "colab_type": "code",
        "outputId": "783001ca-fd31-4ea4-bb03-10c18a69bd87",
        "colab": {
          "base_uri": "https://localhost:8080/",
          "height": 402
        }
      },
      "source": [
        "results = pd.DataFrame({'y_val': y_val, 'y_pred_proba': y_pred_proba})\n",
        "results"
      ],
      "execution_count": 0,
      "outputs": [
        {
          "output_type": "execute_result",
          "data": {
            "text/html": [
              "<div>\n",
              "<style scoped>\n",
              "    .dataframe tbody tr th:only-of-type {\n",
              "        vertical-align: middle;\n",
              "    }\n",
              "\n",
              "    .dataframe tbody tr th {\n",
              "        vertical-align: top;\n",
              "    }\n",
              "\n",
              "    .dataframe thead th {\n",
              "        text-align: right;\n",
              "    }\n",
              "</style>\n",
              "<table border=\"1\" class=\"dataframe\">\n",
              "  <thead>\n",
              "    <tr style=\"text-align: right;\">\n",
              "      <th></th>\n",
              "      <th>y_val</th>\n",
              "      <th>y_pred_proba</th>\n",
              "    </tr>\n",
              "  </thead>\n",
              "  <tbody>\n",
              "    <tr>\n",
              "      <th>58046</th>\n",
              "      <td>True</td>\n",
              "      <td>1.00</td>\n",
              "    </tr>\n",
              "    <tr>\n",
              "      <th>41184</th>\n",
              "      <td>True</td>\n",
              "      <td>0.74</td>\n",
              "    </tr>\n",
              "    <tr>\n",
              "      <th>27587</th>\n",
              "      <td>False</td>\n",
              "      <td>0.10</td>\n",
              "    </tr>\n",
              "    <tr>\n",
              "      <th>53109</th>\n",
              "      <td>False</td>\n",
              "      <td>0.05</td>\n",
              "    </tr>\n",
              "    <tr>\n",
              "      <th>7245</th>\n",
              "      <td>True</td>\n",
              "      <td>0.55</td>\n",
              "    </tr>\n",
              "    <tr>\n",
              "      <th>...</th>\n",
              "      <td>...</td>\n",
              "      <td>...</td>\n",
              "    </tr>\n",
              "    <tr>\n",
              "      <th>18760</th>\n",
              "      <td>False</td>\n",
              "      <td>0.68</td>\n",
              "    </tr>\n",
              "    <tr>\n",
              "      <th>36059</th>\n",
              "      <td>True</td>\n",
              "      <td>0.88</td>\n",
              "    </tr>\n",
              "    <tr>\n",
              "      <th>4759</th>\n",
              "      <td>False</td>\n",
              "      <td>0.09</td>\n",
              "    </tr>\n",
              "    <tr>\n",
              "      <th>43621</th>\n",
              "      <td>False</td>\n",
              "      <td>0.59</td>\n",
              "    </tr>\n",
              "    <tr>\n",
              "      <th>45295</th>\n",
              "      <td>False</td>\n",
              "      <td>0.02</td>\n",
              "    </tr>\n",
              "  </tbody>\n",
              "</table>\n",
              "<p>14358 rows × 2 columns</p>\n",
              "</div>"
            ],
            "text/plain": [
              "       y_val  y_pred_proba\n",
              "58046   True          1.00\n",
              "41184   True          0.74\n",
              "27587  False          0.10\n",
              "53109  False          0.05\n",
              "7245    True          0.55\n",
              "...      ...           ...\n",
              "18760  False          0.68\n",
              "36059   True          0.88\n",
              "4759   False          0.09\n",
              "43621  False          0.59\n",
              "45295  False          0.02\n",
              "\n",
              "[14358 rows x 2 columns]"
            ]
          },
          "metadata": {
            "tags": []
          },
          "execution_count": 63
        }
      ]
    },
    {
      "cell_type": "code",
      "metadata": {
        "id": "DTbOVIGxvPh1",
        "colab_type": "code",
        "colab": {}
      },
      "source": [
        "top2000 = results.sort_values(by='y_pred_proba', ascending=False)[:2000]"
      ],
      "execution_count": 0,
      "outputs": []
    },
    {
      "cell_type": "markdown",
      "metadata": {
        "id": "mkyCf4_5WAod",
        "colab_type": "text"
      },
      "source": [
        "Most of these top 2,000 waterpumps will be relevant recommendations, meaning `y_val==True`, meaning the waterpump is non-functional or needs repairs.\n",
        "\n",
        "Some of these top 2,000 waterpumps will be irrelevant recommendations, meaning `y_val==False`, meaning the waterpump is functional and does not need repairs.\n",
        "\n",
        "Let's look at a random sample of 50 out of these top 2,000:"
      ]
    },
    {
      "cell_type": "code",
      "metadata": {
        "id": "SC3pAOcsWAod",
        "colab_type": "code",
        "outputId": "144e1ca0-b68f-4b3d-87bc-37e7f78e239b",
        "colab": {
          "base_uri": "https://localhost:8080/",
          "height": 1000
        }
      },
      "source": [
        "top2000.sample(n=50)"
      ],
      "execution_count": 0,
      "outputs": [
        {
          "output_type": "execute_result",
          "data": {
            "text/html": [
              "<div>\n",
              "<style scoped>\n",
              "    .dataframe tbody tr th:only-of-type {\n",
              "        vertical-align: middle;\n",
              "    }\n",
              "\n",
              "    .dataframe tbody tr th {\n",
              "        vertical-align: top;\n",
              "    }\n",
              "\n",
              "    .dataframe thead th {\n",
              "        text-align: right;\n",
              "    }\n",
              "</style>\n",
              "<table border=\"1\" class=\"dataframe\">\n",
              "  <thead>\n",
              "    <tr style=\"text-align: right;\">\n",
              "      <th></th>\n",
              "      <th>y_val</th>\n",
              "      <th>y_pred_proba</th>\n",
              "    </tr>\n",
              "  </thead>\n",
              "  <tbody>\n",
              "    <tr>\n",
              "      <th>48680</th>\n",
              "      <td>True</td>\n",
              "      <td>0.99</td>\n",
              "    </tr>\n",
              "    <tr>\n",
              "      <th>57913</th>\n",
              "      <td>False</td>\n",
              "      <td>0.97</td>\n",
              "    </tr>\n",
              "    <tr>\n",
              "      <th>14811</th>\n",
              "      <td>True</td>\n",
              "      <td>0.98</td>\n",
              "    </tr>\n",
              "    <tr>\n",
              "      <th>43296</th>\n",
              "      <td>True</td>\n",
              "      <td>0.99</td>\n",
              "    </tr>\n",
              "    <tr>\n",
              "      <th>24643</th>\n",
              "      <td>True</td>\n",
              "      <td>0.95</td>\n",
              "    </tr>\n",
              "    <tr>\n",
              "      <th>5400</th>\n",
              "      <td>True</td>\n",
              "      <td>0.94</td>\n",
              "    </tr>\n",
              "    <tr>\n",
              "      <th>21239</th>\n",
              "      <td>True</td>\n",
              "      <td>0.97</td>\n",
              "    </tr>\n",
              "    <tr>\n",
              "      <th>38768</th>\n",
              "      <td>True</td>\n",
              "      <td>0.98</td>\n",
              "    </tr>\n",
              "    <tr>\n",
              "      <th>51774</th>\n",
              "      <td>True</td>\n",
              "      <td>0.98</td>\n",
              "    </tr>\n",
              "    <tr>\n",
              "      <th>13387</th>\n",
              "      <td>True</td>\n",
              "      <td>0.95</td>\n",
              "    </tr>\n",
              "    <tr>\n",
              "      <th>9028</th>\n",
              "      <td>True</td>\n",
              "      <td>0.97</td>\n",
              "    </tr>\n",
              "    <tr>\n",
              "      <th>30449</th>\n",
              "      <td>True</td>\n",
              "      <td>0.97</td>\n",
              "    </tr>\n",
              "    <tr>\n",
              "      <th>48243</th>\n",
              "      <td>True</td>\n",
              "      <td>0.97</td>\n",
              "    </tr>\n",
              "    <tr>\n",
              "      <th>48380</th>\n",
              "      <td>True</td>\n",
              "      <td>0.96</td>\n",
              "    </tr>\n",
              "    <tr>\n",
              "      <th>38715</th>\n",
              "      <td>True</td>\n",
              "      <td>0.94</td>\n",
              "    </tr>\n",
              "    <tr>\n",
              "      <th>33099</th>\n",
              "      <td>True</td>\n",
              "      <td>0.98</td>\n",
              "    </tr>\n",
              "    <tr>\n",
              "      <th>11025</th>\n",
              "      <td>True</td>\n",
              "      <td>0.98</td>\n",
              "    </tr>\n",
              "    <tr>\n",
              "      <th>58331</th>\n",
              "      <td>True</td>\n",
              "      <td>0.96</td>\n",
              "    </tr>\n",
              "    <tr>\n",
              "      <th>21680</th>\n",
              "      <td>True</td>\n",
              "      <td>0.98</td>\n",
              "    </tr>\n",
              "    <tr>\n",
              "      <th>57565</th>\n",
              "      <td>True</td>\n",
              "      <td>1.00</td>\n",
              "    </tr>\n",
              "    <tr>\n",
              "      <th>10895</th>\n",
              "      <td>True</td>\n",
              "      <td>0.96</td>\n",
              "    </tr>\n",
              "    <tr>\n",
              "      <th>10913</th>\n",
              "      <td>True</td>\n",
              "      <td>0.93</td>\n",
              "    </tr>\n",
              "    <tr>\n",
              "      <th>52425</th>\n",
              "      <td>True</td>\n",
              "      <td>0.99</td>\n",
              "    </tr>\n",
              "    <tr>\n",
              "      <th>54079</th>\n",
              "      <td>True</td>\n",
              "      <td>0.95</td>\n",
              "    </tr>\n",
              "    <tr>\n",
              "      <th>4560</th>\n",
              "      <td>True</td>\n",
              "      <td>0.99</td>\n",
              "    </tr>\n",
              "    <tr>\n",
              "      <th>52942</th>\n",
              "      <td>True</td>\n",
              "      <td>0.94</td>\n",
              "    </tr>\n",
              "    <tr>\n",
              "      <th>38175</th>\n",
              "      <td>True</td>\n",
              "      <td>0.99</td>\n",
              "    </tr>\n",
              "    <tr>\n",
              "      <th>32965</th>\n",
              "      <td>True</td>\n",
              "      <td>0.96</td>\n",
              "    </tr>\n",
              "    <tr>\n",
              "      <th>51040</th>\n",
              "      <td>True</td>\n",
              "      <td>0.93</td>\n",
              "    </tr>\n",
              "    <tr>\n",
              "      <th>44956</th>\n",
              "      <td>True</td>\n",
              "      <td>1.00</td>\n",
              "    </tr>\n",
              "    <tr>\n",
              "      <th>30869</th>\n",
              "      <td>True</td>\n",
              "      <td>1.00</td>\n",
              "    </tr>\n",
              "    <tr>\n",
              "      <th>16151</th>\n",
              "      <td>True</td>\n",
              "      <td>0.99</td>\n",
              "    </tr>\n",
              "    <tr>\n",
              "      <th>810</th>\n",
              "      <td>True</td>\n",
              "      <td>0.95</td>\n",
              "    </tr>\n",
              "    <tr>\n",
              "      <th>15942</th>\n",
              "      <td>True</td>\n",
              "      <td>1.00</td>\n",
              "    </tr>\n",
              "    <tr>\n",
              "      <th>51596</th>\n",
              "      <td>True</td>\n",
              "      <td>0.98</td>\n",
              "    </tr>\n",
              "    <tr>\n",
              "      <th>41495</th>\n",
              "      <td>True</td>\n",
              "      <td>1.00</td>\n",
              "    </tr>\n",
              "    <tr>\n",
              "      <th>59091</th>\n",
              "      <td>True</td>\n",
              "      <td>0.98</td>\n",
              "    </tr>\n",
              "    <tr>\n",
              "      <th>49856</th>\n",
              "      <td>True</td>\n",
              "      <td>0.95</td>\n",
              "    </tr>\n",
              "    <tr>\n",
              "      <th>16290</th>\n",
              "      <td>True</td>\n",
              "      <td>0.98</td>\n",
              "    </tr>\n",
              "    <tr>\n",
              "      <th>12318</th>\n",
              "      <td>True</td>\n",
              "      <td>0.93</td>\n",
              "    </tr>\n",
              "    <tr>\n",
              "      <th>44780</th>\n",
              "      <td>True</td>\n",
              "      <td>0.99</td>\n",
              "    </tr>\n",
              "    <tr>\n",
              "      <th>30282</th>\n",
              "      <td>True</td>\n",
              "      <td>1.00</td>\n",
              "    </tr>\n",
              "    <tr>\n",
              "      <th>33232</th>\n",
              "      <td>True</td>\n",
              "      <td>0.93</td>\n",
              "    </tr>\n",
              "    <tr>\n",
              "      <th>19865</th>\n",
              "      <td>True</td>\n",
              "      <td>0.96</td>\n",
              "    </tr>\n",
              "    <tr>\n",
              "      <th>6707</th>\n",
              "      <td>True</td>\n",
              "      <td>0.96</td>\n",
              "    </tr>\n",
              "    <tr>\n",
              "      <th>33775</th>\n",
              "      <td>True</td>\n",
              "      <td>0.95</td>\n",
              "    </tr>\n",
              "    <tr>\n",
              "      <th>14071</th>\n",
              "      <td>True</td>\n",
              "      <td>0.96</td>\n",
              "    </tr>\n",
              "    <tr>\n",
              "      <th>31214</th>\n",
              "      <td>True</td>\n",
              "      <td>0.99</td>\n",
              "    </tr>\n",
              "    <tr>\n",
              "      <th>23263</th>\n",
              "      <td>True</td>\n",
              "      <td>0.95</td>\n",
              "    </tr>\n",
              "    <tr>\n",
              "      <th>57458</th>\n",
              "      <td>True</td>\n",
              "      <td>0.96</td>\n",
              "    </tr>\n",
              "  </tbody>\n",
              "</table>\n",
              "</div>"
            ],
            "text/plain": [
              "       y_val  y_pred_proba\n",
              "48680   True          0.99\n",
              "57913  False          0.97\n",
              "14811   True          0.98\n",
              "43296   True          0.99\n",
              "24643   True          0.95\n",
              "5400    True          0.94\n",
              "21239   True          0.97\n",
              "38768   True          0.98\n",
              "51774   True          0.98\n",
              "13387   True          0.95\n",
              "9028    True          0.97\n",
              "30449   True          0.97\n",
              "48243   True          0.97\n",
              "48380   True          0.96\n",
              "38715   True          0.94\n",
              "33099   True          0.98\n",
              "11025   True          0.98\n",
              "58331   True          0.96\n",
              "21680   True          0.98\n",
              "57565   True          1.00\n",
              "10895   True          0.96\n",
              "10913   True          0.93\n",
              "52425   True          0.99\n",
              "54079   True          0.95\n",
              "4560    True          0.99\n",
              "52942   True          0.94\n",
              "38175   True          0.99\n",
              "32965   True          0.96\n",
              "51040   True          0.93\n",
              "44956   True          1.00\n",
              "30869   True          1.00\n",
              "16151   True          0.99\n",
              "810     True          0.95\n",
              "15942   True          1.00\n",
              "51596   True          0.98\n",
              "41495   True          1.00\n",
              "59091   True          0.98\n",
              "49856   True          0.95\n",
              "16290   True          0.98\n",
              "12318   True          0.93\n",
              "44780   True          0.99\n",
              "30282   True          1.00\n",
              "33232   True          0.93\n",
              "19865   True          0.96\n",
              "6707    True          0.96\n",
              "33775   True          0.95\n",
              "14071   True          0.96\n",
              "31214   True          0.99\n",
              "23263   True          0.95\n",
              "57458   True          0.96"
            ]
          },
          "metadata": {
            "tags": []
          },
          "execution_count": 70
        }
      ]
    },
    {
      "cell_type": "markdown",
      "metadata": {
        "id": "RwnOsDcOWAoh",
        "colab_type": "text"
      },
      "source": [
        "So how many of our recommendations were relevant? ..."
      ]
    },
    {
      "cell_type": "code",
      "metadata": {
        "id": "fjZIaSg7WAoh",
        "colab_type": "code",
        "outputId": "92cd849c-47bf-436c-ec21-0d0e293bfa20",
        "colab": {
          "base_uri": "https://localhost:8080/",
          "height": 50
        }
      },
      "source": [
        "trips = 2000\n",
        "print(f'Basseline: {trips * 0.46} waterpump repairs in {trips} trips')\n",
        "\n",
        "relevant_recommendations = top2000['y_val'].sum()\n",
        "print(f'With model: Predict {relevant_recommendations} waterpump repairs in {trips} trips')"
      ],
      "execution_count": 0,
      "outputs": [
        {
          "output_type": "stream",
          "text": [
            "Basseline: 920.0 waterpump repairs in 2000 trips\n",
            "With model: Predict 1972 waterpump repairs in 2000 trips\n"
          ],
          "name": "stdout"
        }
      ]
    },
    {
      "cell_type": "markdown",
      "metadata": {
        "id": "jhOpDn7bWAoj",
        "colab_type": "text"
      },
      "source": [
        "What's the precision for this subset of 2,000 predictions?"
      ]
    },
    {
      "cell_type": "code",
      "metadata": {
        "id": "L30Z8-9YWAok",
        "colab_type": "code",
        "outputId": "28e508d0-b67c-42f5-f3c0-e27cadd871ab",
        "colab": {
          "base_uri": "https://localhost:8080/",
          "height": 34
        }
      },
      "source": [
        "precision_at_k_2000 = relevant_recommendations / trips\n",
        "print('Precision @ k=2000', precision_at_k_2000)"
      ],
      "execution_count": 0,
      "outputs": [
        {
          "output_type": "stream",
          "text": [
            "Precision @ k=2000 0.986\n"
          ],
          "name": "stdout"
        }
      ]
    },
    {
      "cell_type": "markdown",
      "metadata": {
        "colab_type": "text",
        "id": "top80m_Gn_jI"
      },
      "source": [
        "### In this scenario ... \n",
        "\n",
        "Accuracy _isn't_ the best metric!\n",
        "\n",
        "Instead, change the threshold, to change the number of positive predictions, based on the budget. (You have the time and resources to go to just 2,000 waterpumps for proactive maintenance.)\n",
        "\n",
        "Then, evaluate with the precision for \"non functional\"/\"functional needs repair\".\n",
        "\n",
        "This is conceptually like **Precision@K**, where k=2,000.\n",
        "\n",
        "Read more here: [Recall and Precision at k for Recommender Systems: Detailed Explanation with examples](https://medium.com/@m_n_malaeb/recall-and-precision-at-k-for-recommender-systems-618483226c54)\n",
        "\n",
        "> Precision at k is the proportion of recommended items in the top-k set that are relevant\n",
        "\n",
        "> Mathematically precision@k is defined as: `Precision@k = (# of recommended items @k that are relevant) / (# of recommended items @k)`\n",
        "\n",
        "> In the context of recommendation systems we are most likely interested in recommending top-N items to the user. So it makes more sense to compute precision and recall metrics in the first N items instead of all the items. Thus the notion of precision and recall at k where k is a user definable integer that is set by the user to match the top-N recommendations objective.\n",
        "\n",
        "We asked, can you do better than random at prioritizing inspections?\n",
        "\n",
        "If we had randomly chosen waterpumps to inspect, we estimate that only 920 waterpumps would be repaired after 2,000 maintenance visits. (46%)\n",
        "\n",
        "But using our predictive model, in the validation set, we succesfully identified over 1,900 waterpumps in need of repair!\n",
        "\n",
        "So we will use this predictive model with the dataset of over 14,000 waterpumps that we _do_ have some information about, but we _don't_ know whether they are currently functional, or functional but need repair, or non-functional.\n",
        "\n",
        "We will predict which 2,000 are most likely non-functional or in need of repair.\n",
        "\n",
        "We estimate that approximately 1,900 waterpumps will be repaired after these 2,000 maintenance visits.\n",
        "\n",
        "So we're confident that our predictive model will help triage and prioritize waterpump inspections."
      ]
    },
    {
      "cell_type": "markdown",
      "metadata": {
        "id": "jxKAvCAtWAon",
        "colab_type": "text"
      },
      "source": [
        "### But ...\n",
        "\n",
        "This metric (~1,900 waterpumps repaired after 2,000 maintenance visits) is specific for _one_ classification problem and _one_ possible trade-off.\n",
        "\n",
        "Can we get an evaluation metric that is generic for _all_ classification problems and _all_ possible trade-offs?\n",
        "\n",
        "Yes — the most common such metric is **ROC AUC.**"
      ]
    },
    {
      "cell_type": "markdown",
      "metadata": {
        "id": "TQ8SNJ1aWAon",
        "colab_type": "text"
      },
      "source": [
        "## Get ROC AUC (Receiver Operating Characteristic, Area Under the Curve)\n",
        "\n",
        "[Wikipedia explains,](https://en.wikipedia.org/wiki/Receiver_operating_characteristic) \"A receiver operating characteristic curve, or ROC curve, is a graphical plot that illustrates the diagnostic ability of a binary classifier system as its discrimination threshold is varied. **The ROC curve is created by plotting the true positive rate (TPR) against the false positive rate (FPR) at various threshold settings.**\"\n",
        "\n",
        "ROC AUC is the area under the ROC curve. [It can be interpreted](https://stats.stackexchange.com/questions/132777/what-does-auc-stand-for-and-what-is-it) as \"the expectation that a uniformly drawn random positive is ranked before a uniformly drawn random negative.\" \n",
        "\n",
        "ROC AUC measures **how well a classifier ranks predicted probabilities.** So, when you get your classifier’s ROC AUC score, you need to **use predicted probabilities, not discrete predictions.**\n",
        "\n",
        "ROC AUC ranges **from 0 to 1.** Higher is better. A naive majority class **baseline** will have an ROC AUC score of **0.5.** \n",
        "\n",
        "#### Scikit-Learn docs\n",
        "- [User Guide: Receiver operating characteristic (ROC)](https://scikit-learn.org/stable/modules/model_evaluation.html#receiver-operating-characteristic-roc)\n",
        "- [sklearn.metrics.roc_curve](https://scikit-learn.org/stable/modules/generated/sklearn.metrics.roc_curve.html)\n",
        "- [sklearn.metrics.roc_auc_score](https://scikit-learn.org/stable/modules/generated/sklearn.metrics.roc_auc_score.html)\n",
        "\n",
        "#### More links\n",
        "- [ROC curves and Area Under the Curve explained](https://www.dataschool.io/roc-curves-and-auc-explained/)\n",
        "- [The philosophical argument for using ROC curves](https://lukeoakdenrayner.wordpress.com/2018/01/07/the-philosophical-argument-for-using-roc-curves/)"
      ]
    },
    {
      "cell_type": "code",
      "metadata": {
        "id": "bRS-JTHNWAoo",
        "colab_type": "code",
        "colab": {}
      },
      "source": [
        "# \"The ROC curve is created by plotting the true positive rate (TPR) \n",
        "# against the false positive rate (FPR) \n",
        "# at various threshold settings.\"\n",
        "\n",
        "# Use scikit-learn to calculate TPR & FPR at various thresholds\n",
        "from sklearn.metrics import roc_curve\n",
        "fpr, tpr, thresholds = roc_curve(y_val, y_pred_proba)"
      ],
      "execution_count": 0,
      "outputs": []
    },
    {
      "cell_type": "code",
      "metadata": {
        "id": "vDZysu2xWAos",
        "colab_type": "code",
        "outputId": "b2461f33-520b-4be7-dee8-7b4ac54d267f",
        "colab": {
          "base_uri": "https://localhost:8080/",
          "height": 402
        }
      },
      "source": [
        "# See the results in a table\n",
        "pd.DataFrame({\n",
        "    'False Positive Rate': fpr, \n",
        "    'True Positive Rate': tpr, \n",
        "    'Threshold': thresholds\n",
        "})"
      ],
      "execution_count": 0,
      "outputs": [
        {
          "output_type": "execute_result",
          "data": {
            "text/html": [
              "<div>\n",
              "<style scoped>\n",
              "    .dataframe tbody tr th:only-of-type {\n",
              "        vertical-align: middle;\n",
              "    }\n",
              "\n",
              "    .dataframe tbody tr th {\n",
              "        vertical-align: top;\n",
              "    }\n",
              "\n",
              "    .dataframe thead th {\n",
              "        text-align: right;\n",
              "    }\n",
              "</style>\n",
              "<table border=\"1\" class=\"dataframe\">\n",
              "  <thead>\n",
              "    <tr style=\"text-align: right;\">\n",
              "      <th></th>\n",
              "      <th>False Positive Rate</th>\n",
              "      <th>True Positive Rate</th>\n",
              "      <th>Threshold</th>\n",
              "    </tr>\n",
              "  </thead>\n",
              "  <tbody>\n",
              "    <tr>\n",
              "      <th>0</th>\n",
              "      <td>0.000000</td>\n",
              "      <td>0.000000</td>\n",
              "      <td>2.00</td>\n",
              "    </tr>\n",
              "    <tr>\n",
              "      <th>1</th>\n",
              "      <td>0.000385</td>\n",
              "      <td>0.062652</td>\n",
              "      <td>1.00</td>\n",
              "    </tr>\n",
              "    <tr>\n",
              "      <th>2</th>\n",
              "      <td>0.000641</td>\n",
              "      <td>0.114787</td>\n",
              "      <td>0.99</td>\n",
              "    </tr>\n",
              "    <tr>\n",
              "      <th>3</th>\n",
              "      <td>0.000769</td>\n",
              "      <td>0.155793</td>\n",
              "      <td>0.98</td>\n",
              "    </tr>\n",
              "    <tr>\n",
              "      <th>4</th>\n",
              "      <td>0.001282</td>\n",
              "      <td>0.196037</td>\n",
              "      <td>0.97</td>\n",
              "    </tr>\n",
              "    <tr>\n",
              "      <th>...</th>\n",
              "      <td>...</td>\n",
              "      <td>...</td>\n",
              "      <td>...</td>\n",
              "    </tr>\n",
              "    <tr>\n",
              "      <th>102</th>\n",
              "      <td>0.882662</td>\n",
              "      <td>0.996341</td>\n",
              "      <td>0.04</td>\n",
              "    </tr>\n",
              "    <tr>\n",
              "      <th>103</th>\n",
              "      <td>0.904976</td>\n",
              "      <td>0.997104</td>\n",
              "      <td>0.03</td>\n",
              "    </tr>\n",
              "    <tr>\n",
              "      <th>104</th>\n",
              "      <td>0.930239</td>\n",
              "      <td>0.998171</td>\n",
              "      <td>0.02</td>\n",
              "    </tr>\n",
              "    <tr>\n",
              "      <th>105</th>\n",
              "      <td>0.954604</td>\n",
              "      <td>0.998933</td>\n",
              "      <td>0.01</td>\n",
              "    </tr>\n",
              "    <tr>\n",
              "      <th>106</th>\n",
              "      <td>1.000000</td>\n",
              "      <td>1.000000</td>\n",
              "      <td>0.00</td>\n",
              "    </tr>\n",
              "  </tbody>\n",
              "</table>\n",
              "<p>107 rows × 3 columns</p>\n",
              "</div>"
            ],
            "text/plain": [
              "     False Positive Rate  True Positive Rate  Threshold\n",
              "0               0.000000            0.000000       2.00\n",
              "1               0.000385            0.062652       1.00\n",
              "2               0.000641            0.114787       0.99\n",
              "3               0.000769            0.155793       0.98\n",
              "4               0.001282            0.196037       0.97\n",
              "..                   ...                 ...        ...\n",
              "102             0.882662            0.996341       0.04\n",
              "103             0.904976            0.997104       0.03\n",
              "104             0.930239            0.998171       0.02\n",
              "105             0.954604            0.998933       0.01\n",
              "106             1.000000            1.000000       0.00\n",
              "\n",
              "[107 rows x 3 columns]"
            ]
          },
          "metadata": {
            "tags": []
          },
          "execution_count": 79
        }
      ]
    },
    {
      "cell_type": "code",
      "metadata": {
        "id": "fBxgkKKXWAov",
        "colab_type": "code",
        "outputId": "8a829c2f-43c0-419e-bab4-421b6df05004",
        "colab": {
          "base_uri": "https://localhost:8080/",
          "height": 295
        }
      },
      "source": [
        "# See the results on a plot. \n",
        "# This is the \"Receiver Operating Characteristic\" curve\n",
        "plt.scatter(fpr, tpr)\n",
        "plt.title('ROC curve')\n",
        "plt.xlabel('False Positive Rate')\n",
        "plt.ylabel('True Positive Rate');"
      ],
      "execution_count": 0,
      "outputs": [
        {
          "output_type": "display_data",
          "data": {
            "image/png": "[encoded data removed]",
            "text/plain": [
              "<Figure size 432x288 with 1 Axes>"
            ]
          },
          "metadata": {
            "tags": []
          }
        }
      ]
    },
    {
      "cell_type": "code",
      "metadata": {
        "id": "MpRRVxZNWAox",
        "colab_type": "code",
        "outputId": "432eb842-0a57-4d4d-d0a6-964cc6fd32db",
        "colab": {
          "base_uri": "https://localhost:8080/",
          "height": 34
        }
      },
      "source": [
        "# Use scikit-learn to calculate the area under the curve.\n",
        "from sklearn.metrics import roc_auc_score\n",
        "roc_auc_score(y_val, y_pred_proba)"
      ],
      "execution_count": 0,
      "outputs": [
        {
          "output_type": "execute_result",
          "data": {
            "text/plain": [
              "0.9024268359147749"
            ]
          },
          "metadata": {
            "tags": []
          },
          "execution_count": 81
        }
      ]
    },
    {
      "cell_type": "markdown",
      "metadata": {
        "id": "8Qr_hoKHWAo0",
        "colab_type": "text"
      },
      "source": [
        "**Recap:** ROC AUC measures how well a classifier ranks predicted probabilities. So, when you get your classifier’s ROC AUC score, you need to use predicted probabilities, not discrete predictions. \n",
        "\n",
        "Your code may look something like this:\n",
        "\n",
        "```python\n",
        "from sklearn.metrics import roc_auc_score\n",
        "y_pred_proba = model.predict_proba(X_test_transformed)[:, -1] # Probability for last class\n",
        "print('Test ROC AUC:', roc_auc_score(y_test, y_pred_proba))\n",
        "```\n",
        "\n",
        "ROC AUC ranges from 0 to 1. Higher is better. A naive majority class baseline will have an ROC AUC score of 0.5."
      ]
    }
  ]
}