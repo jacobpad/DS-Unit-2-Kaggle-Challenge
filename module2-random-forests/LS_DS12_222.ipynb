{
  "nbformat": 4,
  "nbformat_minor": 0,
  "metadata": {
    "kernelspec": {
      "display_name": "Python 3",
      "language": "python",
      "name": "python3"
    },
    "language_info": {
      "codemirror_mode": {
        "name": "ipython",
        "version": 3
      },
      "file_extension": ".py",
      "mimetype": "text/x-python",
      "name": "python",
      "nbconvert_exporter": "python",
      "pygments_lexer": "ipython3",
      "version": "3.7.3"
    },
    "colab": {
      "name": "LS_DS12_222.ipynb",
      "provenance": [],
      "include_colab_link": true
    },
    "widgets": {
      "application/vnd.jupyter.widget-state+json": {
        "411b6f0ef9cc48c6be25690c0bd41e17": {
          "model_module": "@jupyter-widgets/controls",
          "model_name": "VBoxModel",
          "state": {
            "_view_name": "VBoxView",
            "_dom_classes": [
              "widget-interact"
            ],
            "_model_name": "VBoxModel",
            "_view_module": "@jupyter-widgets/controls",
            "_model_module_version": "1.5.0",
            "_view_count": null,
            "_view_module_version": "1.5.0",
            "box_style": "",
            "layout": "IPY_MODEL_5885f7bc21c344e4b19bd6737af66a06",
            "_model_module": "@jupyter-widgets/controls",
            "children": [
              "IPY_MODEL_be6ee52126c7442d9f5932227ef54c23",
              "IPY_MODEL_9210c973ab834e9e9b9d97ab659d02ad",
              "IPY_MODEL_aba6607b5c4c48fdbb79f9b868a795d6"
            ]
          }
        },
        "5885f7bc21c344e4b19bd6737af66a06": {
          "model_module": "@jupyter-widgets/base",
          "model_name": "LayoutModel",
          "state": {
            "_view_name": "LayoutView",
            "grid_template_rows": null,
            "right": null,
            "justify_content": null,
            "_view_module": "@jupyter-widgets/base",
            "overflow": null,
            "_model_module_version": "1.2.0",
            "_view_count": null,
            "flex_flow": null,
            "width": null,
            "min_width": null,
            "border": null,
            "align_items": null,
            "bottom": null,
            "_model_module": "@jupyter-widgets/base",
            "top": null,
            "grid_column": null,
            "overflow_y": null,
            "overflow_x": null,
            "grid_auto_flow": null,
            "grid_area": null,
            "grid_template_columns": null,
            "flex": null,
            "_model_name": "LayoutModel",
            "justify_items": null,
            "grid_row": null,
            "max_height": null,
            "align_content": null,
            "visibility": null,
            "align_self": null,
            "height": null,
            "min_height": null,
            "padding": null,
            "grid_auto_rows": null,
            "grid_gap": null,
            "max_width": null,
            "order": null,
            "_view_module_version": "1.2.0",
            "grid_template_areas": null,
            "object_position": null,
            "object_fit": null,
            "grid_auto_columns": null,
            "margin": null,
            "display": null,
            "left": null
          }
        },
        "be6ee52126c7442d9f5932227ef54c23": {
          "model_module": "@jupyter-widgets/controls",
          "model_name": "IntSliderModel",
          "state": {
            "_view_name": "IntSliderView",
            "style": "IPY_MODEL_b488b69f3da0411da874d5256bfae55e",
            "_dom_classes": [],
            "description": "max_depth",
            "step": 1,
            "_model_name": "IntSliderModel",
            "orientation": "horizontal",
            "max": 6,
            "_view_module": "@jupyter-widgets/controls",
            "_model_module_version": "1.5.0",
            "value": 6,
            "_view_count": null,
            "disabled": false,
            "_view_module_version": "1.5.0",
            "min": 1,
            "continuous_update": true,
            "readout_format": "d",
            "description_tooltip": null,
            "readout": true,
            "_model_module": "@jupyter-widgets/controls",
            "layout": "IPY_MODEL_5cd8fdd036ee44b0bd1e24a6a6e16a1a"
          }
        },
        "9210c973ab834e9e9b9d97ab659d02ad": {
          "model_module": "@jupyter-widgets/controls",
          "model_name": "IntSliderModel",
          "state": {
            "_view_name": "IntSliderView",
            "style": "IPY_MODEL_5101c39a474343ef963bc670fc1a392e",
            "_dom_classes": [],
            "description": "n_estimators",
            "step": 10,
            "_model_name": "IntSliderModel",
            "orientation": "horizontal",
            "max": 40,
            "_view_module": "@jupyter-widgets/controls",
            "_model_module_version": "1.5.0",
            "value": 10,
            "_view_count": null,
            "disabled": false,
            "_view_module_version": "1.5.0",
            "min": 10,
            "continuous_update": true,
            "readout_format": "d",
            "description_tooltip": null,
            "readout": true,
            "_model_module": "@jupyter-widgets/controls",
            "layout": "IPY_MODEL_a5d9238468e546dba024cd2aae1fc73d"
          }
        },
        "aba6607b5c4c48fdbb79f9b868a795d6": {
          "model_module": "@jupyter-widgets/output",
          "model_name": "OutputModel",
          "state": {
            "_view_name": "OutputView",
            "msg_id": "",
            "_dom_classes": [],
            "_model_name": "OutputModel",
            "outputs": [
              {
                "output_type": "display_data",
                "metadata": {
                  "tags": []
                },
                "image/png": "iVBORw0KGgoAAAANSUhEUgAAAYIAAAEWCAYAAABrDZDcAAAABHNCSVQICAgIfAhkiAAAAAlwSFlz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\n",
                "text/plain": "<Figure size 432x288 with 1 Axes>"
              },
              {
                "output_type": "display_data",
                "metadata": {
                  "tags": []
                },
                "image/png": "iVBORw0KGgoAAAANSUhEUgAAAYIAAAEWCAYAAABrDZDcAAAABHNCSVQICAgIfAhkiAAAAAlwSFlz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\ncyIwMys4JwIzs4L7/zq+QpqqH+0EAAAAAElFTkSuQmCC\n",
                "text/plain": "<Figure size 432x288 with 1 Axes>"
              }
            ],
            "_view_module": "@jupyter-widgets/output",
            "_model_module_version": "1.0.0",
            "_view_count": null,
            "_view_module_version": "1.0.0",
            "layout": "IPY_MODEL_09573d6217324176abe8fc141fdb2fdf",
            "_model_module": "@jupyter-widgets/output"
          }
        },
        "b488b69f3da0411da874d5256bfae55e": {
          "model_module": "@jupyter-widgets/controls",
          "model_name": "SliderStyleModel",
          "state": {
            "_view_name": "StyleView",
            "handle_color": null,
            "_model_name": "SliderStyleModel",
            "description_width": "",
            "_view_module": "@jupyter-widgets/base",
            "_model_module_version": "1.5.0",
            "_view_count": null,
            "_view_module_version": "1.2.0",
            "_model_module": "@jupyter-widgets/controls"
          }
        },
        "5cd8fdd036ee44b0bd1e24a6a6e16a1a": {
          "model_module": "@jupyter-widgets/base",
          "model_name": "LayoutModel",
          "state": {
            "_view_name": "LayoutView",
            "grid_template_rows": null,
            "right": null,
            "justify_content": null,
            "_view_module": "@jupyter-widgets/base",
            "overflow": null,
            "_model_module_version": "1.2.0",
            "_view_count": null,
            "flex_flow": null,
            "width": null,
            "min_width": null,
            "border": null,
            "align_items": null,
            "bottom": null,
            "_model_module": "@jupyter-widgets/base",
            "top": null,
            "grid_column": null,
            "overflow_y": null,
            "overflow_x": null,
            "grid_auto_flow": null,
            "grid_area": null,
            "grid_template_columns": null,
            "flex": null,
            "_model_name": "LayoutModel",
            "justify_items": null,
            "grid_row": null,
            "max_height": null,
            "align_content": null,
            "visibility": null,
            "align_self": null,
            "height": null,
            "min_height": null,
            "padding": null,
            "grid_auto_rows": null,
            "grid_gap": null,
            "max_width": null,
            "order": null,
            "_view_module_version": "1.2.0",
            "grid_template_areas": null,
            "object_position": null,
            "object_fit": null,
            "grid_auto_columns": null,
            "margin": null,
            "display": null,
            "left": null
          }
        },
        "5101c39a474343ef963bc670fc1a392e": {
          "model_module": "@jupyter-widgets/controls",
          "model_name": "SliderStyleModel",
          "state": {
            "_view_name": "StyleView",
            "handle_color": null,
            "_model_name": "SliderStyleModel",
            "description_width": "",
            "_view_module": "@jupyter-widgets/base",
            "_model_module_version": "1.5.0",
            "_view_count": null,
            "_view_module_version": "1.2.0",
            "_model_module": "@jupyter-widgets/controls"
          }
        },
        "a5d9238468e546dba024cd2aae1fc73d": {
          "model_module": "@jupyter-widgets/base",
          "model_name": "LayoutModel",
          "state": {
            "_view_name": "LayoutView",
            "grid_template_rows": null,
            "right": null,
            "justify_content": null,
            "_view_module": "@jupyter-widgets/base",
            "overflow": null,
            "_model_module_version": "1.2.0",
            "_view_count": null,
            "flex_flow": null,
            "width": null,
            "min_width": null,
            "border": null,
            "align_items": null,
            "bottom": null,
            "_model_module": "@jupyter-widgets/base",
            "top": null,
            "grid_column": null,
            "overflow_y": null,
            "overflow_x": null,
            "grid_auto_flow": null,
            "grid_area": null,
            "grid_template_columns": null,
            "flex": null,
            "_model_name": "LayoutModel",
            "justify_items": null,
            "grid_row": null,
            "max_height": null,
            "align_content": null,
            "visibility": null,
            "align_self": null,
            "height": null,
            "min_height": null,
            "padding": null,
            "grid_auto_rows": null,
            "grid_gap": null,
            "max_width": null,
            "order": null,
            "_view_module_version": "1.2.0",
            "grid_template_areas": null,
            "object_position": null,
            "object_fit": null,
            "grid_auto_columns": null,
            "margin": null,
            "display": null,
            "left": null
          }
        },
        "d5c7e7cbee6c4e79b8e4360d08edfba0": {
          "model_module": "@jupyter-widgets/controls",
          "model_name": "VBoxModel",
          "state": {
            "_view_name": "VBoxView",
            "_dom_classes": [
              "widget-interact"
            ],
            "_model_name": "VBoxModel",
            "_view_module": "@jupyter-widgets/controls",
            "_model_module_version": "1.5.0",
            "_view_count": null,
            "_view_module_version": "1.5.0",
            "box_style": "",
            "layout": "IPY_MODEL_48a7102be65141aebfb78e30fb741bcb",
            "_model_module": "@jupyter-widgets/controls",
            "children": [
              "IPY_MODEL_5d37a530026f4a68a479ccc41fa22ac4",
              "IPY_MODEL_a38a551d797d4311b4f626e34464c68c",
              "IPY_MODEL_97e5c0b0b3fb48f1a026916d88f5b41b"
            ]
          }
        },
        "48a7102be65141aebfb78e30fb741bcb": {
          "model_module": "@jupyter-widgets/base",
          "model_name": "LayoutModel",
          "state": {
            "_view_name": "LayoutView",
            "grid_template_rows": null,
            "right": null,
            "justify_content": null,
            "_view_module": "@jupyter-widgets/base",
            "overflow": null,
            "_model_module_version": "1.2.0",
            "_view_count": null,
            "flex_flow": null,
            "width": null,
            "min_width": null,
            "border": null,
            "align_items": null,
            "bottom": null,
            "_model_module": "@jupyter-widgets/base",
            "top": null,
            "grid_column": null,
            "overflow_y": null,
            "overflow_x": null,
            "grid_auto_flow": null,
            "grid_area": null,
            "grid_template_columns": null,
            "flex": null,
            "_model_name": "LayoutModel",
            "justify_items": null,
            "grid_row": null,
            "max_height": null,
            "align_content": null,
            "visibility": null,
            "align_self": null,
            "height": null,
            "min_height": null,
            "padding": null,
            "grid_auto_rows": null,
            "grid_gap": null,
            "max_width": null,
            "order": null,
            "_view_module_version": "1.2.0",
            "grid_template_areas": null,
            "object_position": null,
            "object_fit": null,
            "grid_auto_columns": null,
            "margin": null,
            "display": null,
            "left": null
          }
        },
        "5d37a530026f4a68a479ccc41fa22ac4": {
          "model_module": "@jupyter-widgets/controls",
          "model_name": "IntSliderModel",
          "state": {
            "_view_name": "IntSliderView",
            "style": "IPY_MODEL_fb1682201cbc4f46b81a4e4fee0a424b",
            "_dom_classes": [],
            "description": "max_depth",
            "step": 1,
            "_model_name": "IntSliderModel",
            "orientation": "horizontal",
            "max": 6,
            "_view_module": "@jupyter-widgets/controls",
            "_model_module_version": "1.5.0",
            "value": 3,
            "_view_count": null,
            "disabled": false,
            "_view_module_version": "1.5.0",
            "min": 1,
            "continuous_update": true,
            "readout_format": "d",
            "description_tooltip": null,
            "readout": true,
            "_model_module": "@jupyter-widgets/controls",
            "layout": "IPY_MODEL_373315cf08d64ea8804f34458bb19b49"
          }
        },
        "a38a551d797d4311b4f626e34464c68c": {
          "model_module": "@jupyter-widgets/controls",
          "model_name": "IntSliderModel",
          "state": {
            "_view_name": "IntSliderView",
            "style": "IPY_MODEL_12f1c08651ae4dc1a8080f802d919925",
            "_dom_classes": [],
            "description": "n_estimators",
            "step": 1,
            "_model_name": "IntSliderModel",
            "orientation": "horizontal",
            "max": 5,
            "_view_module": "@jupyter-widgets/controls",
            "_model_module_version": "1.5.0",
            "value": 2,
            "_view_count": null,
            "disabled": false,
            "_view_module_version": "1.5.0",
            "min": 2,
            "continuous_update": true,
            "readout_format": "d",
            "description_tooltip": null,
            "readout": true,
            "_model_module": "@jupyter-widgets/controls",
            "layout": "IPY_MODEL_51208007c29f41abb1abacd18b941ab5"
          }
        },
        "97e5c0b0b3fb48f1a026916d88f5b41b": {
          "model_module": "@jupyter-widgets/output",
          "model_name": "OutputModel",
          "state": {
            "_view_name": "OutputView",
            "msg_id": "",
            "_dom_classes": [],
            "_model_name": "OutputModel",
            "outputs": [
              {
                "output_type": "display_data",
                "metadata": {
                  "tags": []
                },
                "image/png": "iVBORw0KGgoAAAANSUhEUgAAAYIAAAEWCAYAAABrDZDcAAAABHNCSVQICAgIfAhkiAAAAAlwSFlz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\nRK5CYII=\n",
                "text/plain": "<Figure size 432x288 with 1 Axes>"
              },
              {
                "output_type": "display_data",
                "metadata": {
                  "tags": []
                },
                "image/png": "iVBORw0KGgoAAAANSUhEUgAAAYIAAAEWCAYAAABrDZDcAAAABHNCSVQICAgIfAhkiAAAAAlwSFlz\nAAALEgAACxIB0t1+/AAAADh0RVh0U29mdHdhcmUAbWF0cGxvdGxpYiB2ZXJzaW9uMy4xLjMsIGh0\ndHA6Ly9tYXRwbG90bGliLm9yZy+AADFEAAAgAElEQVR4nO3df5xcdX3v8dd7sksSSQIhSSnmhyBJ\n9cYaI24Taaq1FRGwJnpjBaJFBUVbabHaAmqLNrf3Xom3tGpTJVIUfaCgpEq0EVD0XmoFHixpEk0o\nEkIkSWMMa0Kykiy7mc/945yFyWRm92QzZ37svJ+Pxz4y53u+c+YzJ7Pz2e/3e873q4jAzMzaV6HR\nAZiZWWM5EZiZtTknAjOzNudEYGbW5pwIzMzanBOBmVmbcyIwM2tzTgTW1iT1lvwUJR0s2X5bzq89\nTtJNkp6QdEDSOkmvz/M1zSrpaHQAZo0UERMGH0vaBrw7Ir5Xrb6kjogYqNHLnwBsA14FbAfeCNwu\naW5EbK/Ra5gNyy0CsyFI+ltJt0n6qqQDwNslFSR9RNJjkp6UdKukySXPWSTpfkn7JK2X9OpKx46I\n/RGxPCJ+FhHFiLiDJCGcVae3ZwY4EZhl8WbgK8BJwG3AnwNvAF4NzAB6gU8DSJoJrAE+BpwCXAP8\ni6Qpw72IpNOAM4HNtX8LZtU5EZgN74cR8a30r/aDwPuAj0TEzog4BPwN8IeSCsAlwJqIuCutfyew\nAThvqBeQdAJJsrkxIh7N9+2YHcljBGbDK++vnwV8S1KxrPzXgBcAF0t6c0l5J3BntYNLGgPcQtKy\nuPL4wzU7Nk4EZsMrn6J3B7AsIh4oryhpO/CFiPjjLAdOWxFfACYDb6jhQLRZZu4aMjt2nwP+l6RZ\nAJJ+TdLidN+XgTdLep2kMeklor8n6fnlB5Ek4AaScYElEdFXrzdgVsqJwOzYXU/S1XNPeiXRj4Df\nAoiIbSSDy38N7AGeAD5E5d+1FwLvJrlKaHfJ/QsX5v4OzErIC9OYmbU3twjMzNqcE4GZWZtzIjAz\na3NOBGZmba7l7iOYOnVqnH766Y0Ow8yspTz00ENPRsS0SvtaLhGcfvrpdHd3NzoMM7OWIuln1fa5\na8jMrM05EZiZtTknAjOzNudEYGbW5pwIzMzanBOBmVmbcyIwM2tzTgRmZm2ubRJBT28fG7bvo6fX\na3+YmZVquTuLR+KO9Tu5evVGOgsF+otFViydx+L50xsdlplZUxj1iaCnt4+rV2/kUH+RQyRrjV95\n23pu/tE2OsYc3SBaMn86yxbOqneYZmYNM+q7hnbsPUhn4ci3WQD6BopH1d28az93rN9Zp8jMzJrD\nqG8RzJg8nv7ikV/6nR0Fbr50AVMmjD2i/MIb7qtnaGZmTWHUtwimTBjLiqXzGNdZYOLYDsZ1Flix\ndN5RScDMrF2N+hYBwOL501k0eyo79h5kxuTxTgJmZiXaIhFA0jJwAjAzO9qo7xoyM7Oh5ZoIJJ0n\n6RFJWyRdU2H/LEk/kPQfkjZKuiDPeMzM7Gi5JQJJY4CVwPnAXOBiSXPLqv0V8LWIeDlwEfBPecVj\nZmaV5dkiWABsiYitEfEMcCuwpKxOAJPSxycB/5VjPGZmVkGeiWA6sL1ke0daVurjwNsl7QDWAn9a\n6UCSLpfULal7z549ecRqZta2Gj1YfDHwxYiYAVwAfFnSUTFFxKqI6IqIrmnTptU9SDOz0SzPRLAT\nmFmyPSMtK3UZ8DWAiLgPGAdMzTEmMzMrk2cieBCYI+kMSSeQDAavKavzBPBaAEn/jSQRuO/HzKyO\ncksEETEAXAHcBTxMcnXQJknLJS1Oq30IeI+kDcBXgXdGROQVk5mZHS3XO4sjYi3JIHBp2bUljzcD\ni/KMwczMhtbowWIzM2swJwIzszbnRGBm1uacCMzM2pwTgZlZm3MiMDNrc04EZmZtzongGPX09rFh\n+z56evsaHYqZWU20zVKVtXDH+p1cvXojnYUC/cUiK5bOY/H88glVzcxaixNBmc279nPhDfcdVT5w\nuMi67fuIgEMUAbjytvXc/KNtdIwZWcNqyfzpLFs467jiNTM7Xk4EJZYM8dd930CRAnC4pKyQlo8k\nEWzetR/AicDMGs6JoMSyhbOqfjH39Pax6Lrvc7i/+GxZZ0eBmy9dwJQJY4/5tSq1OszMGsGDxRlN\nmTCWFUvnMa6zwMSxHYzrLLBi6bwRJQEzs2biFsExWDx/OotmT2XH3oPMmDzeScDMRgUngmM0ZcJY\nJwAzG1XcNWRm1uacCMzM2pwTgZlZm8s1EUg6T9IjkrZIuqbC/r+XtD79+amkfXnGY2ZmR8ttsFjS\nGGAl8DpgB/CgpDXpOsUARMSfl9T/U+DlecVjZmaV5dkiWABsiYitEfEMcCuwZIj6FwNfzTEeMzOr\nIM9EMB3YXrK9Iy07iqQXAGcA36+y/3JJ3ZK69+zZU/NAzczaWbMMFl8E3B4RhyvtjIhVEdEVEV3T\npk2rc2hmZqNbnolgJzCzZHtGWlbJRbhbyMysIfJMBA8CcySdIekEki/7NeWVJL0YmAx4FjYzswbI\nLRFExABwBXAX8DDwtYjYJGm5pMUlVS8Cbo2IyCsWMzOrLte5hiJiLbC2rOzasu2P5xmDmZkNrVkG\ni83MrEGcCMzM2pwTgZlZm3MiMDNrc04EZmZtzonAzKzNORGYmbU5JwIzszbnRGBm1uacCMzM2pwT\ngZlZm3MiMDNrc04EZmZtzonAzKzNORGYmbU5JwIzszbnRGBm1uacCMzM2pwTgZlZmxs2EUi6UtIk\nJf5Z0jpJ52Y5uKTzJD0iaYuka6rUeaukzZI2SfrKsb4BMzM7PllaBJdGxH7gXGAy8EfAJ4Z7kqQx\nwErgfGAucLGkuWV15gAfBhZFxEuADxxb+GZmdryyJAKl/14AfDkiNpWUDWUBsCUitkbEM8CtwJKy\nOu8BVkbEXoCI+EW2sM3MrFayJIKHJN1NkgjukjQRKGZ43nRge8n2jrSs1G8AvyHp3yXdL+m8SgeS\ndLmkbknde/bsyfDSZmaWVUeGOpcB84GtEfG0pFOAd9Xw9ecArwFmAPdKemlE7CutFBGrgFUAXV1d\nUaPXNjMzsrUIzgYeiYh9kt4O/BXwVIbn7QRmlmzPSMtK7QDWRER/RDwO/JQkMZiZWZ1kSQSfBZ6W\n9DLgQ8BjwJcyPO9BYI6kMySdAFwErCmr802S1gCSppJ0FW3NFrqZmdVClkQwEBFBMtD7jxGxEpg4\n3JMiYgC4ArgLeBj4WkRskrRc0uK02l1Aj6TNwA+Av4yInpG8ETMzG5ksYwQHJH2Y5LLRV0kqAJ1Z\nDh4Ra4G1ZWXXljwO4IPpj5mZNUCWFsGFQB/J/QQ/J+nr/2SuUZmZWd0MmwjSL//VwNi06EngG3kG\nZWZm9ZNlion3ALcDN6RF00kGec3MbBTI0jX0fmARsB8gIh4Ffi3PoMzMrH6yJIK+dIoIACR1AL6p\ny8xslMiSCP6fpI8A4yW9Dvg68K18w7Ksenr72LB9Hz29fY0OxcxaVJbLR68hmWbix8B7SS4HvTHP\noCybO9bv5OrVG+ksFOgvFlmxdB6L55dP52RmNrQsiWA8cFNEfB6enV56PPB0noHZ0Hp6+7h69UYO\n9Rc5lM4BeNXqjSyaPZUpE8YO82wzs+dk6Rq6h+SLf9B44Hv5hGNZ7dh7kM7Ckf99nYUCO/YebFBE\nZtaqsiSCcRHRO7iRPn5efiFZFjMmj6e/eORs4P3FIjMmj6/yDDOzyrJ0Df1K0lkRsQ5A0isA/9lZ\nA5t37efCG+4b8fNnnDyex578FQWSBSJmnDyeP7ll3YiOdbD/ML2HBpgwroPxnWOq1lsyfzrLFs4a\nWcBm1pSyJIIPAF+X9F8kK5P9Osm0E3YcltRgUHfKhLGcNL6TvoEiYzsKdIzJ0sA72rYnf8XuA89d\ndXTqpLGcPuXEo+pt3rUfwInAbJQZNhFExIOSXgy8KC16JCL68w1r9Fu2cFZTfKFu2X2Ac/7+3iPK\ndu/v45bLFjL71CMnmT2e1ouZNa8sU0y8HzgxIn4SET8BJkj6k/xDs3pYv33fMZWb2eiTpS/hPaVL\nR6YLzb8nv5CsnubPPPmYys1s9MmSCMZI0uBGeh/BCfmFZPU0+9SJXHL2kV1Ul5w966huITMbvbIM\nFt8J3CZpcPbR96ZlNkosX/JSLnnl6azfvo/5M092EjBrM1kSwdUkX/5/nG5/F08xMerMPnWiE4BZ\nm8qyME0xIj4bEW9Jf26IiMNZDi7pPEmPSNoi6ZoK+98paY+k9enPu0fyJszMbOSGbRFIepwK005H\nxAuHed4YYCXwOmAH8KCkNRGxuazqbRFxRfaQzcyslrJ0DXWVPB4H/CFwSobnLQC2RMRWAEm3AkuA\n8kRgZmYNlKVrqKfkZ2dE/APwhgzHng5sL9nekZaVWyppo6TbJc2sdCBJl0vqltS9Z8+eDC9tZmZZ\nZekaOqtks0DSQsjSksjiW8BXI6JP0nuBm4HfL68UEauAVQBdXV1eHc3MrIayfKH/XcnjAWAb8NYM\nz9sJlP6FPyMte1ZE9JRs3gisyHBcMzOroSxzDf3eCI/9IDBH0hkkCeAiYFlpBUmnRcSudHMx8PAI\nX8vMzEYoy1xDV0qapMSNktZJOne450XEAHAFcBfJF/zXImKTpOWSFqfV/kzSJkkbgD8D3jnyt2Jm\nZiORpWvo0oj4lKTXA1OAPwK+DNw93BMjYi3JGselZdeWPP4w8OFjitjMzGoqy1xDg/MMXQB8KSI2\nlZSZmVmLy5IIHpJ0N0kiuEvSRKA4zHPMzKxFZOkaugyYD2yNiKclTQHelW9Y1qp6evvYsfcgMyaP\nZ8qEsY0Ox8wyyHLVUBFYV7LdA/RUf4a1qzvW7+Tq1RvpLBToLxZZsXQei2uwJKeZ5atWN4ZZm9i8\na3/FJSsHDhdZt30fEXAo7Tm88rb13PyjbRXXUl4yf3pTLNVpZkMkAklnRMTj9QzGmtuSIf667xso\nUgBKp6UtpOXliWDzrv0ATgRmTWKoFsHtwCsk3RMRr61XQNa8li2cVfXLu6e3j0XXfZ/D/c9dR9DZ\nUeDmSxccNVZQqUVhZo0zVCIoSPoI8BuSPli+MyKuzy8sazVTJoxlxdJ5XFU2RuABY7PmN1QiuAh4\nU1rHS1fZsBbPn86i2VN91ZBZi6maCCLiEeA6SRsj4jt1jMla2JQJY50AzFpMlhvKfiTp+sH1ACT9\nnaSTco/MzMzqIksiuAk4QDL19FuB/cAX8gzKzMzqJ8t9BGdGxNKS7b+RtD6vgMzMrL6ytAgOSvqd\nwQ1Ji4CD+YVkZmb1lKVF8D7gSyXjAnuBd+QXkpmZ1VOWuYY2AC+TNCnd3p97VGZmVjeZ5xpyAjAz\nG52yjBGYmdko5kRgZtbmsixe/zxJfy3p8+n2HEl/kOXgks6T9IikLZKuGaLeUkkhqSt76GZmVgtZ\nWgRfAPqAs9PtncDfDvckSWOAlcD5wFzgYklzK9SbCFwJPJAxZjMzq6EsieDMiFgB9ANExNNkW7x+\nAbAlIrZGxDPArcCSCvX+B3AdcChbyGZmVktZEsEzksYDASDpTJIWwnCmA9tLtnekZc+SdBYwMyL+\ndagDSbp8cK6jPXv2ZHhpMzPLKksi+DhwJzBT0i3APcDVx/vCkgrA9cCHhqsbEasioisiuqZNm3a8\nL21mZiWy3FB2t6SHgFeSdAldGRFPZjj2TmBmyfaMtGzQROA3gf8rCeDXgTWSFkdEd8b4zczsOGW5\nauieiOiJiH+NiG9HxJOS7slw7AeBOZLOkHQCyUI3awZ3RsRTETE1Ik6PiNOB+wEnATOzOhtq8fpx\nwPOAqZIm89wA8STK+voriYgBSVcAdwFjgJsiYpOk5UB3RKwZ+ghmZlYPQ3UNvRf4APB84CGeSwT7\ngX/McvCIWAusLSu7tkrd12Q5ppmZ1dZQS1V+CviUpD+NiM/UMSYzM6ujLIPFn5H0myQ3hY0rKf9S\nnoGZmVl9DJsIJH0MeA1JIlhLcqfwDwEnAjOzUSDLfQRvAV4L/Dwi3gW8DPDi9WZmo0SmpSojoggM\npIvT/IIj7w8wM7MWlmVhmm5JJwOfJ7l6qBe4L9eozMysboZMBEpu+f3fEbEP+JykO4FJEbGxLtGZ\nmVnuhkwEERGS1gIvTbe31SMoMzOrnyxjBOsk/VbukZiZWUNkGSNYCLxN0s+AX5HcYRwRMS/XyMzM\nrC6yJILX5x6FmZk1TJY7i39Wj0DMzKwxsowRmJnZKOZEYGbW5pwIrCn19PaxYfs+enqzLI+dvy27\nD3B793a27D7Q6FDMai7LYLFZXd2xfidXr95IZ6FAf7HIiqXzWDx/2LWQcnPtN3/Ml+5/4tntS86e\nxfIlL21YPGa1pohodAzHpKurK7q7vZplK7vwhvvYvGs/c0+bdNS+gcNF1m3fR+nHUoKzZp5Mx5j6\nN2AP9h9m446njiqfN+MkxneOOaJsyfzpLFs4q16hHbee3j527D3IjMnjmTJhbKPDsZxJeigiuirt\nc4vA6m7JEH/d9w0UKQCHS8oKaXkjEkHvoYGq5aWJYPOu/QAtkwiardVljZVrIpB0HvApkjWLb4yI\nT5Ttfx/wfpLf+17g8ojYnGdM1njLFs6q+oXZ09vHouu+z+H+4rNlnR0Fbr50QUP+at2y+wDn/P29\nR5Wv+qNXMPvUic9uX3hD68zD2NPbx9WrN3Kov8ghkvN81eqNLJo91S2DNpXbn1iSxgArSRaymQtc\nLGluWbWvRMRLI2I+sAK4Pq94rDVMmTCWFUvnMa6zwMSxHYzrLLBi6byGfUHNPnUil5x9ZNK65OxZ\nRySBVrNj70E6C0f+6ncWCuzYe7BBEVmj5dkiWABsiYitAJJuBZYAz/7FHxH7S+qfCLTWgIXlYvH8\n6SyaPbVp+q+XL3kpl7zydNZv38f8mSe3dBIAmDF5PP3F4hFl/cUiMyaPb1BE1mh5JoLpwPaS7R0k\n8xYdQdL7gQ8CJwC/X+lAki4HLgeYNas1+mDt+EyZMLbhCaDU7FMntnwCGDTY6rqqbIygmc631VfD\nB4sjYiWwUtIy4K+Ad1SoswpYBclVQ/WN0Gz0abZWlzVWnolgJ0cuaTkjLavmVuCzOcZjZiWardVl\njZPn9XgPAnMknSHpBOAiYE1pBUlzSjbfADyaYzxmZlZBbi2CiBiQdAVwF8nlozdFxCZJy4HuiFgD\nXCHpHKAf2EuFbiEzM8tXrmMEEbEWWFtWdm3J4yvzfH0zMxueJ50zM2tzTgRmZm2u4ZePmo0Wm3ft\nb6mpJrJqtcn07Ng5EZjVwFAT6Q0aOFykb6DI2I5CQybQG4lWm0zPRsaJwKwGhppID1p3ts/R2MKx\no7XGnyVmLax0ts8DfQMc6i9y1eqNTbP6mpkTgVnOPNunNTsnArOcebZPa3ZOBGY5q/UaCz29fWzY\nvs9dS1YzHiw2q4NazfbZqoPO1tycCMzq5Hhn+/QSk5YXdw2ZtQgPOltenAjMWoQHnS0vTgRmLaLW\ng85mgzxGYNZCvMSk5cGJwKzFeIlJqzV3DZmZtTknAjOzNudEYGbW5nJNBJLOk/SIpC2Srqmw/4OS\nNkvaKOkeSS/IMx4zMztabolA0hhgJXA+MBe4WNLcsmr/AXRFxDzgdmBFXvGYmVllebYIFgBbImJr\nRDwD3AosKa0QET+IiKfTzfuBGTnGY2ZmFeSZCKYD20u2d6Rl1VwGfKfSDkmXS+qW1L1nz54ahmhm\nZk0xWCzp7UAX8MlK+yNiVUR0RUTXtGnT6hucmdkol+cNZTuBmSXbM9KyI0g6B/go8LsR4QnWzczq\nLM8WwYPAHElnSDoBuAhYU1pB0suBG4DFEfGLHGMxM7MqcksEETEAXAHcBTwMfC0iNklaLmlxWu2T\nwATg65LWS1pT5XBmZnXV/XgP19/9CN2P9zQ6lNzlOtdQRKwF1paVXVvy+Jw8X9/MbCTefuP9/HBL\nkgA+/f0tvGr2FL787lc2OKr8NMVgsZm1rtG2hnL34z3PJoFB/7alZ1S3DDz7qJmN2GhcQ/neR5+s\nWt51xpQ6R1MfTgRmNiLNuoZyT2/fsOs1fOWBJ7hj/VEXMQJw4FB/xfLvPbybBx7/Zc3iHIm5z5/E\nx974kpof14nAzEZkcA3lwSQAz62h3KhEkLWFcsf6nWzetZ+5p006at/EcZ2cNK6Dpw4NPFt20rgO\nJo7rzDX24QwcLvLkgT56evtqfn6dCMxsRJptDeVjbaHMPW0St7337KrH6368h3sffZJXz5na8C6h\nwQT30929LLru+zXvgvNgsZmNSLOtoTzYQik12EIZia4zpvDBc1/U8CRQmuAO9A1wqL/IVas31nRw\n3i0CMxvS5l37ufCG+6ruf8lpk+gbKDK2o8AtDzzBLQ88UcfonjNwuEjvMwNHlPU+M8Dyb22iY8yR\nCaJat1AzqkcXnBOBmVW1JEP3Q8eYwlFftI3QMabAmVNP5LEnf0UBKAJnTj2xYmxzT5uU6b01g3p0\nwTkRmFlVyxbOYtnCWY0O45hkuWqolQx2wV1VNghey/fmRGBmTaFWX+BTJowdFQmg1OL501k0e2pu\nCc6JwMwabjTemFZreSa4xnfsmVlbq8dVMTY0JwIza6haX/Zpx86JwMwaqtluTGtHTgRm1lDNdmNa\nO/JgsZk1XN5XxdjQnAjMrCmMxss+W4W7hszM2lyuiUDSeZIekbRF0jUV9r9a0jpJA5LekmcsZmZW\nWW6JQNIYYCVwPjAXuFjS3LJqTwDvBL6SVxxmZja0PMcIFgBbImIrgKRbgSXA5sEKEbEt3VesdAAz\nM8tfnl1D04HtJds70jIzM2siLTFYLOlySd2Suvfs2dPocMzMRpU8E8FOYGbJ9oy07JhFxKqI6IqI\nrmnTptUkODMzS+SZCB4E5kg6Q9IJwEXAmhxfz8zMRkARkd/BpQuAfwDGADdFxP+UtBzojog1kn4L\n+AYwGTgE/DwiXjLMMfcAP6uwayrwZE3fQP4cc320WsytFi845no5nphfEBEVu1RyTQT1JKk7Iroa\nHcexcMz10Woxt1q84JjrJa+YW2Kw2MzM8uNEYGbW5kZTIljV6ABGwDHXR6vF3GrxgmOul1xiHjVj\nBGZmNjKjqUVgZmYj4ERgZtbmWioRSJop6QeSNkvaJOnKCnVeI+kpSevTn2sbEWtZTNsk/TiNp7vC\nfkn6dDpd90ZJZzUizpJ4XlRy/tZL2i/pA2V1Gn6eJd0k6ReSflJSdoqk70p6NP13cpXnviOt86ik\ndzQw3k9K+s/0//0bkk6u8twhP0N1jvnjknaW/N9fUOW5Q05DX+eYbyuJd5uk9VWeW/fzXO17ra6f\n5YhomR/gNOCs9PFE4KfA3LI6rwG+3ehYy2LaBkwdYv8FwHcAAa8EHmh0zCWxjQF+TnIzSlOdZ+DV\nwFnAT0rKVgDXpI+vAa6r8LxTgK3pv5PTx5MbFO+5QEf6+LpK8Wb5DNU55o8Df5Hhc/MY8ELgBGBD\n+e9qPWMu2/93wLXNcp6rfa/V87PcUi2CiNgVEevSxweAhxkdM5ouAb4UifuBkyWd1uigUq8FHouI\nSndzN1RE3Av8sqx4CXBz+vhm4E0Vnvp64LsR8cuI2At8Fzgvt0BTleKNiLsjYiDdvJ9kTq6mUeUc\nZ/HsNPQR8QwwOA197oaKWZKAtwJfrUcsWQzxvVa3z3JLJYJSkk4HXg48UGH32ZI2SPqOpCGnrKiT\nAO6W9JCkyyvsb+Ypuy+i+i9Ns51ngFMjYlf6+OfAqRXqNOv5vpSkZVjJcJ+hersi7c66qUqXRbOe\n41cBuyPi0Sr7G3qey77X6vZZbslEIGkCsBr4QETsL9u9jqQb42XAZ4Bv1ju+Cn4nIs4iWa3t/ZJe\n3eiAslAyWeBi4OsVdjfjeT5CJG3nlrg+WtJHgQHglipVmukz9FngTGA+sIukq6VVXMzQrYGGneeh\nvtfy/iy3XCKQ1Elysm6JiH8p3x8R+yOiN328FuiUNLXOYZbHtDP99xckk+wtKKtSsym7a+x8YF1E\n7C7f0YznObV7sFst/fcXFeo01fmW9E7gD4C3pb/wR8nwGaqbiNgdEYcjogh8vkosTXWOASR1AP8d\nuK1anUad5yrfa3X7LLdUIkj79/4ZeDgirq9S59fTekhaQPIee+oX5VHxnChp4uBjksHBn5RVWwNc\nkl499ErgqZImYSNV/eup2c5ziTXA4JUT7wDuqFDnLuBcSZPTbo1z07K6k3QecBWwOCKerlIny2eo\nbsrGr95cJZZmnIb+HOA/I2JHpZ2NOs9DfK/V77Ncz9HxGoyu/w5J82gjsD79uQB4H/C+tM4VwCaS\nqxTuB367wTG/MI1lQxrXR9Py0pgFrCS5yuLHQFcTnOsTSb7YTyopa6rzTJKkdgH9JH2jlwFTgHuA\nR4HvAaekdbuAG0ueeymwJf15VwPj3ULSxzv4ef5cWvf5wNqhPkMNjPnL6ed0I8mX1WnlMafbF5Bc\nAfNYo2NOy784+Pktqdvw8zzE91rdPsueYsLMrM21VNeQmZnVnhOBmVmbcyIwM2tzTgRmZm3OicDM\nrM11NDoAs2Yh6eNALzAJuDcivlel3puAn0bE5jqGZ5YbtwjMykTEtdWSQOpNJLNDmo0KTgTW1iR9\nVNJPJf0QeFFa9kVJb0kffyKdJ36jpP8j6bdJ5l/6ZDpn/ZmS3iPpwXQCvtWSnldynE9L+pGkrYPH\nTPddnc57v0HSJ9KyMyXdmU549m+SXlz3E2JtyV1D1rYkvYJk6oP5JL8L64CHSvZPIZlC4cUREZJO\njoh9ktaQrMVwe1pvX0R8Pn38tyR3334mPcxpJHeOvpjkLtzbJZ1PMsXwwoh4WtIpad1VJHe+Pipp\nIfBPwO/neArMACcCa2+vAr4R6Rw/6Rd8qaeAQ8A/S/o28O0qx/nNNAGcDEzgyLlevhnJ5GybJQ1O\nI3wO8IXB142IX6YzT/428PV0CieAscf17swyciIwqyIiBtIJ9V4LvIVkfqVKf6F/EXhTRGxIZxJ9\nTcm+vpLHoroCsC8i5h9PzGYj4TECa2f3Am+SND6ddfKNpTvTv9JPimSa7T8HXpbuOkCypOCgicCu\ndCrht2V43e8C7yoZSzglklnkTAIAAACOSURBVPnnH5f0h2mZJL1sqIOY1YoTgbWtSJYHvI1ktsnv\nkEydXGoi8G1JG4EfAh9My28F/lLSf0g6E/hrkhWl/h34zwyveyfJeEG3kkXU/yLd9TbgMkmDs1/W\nZWlHM88+ambW5twiMDNrc04EZmZtzonAzKzNORGYmbU5JwIzszbnRGBm1uacCMzM2tz/B8x/0zQd\nIP39AAAAAElFTkSuQmCC\n",
                "text/plain": "<Figure size 432x288 with 1 Axes>"
              },
              {
                "output_type": "display_data",
                "metadata": {
                  "tags": []
                },
                "image/png": "iVBORw0KGgoAAAANSUhEUgAAAYIAAAEWCAYAAABrDZDcAAAABHNCSVQICAgIfAhkiAAAAAlwSFlz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\nATMEDXFgYaIxAAAAAElFTkSuQmCC\n",
                "text/plain": "<Figure size 432x288 with 1 Axes>"
              }
            ],
            "_view_module": "@jupyter-widgets/output",
            "_model_module_version": "1.0.0",
            "_view_count": null,
            "_view_module_version": "1.0.0",
            "layout": "IPY_MODEL_6160ec57004d4c2cb5f2f7b3c5d9f529",
            "_model_module": "@jupyter-widgets/output"
          }
        },
        "fb1682201cbc4f46b81a4e4fee0a424b": {
          "model_module": "@jupyter-widgets/controls",
          "model_name": "SliderStyleModel",
          "state": {
            "_view_name": "StyleView",
            "handle_color": null,
            "_model_name": "SliderStyleModel",
            "description_width": "",
            "_view_module": "@jupyter-widgets/base",
            "_model_module_version": "1.5.0",
            "_view_count": null,
            "_view_module_version": "1.2.0",
            "_model_module": "@jupyter-widgets/controls"
          }
        },
        "373315cf08d64ea8804f34458bb19b49": {
          "model_module": "@jupyter-widgets/base",
          "model_name": "LayoutModel",
          "state": {
            "_view_name": "LayoutView",
            "grid_template_rows": null,
            "right": null,
            "justify_content": null,
            "_view_module": "@jupyter-widgets/base",
            "overflow": null,
            "_model_module_version": "1.2.0",
            "_view_count": null,
            "flex_flow": null,
            "width": null,
            "min_width": null,
            "border": null,
            "align_items": null,
            "bottom": null,
            "_model_module": "@jupyter-widgets/base",
            "top": null,
            "grid_column": null,
            "overflow_y": null,
            "overflow_x": null,
            "grid_auto_flow": null,
            "grid_area": null,
            "grid_template_columns": null,
            "flex": null,
            "_model_name": "LayoutModel",
            "justify_items": null,
            "grid_row": null,
            "max_height": null,
            "align_content": null,
            "visibility": null,
            "align_self": null,
            "height": null,
            "min_height": null,
            "padding": null,
            "grid_auto_rows": null,
            "grid_gap": null,
            "max_width": null,
            "order": null,
            "_view_module_version": "1.2.0",
            "grid_template_areas": null,
            "object_position": null,
            "object_fit": null,
            "grid_auto_columns": null,
            "margin": null,
            "display": null,
            "left": null
          }
        },
        "12f1c08651ae4dc1a8080f802d919925": {
          "model_module": "@jupyter-widgets/controls",
          "model_name": "SliderStyleModel",
          "state": {
            "_view_name": "StyleView",
            "handle_color": null,
            "_model_name": "SliderStyleModel",
            "description_width": "",
            "_view_module": "@jupyter-widgets/base",
            "_model_module_version": "1.5.0",
            "_view_count": null,
            "_view_module_version": "1.2.0",
            "_model_module": "@jupyter-widgets/controls"
          }
        },
        "51208007c29f41abb1abacd18b941ab5": {
          "model_module": "@jupyter-widgets/base",
          "model_name": "LayoutModel",
          "state": {
            "_view_name": "LayoutView",
            "grid_template_rows": null,
            "right": null,
            "justify_content": null,
            "_view_module": "@jupyter-widgets/base",
            "overflow": null,
            "_model_module_version": "1.2.0",
            "_view_count": null,
            "flex_flow": null,
            "width": null,
            "min_width": null,
            "border": null,
            "align_items": null,
            "bottom": null,
            "_model_module": "@jupyter-widgets/base",
            "top": null,
            "grid_column": null,
            "overflow_y": null,
            "overflow_x": null,
            "grid_auto_flow": null,
            "grid_area": null,
            "grid_template_columns": null,
            "flex": null,
            "_model_name": "LayoutModel",
            "justify_items": null,
            "grid_row": null,
            "max_height": null,
            "align_content": null,
            "visibility": null,
            "align_self": null,
            "height": null,
            "min_height": null,
            "padding": null,
            "grid_auto_rows": null,
            "grid_gap": null,
            "max_width": null,
            "order": null,
            "_view_module_version": "1.2.0",
            "grid_template_areas": null,
            "object_position": null,
            "object_fit": null,
            "grid_auto_columns": null,
            "margin": null,
            "display": null,
            "left": null
          }
        },
        "5339d0e3907a45f3858ab9e97ffbf260": {
          "model_module": "@jupyter-widgets/controls",
          "model_name": "VBoxModel",
          "state": {
            "_view_name": "VBoxView",
            "_dom_classes": [
              "widget-interact"
            ],
            "_model_name": "VBoxModel",
            "_view_module": "@jupyter-widgets/controls",
            "_model_module_version": "1.5.0",
            "_view_count": null,
            "_view_module_version": "1.5.0",
            "box_style": "",
            "layout": "IPY_MODEL_8c92ea2a519e40be82309bdccfa887cf",
            "_model_module": "@jupyter-widgets/controls",
            "children": [
              "IPY_MODEL_5071a3673a734065bc3d1de04dc7a710",
              "IPY_MODEL_8d2e87e08c4540e1badf30bac0894945",
              "IPY_MODEL_fff3d00c420f41a18127e909c1f721ba"
            ]
          }
        },
        "8c92ea2a519e40be82309bdccfa887cf": {
          "model_module": "@jupyter-widgets/base",
          "model_name": "LayoutModel",
          "state": {
            "_view_name": "LayoutView",
            "grid_template_rows": null,
            "right": null,
            "justify_content": null,
            "_view_module": "@jupyter-widgets/base",
            "overflow": null,
            "_model_module_version": "1.2.0",
            "_view_count": null,
            "flex_flow": null,
            "width": null,
            "min_width": null,
            "border": null,
            "align_items": null,
            "bottom": null,
            "_model_module": "@jupyter-widgets/base",
            "top": null,
            "grid_column": null,
            "overflow_y": null,
            "overflow_x": null,
            "grid_auto_flow": null,
            "grid_area": null,
            "grid_template_columns": null,
            "flex": null,
            "_model_name": "LayoutModel",
            "justify_items": null,
            "grid_row": null,
            "max_height": null,
            "align_content": null,
            "visibility": null,
            "align_self": null,
            "height": null,
            "min_height": null,
            "padding": null,
            "grid_auto_rows": null,
            "grid_gap": null,
            "max_width": null,
            "order": null,
            "_view_module_version": "1.2.0",
            "grid_template_areas": null,
            "object_position": null,
            "object_fit": null,
            "grid_auto_columns": null,
            "margin": null,
            "display": null,
            "left": null
          }
        },
        "5071a3673a734065bc3d1de04dc7a710": {
          "model_module": "@jupyter-widgets/controls",
          "model_name": "IntSliderModel",
          "state": {
            "_view_name": "IntSliderView",
            "style": "IPY_MODEL_b34785c39859488db1677cd5ccf85710",
            "_dom_classes": [],
            "description": "max_depth",
            "step": 1,
            "_model_name": "IntSliderModel",
            "orientation": "horizontal",
            "max": 6,
            "_view_module": "@jupyter-widgets/controls",
            "_model_module_version": "1.5.0",
            "value": 6,
            "_view_count": null,
            "disabled": false,
            "_view_module_version": "1.5.0",
            "min": 1,
            "continuous_update": true,
            "readout_format": "d",
            "description_tooltip": null,
            "readout": true,
            "_model_module": "@jupyter-widgets/controls",
            "layout": "IPY_MODEL_5d8a66c96dd945c0827cde792b2ef2bd"
          }
        },
        "8d2e87e08c4540e1badf30bac0894945": {
          "model_module": "@jupyter-widgets/controls",
          "model_name": "IntSliderModel",
          "state": {
            "_view_name": "IntSliderView",
            "style": "IPY_MODEL_0a460c3fc1224a92b1b4e096b3ddddf4",
            "_dom_classes": [],
            "description": "n_estimators",
            "step": 10,
            "_model_name": "IntSliderModel",
            "orientation": "horizontal",
            "max": 40,
            "_view_module": "@jupyter-widgets/controls",
            "_model_module_version": "1.5.0",
            "value": 20,
            "_view_count": null,
            "disabled": false,
            "_view_module_version": "1.5.0",
            "min": 10,
            "continuous_update": true,
            "readout_format": "d",
            "description_tooltip": null,
            "readout": true,
            "_model_module": "@jupyter-widgets/controls",
            "layout": "IPY_MODEL_8c6576320f7141f5955cf0e2aa738f55"
          }
        },
        "fff3d00c420f41a18127e909c1f721ba": {
          "model_module": "@jupyter-widgets/output",
          "model_name": "OutputModel",
          "state": {
            "_view_name": "OutputView",
            "msg_id": "",
            "_dom_classes": [],
            "_model_name": "OutputModel",
            "outputs": [
              {
                "output_type": "display_data",
                "metadata": {
                  "tags": []
                },
                "image/png": "iVBORw0KGgoAAAANSUhEUgAAAVoAAAEFCAYAAACiiS9UAAAABHNCSVQICAgIfAhkiAAAAAlwSFlz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\noDUzy8yB1swsMwdaM7PM/gsFujc0vfu3OQAAAABJRU5ErkJggg==\n",
                "text/plain": "<Figure size 432x288 with 2 Axes>"
              },
              {
                "output_type": "display_data",
                "metadata": {
                  "tags": []
                },
                "image/png": "iVBORw0KGgoAAAANSUhEUgAAAVoAAAEFCAYAAACiiS9UAAAABHNCSVQICAgIfAhkiAAAAAlwSFlz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\n7P8DGuwEoMYvUEsAAAAASUVORK5CYII=\n",
                "text/plain": "<Figure size 432x288 with 2 Axes>"
              },
              {
                "output_type": "display_data",
                "metadata": {
                  "tags": []
                },
                "image/png": "iVBORw0KGgoAAAANSUhEUgAAAVoAAAEFCAYAAACiiS9UAAAABHNCSVQICAgIfAhkiAAAAAlwSFlz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\nAAAAAElFTkSuQmCC\n",
                "text/plain": "<Figure size 432x288 with 2 Axes>"
              }
            ],
            "_view_module": "@jupyter-widgets/output",
            "_model_module_version": "1.0.0",
            "_view_count": null,
            "_view_module_version": "1.0.0",
            "layout": "IPY_MODEL_1a6b2c78bf324341b2716abd28629354",
            "_model_module": "@jupyter-widgets/output"
          }
        },
        "b34785c39859488db1677cd5ccf85710": {
          "model_module": "@jupyter-widgets/controls",
          "model_name": "SliderStyleModel",
          "state": {
            "_view_name": "StyleView",
            "handle_color": null,
            "_model_name": "SliderStyleModel",
            "description_width": "",
            "_view_module": "@jupyter-widgets/base",
            "_model_module_version": "1.5.0",
            "_view_count": null,
            "_view_module_version": "1.2.0",
            "_model_module": "@jupyter-widgets/controls"
          }
        },
        "5d8a66c96dd945c0827cde792b2ef2bd": {
          "model_module": "@jupyter-widgets/base",
          "model_name": "LayoutModel",
          "state": {
            "_view_name": "LayoutView",
            "grid_template_rows": null,
            "right": null,
            "justify_content": null,
            "_view_module": "@jupyter-widgets/base",
            "overflow": null,
            "_model_module_version": "1.2.0",
            "_view_count": null,
            "flex_flow": null,
            "width": null,
            "min_width": null,
            "border": null,
            "align_items": null,
            "bottom": null,
            "_model_module": "@jupyter-widgets/base",
            "top": null,
            "grid_column": null,
            "overflow_y": null,
            "overflow_x": null,
            "grid_auto_flow": null,
            "grid_area": null,
            "grid_template_columns": null,
            "flex": null,
            "_model_name": "LayoutModel",
            "justify_items": null,
            "grid_row": null,
            "max_height": null,
            "align_content": null,
            "visibility": null,
            "align_self": null,
            "height": null,
            "min_height": null,
            "padding": null,
            "grid_auto_rows": null,
            "grid_gap": null,
            "max_width": null,
            "order": null,
            "_view_module_version": "1.2.0",
            "grid_template_areas": null,
            "object_position": null,
            "object_fit": null,
            "grid_auto_columns": null,
            "margin": null,
            "display": null,
            "left": null
          }
        },
        "0a460c3fc1224a92b1b4e096b3ddddf4": {
          "model_module": "@jupyter-widgets/controls",
          "model_name": "SliderStyleModel",
          "state": {
            "_view_name": "StyleView",
            "handle_color": null,
            "_model_name": "SliderStyleModel",
            "description_width": "",
            "_view_module": "@jupyter-widgets/base",
            "_model_module_version": "1.5.0",
            "_view_count": null,
            "_view_module_version": "1.2.0",
            "_model_module": "@jupyter-widgets/controls"
          }
        },
        "8c6576320f7141f5955cf0e2aa738f55": {
          "model_module": "@jupyter-widgets/base",
          "model_name": "LayoutModel",
          "state": {
            "_view_name": "LayoutView",
            "grid_template_rows": null,
            "right": null,
            "justify_content": null,
            "_view_module": "@jupyter-widgets/base",
            "overflow": null,
            "_model_module_version": "1.2.0",
            "_view_count": null,
            "flex_flow": null,
            "width": null,
            "min_width": null,
            "border": null,
            "align_items": null,
            "bottom": null,
            "_model_module": "@jupyter-widgets/base",
            "top": null,
            "grid_column": null,
            "overflow_y": null,
            "overflow_x": null,
            "grid_auto_flow": null,
            "grid_area": null,
            "grid_template_columns": null,
            "flex": null,
            "_model_name": "LayoutModel",
            "justify_items": null,
            "grid_row": null,
            "max_height": null,
            "align_content": null,
            "visibility": null,
            "align_self": null,
            "height": null,
            "min_height": null,
            "padding": null,
            "grid_auto_rows": null,
            "grid_gap": null,
            "max_width": null,
            "order": null,
            "_view_module_version": "1.2.0",
            "grid_template_areas": null,
            "object_position": null,
            "object_fit": null,
            "grid_auto_columns": null,
            "margin": null,
            "display": null,
            "left": null
          }
        },
        "c57699caeb6741b6ba5f6479cee78f28": {
          "model_module": "@jupyter-widgets/controls",
          "model_name": "VBoxModel",
          "state": {
            "_view_name": "VBoxView",
            "_dom_classes": [
              "widget-interact"
            ],
            "_model_name": "VBoxModel",
            "_view_module": "@jupyter-widgets/controls",
            "_model_module_version": "1.5.0",
            "_view_count": null,
            "_view_module_version": "1.5.0",
            "box_style": "",
            "layout": "IPY_MODEL_568f7294caaf47fd9cc3d186d7e04624",
            "_model_module": "@jupyter-widgets/controls",
            "children": [
              "IPY_MODEL_7eaefa8c04dc4ad2bc6da9563e109803",
              "IPY_MODEL_20ab5d0e09d24488a85390ebf08bea98",
              "IPY_MODEL_93ee098d32074c53a94c5d71d229d1db"
            ]
          }
        },
        "568f7294caaf47fd9cc3d186d7e04624": {
          "model_module": "@jupyter-widgets/base",
          "model_name": "LayoutModel",
          "state": {
            "_view_name": "LayoutView",
            "grid_template_rows": null,
            "right": null,
            "justify_content": null,
            "_view_module": "@jupyter-widgets/base",
            "overflow": null,
            "_model_module_version": "1.2.0",
            "_view_count": null,
            "flex_flow": null,
            "width": null,
            "min_width": null,
            "border": null,
            "align_items": null,
            "bottom": null,
            "_model_module": "@jupyter-widgets/base",
            "top": null,
            "grid_column": null,
            "overflow_y": null,
            "overflow_x": null,
            "grid_auto_flow": null,
            "grid_area": null,
            "grid_template_columns": null,
            "flex": null,
            "_model_name": "LayoutModel",
            "justify_items": null,
            "grid_row": null,
            "max_height": null,
            "align_content": null,
            "visibility": null,
            "align_self": null,
            "height": null,
            "min_height": null,
            "padding": null,
            "grid_auto_rows": null,
            "grid_gap": null,
            "max_width": null,
            "order": null,
            "_view_module_version": "1.2.0",
            "grid_template_areas": null,
            "object_position": null,
            "object_fit": null,
            "grid_auto_columns": null,
            "margin": null,
            "display": null,
            "left": null
          }
        },
        "7eaefa8c04dc4ad2bc6da9563e109803": {
          "model_module": "@jupyter-widgets/controls",
          "model_name": "IntSliderModel",
          "state": {
            "_view_name": "IntSliderView",
            "style": "IPY_MODEL_f4f2672e6511403ca84e5af10489ef02",
            "_dom_classes": [],
            "description": "max_depth",
            "step": 1,
            "_model_name": "IntSliderModel",
            "orientation": "horizontal",
            "max": 6,
            "_view_module": "@jupyter-widgets/controls",
            "_model_module_version": "1.5.0",
            "value": 1,
            "_view_count": null,
            "disabled": false,
            "_view_module_version": "1.5.0",
            "min": 1,
            "continuous_update": true,
            "readout_format": "d",
            "description_tooltip": null,
            "readout": true,
            "_model_module": "@jupyter-widgets/controls",
            "layout": "IPY_MODEL_e784b34e4cf24a9d82f4746d2eb63c61"
          }
        },
        "20ab5d0e09d24488a85390ebf08bea98": {
          "model_module": "@jupyter-widgets/controls",
          "model_name": "IntSliderModel",
          "state": {
            "_view_name": "IntSliderView",
            "style": "IPY_MODEL_9010afbb74d94ac497901044f2f52447",
            "_dom_classes": [],
            "description": "n_estimators",
            "step": 1,
            "_model_name": "IntSliderModel",
            "orientation": "horizontal",
            "max": 5,
            "_view_module": "@jupyter-widgets/controls",
            "_model_module_version": "1.5.0",
            "value": 2,
            "_view_count": null,
            "disabled": false,
            "_view_module_version": "1.5.0",
            "min": 2,
            "continuous_update": true,
            "readout_format": "d",
            "description_tooltip": null,
            "readout": true,
            "_model_module": "@jupyter-widgets/controls",
            "layout": "IPY_MODEL_65612d1b0644409f8a0177ab71dd62f6"
          }
        },
        "93ee098d32074c53a94c5d71d229d1db": {
          "model_module": "@jupyter-widgets/output",
          "model_name": "OutputModel",
          "state": {
            "_view_name": "OutputView",
            "msg_id": "",
            "_dom_classes": [],
            "_model_name": "OutputModel",
            "outputs": [
              {
                "output_type": "display_data",
                "metadata": {
                  "tags": []
                },
                "image/png": "iVBORw0KGgoAAAANSUhEUgAAAVoAAAEFCAYAAACiiS9UAAAABHNCSVQICAgIfAhkiAAAAAlwSFlz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\n",
                "text/plain": "<Figure size 432x288 with 2 Axes>"
              },
              {
                "output_type": "display_data",
                "metadata": {
                  "tags": []
                },
                "image/png": "iVBORw0KGgoAAAANSUhEUgAAAVoAAAEFCAYAAACiiS9UAAAABHNCSVQICAgIfAhkiAAAAAlwSFlz\nAAALEgAACxIB0t1+/AAAADh0RVh0U29mdHdhcmUAbWF0cGxvdGxpYiB2ZXJzaW9uMy4xLjMsIGh0\ndHA6Ly9tYXRwbG90bGliLm9yZy+AADFEAAASBUlEQVR4nO3dfbBdVXnH8e8vUYoVsFa0LwQUEKqo\ntFJEWyraEWzAQrT1BahjcdS0Kh3HtxatpUptq7XVGaaMElt8GwSV1vaqEWx9o1WQRNEosWgMCAlW\nxBcERSH3Pv3jnMjhNveec8hZuWfH74fZk7PXXnftdWaYZ5559lr7pKqQJLWzbKknIEm7OwOtJDVm\noJWkxgy0ktSYgVaSGjPQSlJjBlpJasxAq0UluXXgmEty28D5HzS+955JzktyXZJbknwuye+0vKfU\nwj2WegKablW11/bPSa4FnltV/7lQ/yT3qKptE7r9HsC1wGOB64ETgYuSHFZV10/oHlJzZrTaKUle\nm+Q9SS5IcgvwzCTLkrwyydeS3JTkwiT3Hfibo5NcnuR7ST6f5JgdjV1V36+qs6rq61U1V1X/Ti/g\nHrGLvp40EQZaTcJTgHcD9wHeA7wYeBJwDLACuBU4GyDJ/sAM8JfAzwNnAP+a5H7DbpLkl4CDgY2T\n/wpSOwZaTcJ/V9UH+lnnbcAfA6+sqq1V9SPgNcDTkiwDngXMVNUl/f4XA18AVi52gyR70Avm/1RV\nX237daTJskarSZhfLz0A+ECSuXntDwAeCJyS5CkD7fcELl5o8CTLgfPpZcYv2vnpSruWgVaTMP8V\ncFuAU6vqM/M7JrkeeFtVPX+UgftZ8NuA+wJPmuCDNmmXsXSgFt4C/E2SAwCSPCDJSf1r7wKekuS4\nJMv7S7h+O8kvzx8kSYBz6dVlV1XVj3fVF5AmyUCrFt5IrxTw0f5KhE8DjwKoqmvpPTz7C+BbwHXA\nS9nx/4sHAc+lt8rgmwPrd5/R/BtIExRf/C1JbZnRSlJjBlpJGtDf9n1jki8tcD1Jzk6yKcmGJEM3\n0BhoJemu3s7i67qPBw7pH6uBNw8b0EArSQOq6lLgO4t0WQW8s3ouB36uv2txQU3W0W5+xBN9wibt\nYl++cegu5qn0pG9ekJ0d446bNo8cc/a4/8F/RC8T3W5NVa0Z43b7cddNOlv6bd9Y6A/csCDpp0o/\nqI4TWHeagVZS983N7sq7bQX2Hzhf0W9bkDVaSd03u230Y+fNAM/qrz54DHBzVS1YNgAzWkm7gar5\n7y+6+5JcADwe2DfJFnqv9Lxn7z71FmAtcAKwCfgh8OxhYxpoJXXf3OQCbVWdMuR6AS8cZ0wDraTu\nm2BG24KBVlL37dqHYWMz0ErqPjNaSWqrJrOaoBkDraTum+DDsBYMtJK6z9KBJDXmwzBJasyMVpIa\n82GYJDXmwzBJaqvKGq0ktWWNVpIas3QgSY2Z0UpSY7N3LPUMFmWgldR9lg4kqTFLB5LUmBmtJDVm\noJWktsqHYZLUmDVaSWrM0oEkNWZGK0mNmdFKUmNmtJLU2DZf/C1JbZnRSlJj1mglqTEzWklqzIxW\nkhozo5Wkxlx1IEmNVS31DBZloJXUfdZoJamxKQ+0y5Z6ApK002pu9GOIJCuTXJ1kU5IzdnD9gCQf\nT3Jlkg1JThg2phmtpO6bnZ3IMEmWA+cAxwFbgHVJZqpq40C3VwHvrao3JzkMWAs8aLFxDbSSum9y\npYOjgE1VtRkgyYXAKmAw0BawT//zfYAbhg1qoJXUfWME2iSrgdUDTWuqak3/837A9QPXtgCPnjfE\nq4GPJPkT4N7AscPuaaCV1H1jbFjoB9U1Qzsu7BTg7VX1D0l+A3hXkodXLTwJA62kzqu5ia2j3Qrs\nP3C+ot826DnASoCquizJnsC+wI0LDeqqA0ndNzc3+rG4dcAhSQ5MsgdwMjAzr891wBMAkjwU2BP4\n1mKDmtFK6r4JrTqoqm1JTgcuAZYD51XVVUnOAtZX1QzwUuCtSV5M78HYaVWLb00z0ErqvgluWKiq\ntfSWbA22nTnweSNw9DhjGmgldd+U7wwz0ErqPl8qI0mNmdFKUmOTW97VhIFWUvdNaNVBKwZaSZ1X\nlg4kqTFLB5LUmD/OKEmNmdFKUmPbfBgmSW1ZOpCkxiwdSFJbLu+SpNbMaCWpMQOtJDXmFlxJamuC\nvxnWhIFWUvcZaCWpMVcdSFJjZrSS1JiBVpLaqllLB5LUlhmtJLXl8i5Jas1AK0mNTXeJ1kArqftq\n23RHWgOtpO6b7jhroJXUfT4Mk6TWzGglqS0zWklqzYxWktqqbUs9g8UZaCV13pT/2jjLlnoCkrTT\n5sY4hkiyMsnVSTYlOWOBPk9PsjHJVUnePWxMM1pJnTepjDbJcuAc4DhgC7AuyUxVbRzocwjwCuDo\nqvpukgcMG9eMVlLn1dzoxxBHAZuqanNV3Q5cCKya1+d5wDlV9V2Aqrpx2KAGWkmdV7MZ+UiyOsn6\ngWP1wFD7AdcPnG/ptw06FDg0yaeSXJ5k5bD5WTqQ1HnjlA6qag2wZidudw/gEODxwArg0iSPqKrv\nLfYHktRpNZdJDbUV2H/gfEW/bdAW4DNVdQdwTZKv0Au86xYa1NKBpM6bYI12HXBIkgOT7AGcDMzM\n6/Nv9LJZkuxLr5SwebFBzWgldV7VZDLaqtqW5HTgEmA5cF5VXZXkLGB9Vc30rz0xyUZgFnh5VX17\nsXENtJI6b5IbFqpqLbB2XtuZA58LeEn/GMlIpYMkhyb5aJIv9c8PT/KqUW8iSS3NzWbkYymMWqN9\nK70FuncAVNUGerULSVpyNZeRj6UwaungZ6vqiuQuk5zy1zhI+mmxVAF0VKMG2puSHAwUQJKnAt9o\nNitJGkNN9+toRw60L6S3wPchSbYC1wDPbDYrSRrDbpHRVtVm4Ngk9waWVdUtbaclSaOb1PKuVhYN\ntEl2uHxhe622qt7YYE6SNJbZJVpNMKphGe3e/X9/BXgUd+6QOBG4otWkJGkcnc5oq+o1AEkuBY7Y\nXjJI8mrgQ81nJ0kj2C1qtMAvALcPnN/eb5OkJbe7rDp4J3BFkvf3z58MvKPNlCRpPLtFRltVf53k\nw8Bj+03Prqor201LkkY3OzfdLyIcKdAmOQC4CXj/YFtVXddqYpI0qt2ldPAh+rvCgHsBBwJXAw9r\nMSlJGsdcl1cdbFdVjxg8T3IE8IImM5KkMXV6eddCqupzSR496clI0t2xW5QO5u0QWwYcAdzQZEaS\nNKbdonTAnTvEoPd6xA8B/zL56UjS+HaLVQfAxqp632BDkqcB71ugvyTtMlNeORj5FxZeMWKbJO1y\nc5WRj6Uw7O1dxwMnAPslOXvg0j74CwuSpkTXVx3cAKwHTgI+O9B+C/DiVpOSpHFM8Edwmxj29q4v\nAF9Icn5VmcFKmkpFhzPaJO+tqqcDVyb5f/Xmqjq82cwkaUTbOl46eFH/399tPRFJurumPaNddNVB\nVW3/pdsXVNXXBw/cgitpSsyNcSyFUZd3HbeDtuMnORFJuruKjHwshWE12ufTy1wPSrJh4NLewKda\nTkySRtXpVQfAu4EPA38LnDHQfktVfafZrCRpDLNTXqMdtrzrZuBm4BSAJA8A9gT2SrKXL/6WNA2m\n/JdsRqvRJjkxyVeBa4BPAtfSy3QlacnNkZGPpTDqw7DXAo8BvlJVBwJPAC5vNitJGkONcSyFUQPt\nHVX1bWBZkmVV9XHgyIbzkqSRTfvyrlFfk/i9JHsBlwLnJ7kR+EG7aUnS6OYy3UXaUTPaVcBt9F4k\nczHwNeDEVpOSpHHMjnEshZECbVX9oKpmq2pbVb2jqs7ulxIkacnNZfRjmCQrk1ydZFOSMxbp9/tJ\nKsnQMuqwDQu3sOP6cYCqqn2GzlqSGpvUaoIky4Fz6O2G3QKsSzJTVRvn9dub3rtgPjPKuMPedbB3\nVe2zg2Nvg6ykaTHBVQdHAZuqanNV3Q5cSK90Ot9fAa8HfjTK/Kb7F80kaQTjlA6SrE6yfuBYPTDU\nfsD1A+db+m0/keQIYP+q+tCo8xt11YEkTa1xlm1V1Rpgzd25T5JlwBuB08b5OwOtpM6bndzqrq3A\n/gPnK/pt2+0NPBz4RHpLyn4RmElyUlWtX2hQA62kzpvgRoR1wCFJDqQXYE8GTt1+sf/+l323nyf5\nBPCyxYIsWKOVtBuY1M6w/m8jng5cAnwZeG9VXZXkrCQn3d35mdFK6rxJ/mRYVa0F1s5rO3OBvo8f\nZUwDraTO6/qLvyVp6i3V1tpRGWgldd60v/jbQCup8ywdSFJjBlpJamypfjlhVAZaSZ1njVaSGnPV\ngSQ1NjflxQMDraTO82GYJDU23fmsgVbSbsCMVpIa25bpzmkNtJI6b7rDrIFW0m7A0oEkNebyLklq\nbLrDrIFW0m7A0oEkNTY75TmtgVZS55nRSlJjZUYrSW2Z0UpSYy7vkqTGpjvMGmgl7Qa2TXmoNdBK\n6jwfhklSYz4Mk6TGzGglqTEzWklqbLbMaCWpKdfRSlJj1mglqTFrtJLU2LSXDpYt9QQkaWfVGP8N\nk2RlkquTbEpyxg6uvyTJxiQbknw0yQOHjWmgldR5s1UjH4tJshw4BzgeOAw4Jclh87pdCRxZVYcD\nFwF/N2x+BlpJnTdHjXwMcRSwqao2V9XtwIXAqsEOVfXxqvph//RyYMWwQQ20kjpvbowjyeok6weO\n1QND7QdcP3C+pd+2kOcAHx42Px+GSeq8cZZ3VdUaYM3O3jPJM4EjgccN62ugldR5E1x1sBXYf+B8\nRb/tLpIcC/w58Liq+vGwQQ20kjqvJrcFdx1wSJID6QXYk4FTBzskeSRwLrCyqm4cZVADraTOm9TP\njVfVtiSnA5cAy4HzquqqJGcB66tqBngDsBfwviQA11XVSYuNa6CV1HmT3LBQVWuBtfPazhz4fOy4\nYxpoJXXeBEsHTRhoJXXetG/BNdBK6jzf3iVJjfnib0lqzNKBJDVmoJWkxlx1IEmNmdFKUmOuOpCk\nxmZrun81zEArqfOs0UpSY9ZoJakxa7SS1NicpQNJasuMVpIac9WBJDVm6UCSGrN0IEmNmdFKUmNm\ntJLU2GzNLvUUFmWgldR5bsGVpMbcgitJjZnRSlJjrjqQpMZcdSBJjbkFV5Ias0YrSY1Zo5Wkxsxo\nJakx19FKUmNmtJLUmKsOJKkxH4ZJUmPTXjpYttQTkKSdVWP8N0ySlUmuTrIpyRk7uP4zSd7Tv/6Z\nJA8aNqaBVlLnVdXIx2KSLAfOAY4HDgNOSXLYvG7PAb5bVQ8G3gS8ftj8DLSSOm+uauRjiKOATVW1\nuapuBy4EVs3rswp4R//zRcATkmSxQZvUaA/64kcWvamkyTtoqSewhLbdvnXkmJNkNbB6oGlNVa3p\nf94PuH7g2hbg0fOG+EmfqtqW5GbgfsBNC93Th2GSfqr0g+qaoR0nyNKBJN1pK7D/wPmKftsO+yS5\nB3Af4NuLDWqglaQ7rQMOSXJgkj2Ak4GZeX1mgD/sf34q8LEa8pTN0oEk9fVrrqcDlwDLgfOq6qok\nZwHrq2oG+GfgXUk2Ad+hF4wXlWlf6KtdK8mtVbXXhMc8CTisql6X5MnAV6pq45hjfAJ4WVWtn+Tc\npF3B0oGaq6qZqnpd//TJ9NYnSj81DLTaofS8IcmXknwxyTP67Y9P8okkFyX5nyTnb19DmOSEfttn\nk5yd5IP99tOS/GOS3wROAt6Q5PNJDu6PdWS/375Jru1/vleSC5N8Ocn7gXsNzO2JSS5L8rkk70sy\n0QxcmjRrtFrI7wG/BvwqsC+wLsml/WuPBB4G3AB8Cjg6yXrgXOCYqromyQXzB6yqTyeZAT5YVRcB\nLLLO+/nAD6vqoUkOBz7X778v8Crg2Kr6QZI/A14CnDWJLy21YKDVQn4LuKCqZoFvJvkk8Cjg+8AV\nVbUFIMnngQcBtwKbq+qa/t9fwF0XhY/rGOBsgKrakGRDv/0x9EoPn+oH6T2Ay3biPlJzBlrdHT8e\n+DzLzv1/tI07S1h7jtA/wH9U1Sk7cU9pl7JGq4X8F/CMJMuT3J9ehnnFIv2vBg4aeJPRMxbodwuw\n98D5tcCv9z8/daD9UuBUgCQPBw7vt19Or1Tx4P61eyc5dITvIy0ZA60W8n5gA/AF4GPAn1bV/y7U\nuapuA14AXJzks/QC6s076Hoh8PIkVyY5GPh74PlJrqRXC97uzcBeSb5Mr/762f59vgWcBlzQLydc\nBjxkZ76o1JrraDUxSfaqqlv7qxDOAb5aVW9a6nlJS82MVpP0vP7Dsavo7f8+d4nnI00FM1pJasyM\nVpIaM9BKUmMGWklqzEArSY0ZaCWpsf8DpReS4VMsddYAAAAASUVORK5CYII=\n",
                "text/plain": "<Figure size 432x288 with 2 Axes>"
              },
              {
                "output_type": "display_data",
                "metadata": {
                  "tags": []
                },
                "image/png": "iVBORw0KGgoAAAANSUhEUgAAAVoAAAEFCAYAAACiiS9UAAAABHNCSVQICAgIfAhkiAAAAAlwSFlz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\nYII=\n",
                "text/plain": "<Figure size 432x288 with 2 Axes>"
              }
            ],
            "_view_module": "@jupyter-widgets/output",
            "_model_module_version": "1.0.0",
            "_view_count": null,
            "_view_module_version": "1.0.0",
            "layout": "IPY_MODEL_757641d65ee946baa1319aebdb13aef2",
            "_model_module": "@jupyter-widgets/output"
          }
        },
        "f4f2672e6511403ca84e5af10489ef02": {
          "model_module": "@jupyter-widgets/controls",
          "model_name": "SliderStyleModel",
          "state": {
            "_view_name": "StyleView",
            "handle_color": null,
            "_model_name": "SliderStyleModel",
            "description_width": "",
            "_view_module": "@jupyter-widgets/base",
            "_model_module_version": "1.5.0",
            "_view_count": null,
            "_view_module_version": "1.2.0",
            "_model_module": "@jupyter-widgets/controls"
          }
        },
        "e784b34e4cf24a9d82f4746d2eb63c61": {
          "model_module": "@jupyter-widgets/base",
          "model_name": "LayoutModel",
          "state": {
            "_view_name": "LayoutView",
            "grid_template_rows": null,
            "right": null,
            "justify_content": null,
            "_view_module": "@jupyter-widgets/base",
            "overflow": null,
            "_model_module_version": "1.2.0",
            "_view_count": null,
            "flex_flow": null,
            "width": null,
            "min_width": null,
            "border": null,
            "align_items": null,
            "bottom": null,
            "_model_module": "@jupyter-widgets/base",
            "top": null,
            "grid_column": null,
            "overflow_y": null,
            "overflow_x": null,
            "grid_auto_flow": null,
            "grid_area": null,
            "grid_template_columns": null,
            "flex": null,
            "_model_name": "LayoutModel",
            "justify_items": null,
            "grid_row": null,
            "max_height": null,
            "align_content": null,
            "visibility": null,
            "align_self": null,
            "height": null,
            "min_height": null,
            "padding": null,
            "grid_auto_rows": null,
            "grid_gap": null,
            "max_width": null,
            "order": null,
            "_view_module_version": "1.2.0",
            "grid_template_areas": null,
            "object_position": null,
            "object_fit": null,
            "grid_auto_columns": null,
            "margin": null,
            "display": null,
            "left": null
          }
        },
        "9010afbb74d94ac497901044f2f52447": {
          "model_module": "@jupyter-widgets/controls",
          "model_name": "SliderStyleModel",
          "state": {
            "_view_name": "StyleView",
            "handle_color": null,
            "_model_name": "SliderStyleModel",
            "description_width": "",
            "_view_module": "@jupyter-widgets/base",
            "_model_module_version": "1.5.0",
            "_view_count": null,
            "_view_module_version": "1.2.0",
            "_model_module": "@jupyter-widgets/controls"
          }
        },
        "65612d1b0644409f8a0177ab71dd62f6": {
          "model_module": "@jupyter-widgets/base",
          "model_name": "LayoutModel",
          "state": {
            "_view_name": "LayoutView",
            "grid_template_rows": null,
            "right": null,
            "justify_content": null,
            "_view_module": "@jupyter-widgets/base",
            "overflow": null,
            "_model_module_version": "1.2.0",
            "_view_count": null,
            "flex_flow": null,
            "width": null,
            "min_width": null,
            "border": null,
            "align_items": null,
            "bottom": null,
            "_model_module": "@jupyter-widgets/base",
            "top": null,
            "grid_column": null,
            "overflow_y": null,
            "overflow_x": null,
            "grid_auto_flow": null,
            "grid_area": null,
            "grid_template_columns": null,
            "flex": null,
            "_model_name": "LayoutModel",
            "justify_items": null,
            "grid_row": null,
            "max_height": null,
            "align_content": null,
            "visibility": null,
            "align_self": null,
            "height": null,
            "min_height": null,
            "padding": null,
            "grid_auto_rows": null,
            "grid_gap": null,
            "max_width": null,
            "order": null,
            "_view_module_version": "1.2.0",
            "grid_template_areas": null,
            "object_position": null,
            "object_fit": null,
            "grid_auto_columns": null,
            "margin": null,
            "display": null,
            "left": null
          }
        }
      }
    }
  },
  "cells": [
    {
      "cell_type": "markdown",
      "metadata": {
        "id": "view-in-github",
        "colab_type": "text"
      },
      "source": [
        "<a href=\"https://colab.research.google.com/github/jacobpad/DS-Unit-2-Kaggle-Challenge/blob/master/module2-random-forests/LS_DS12_222.ipynb\" target=\"_parent\"><img src=\"https://colab.research.google.com/assets/colab-badge.svg\" alt=\"Open In Colab\"/></a>"
      ]
    },
    {
      "cell_type": "markdown",
      "metadata": {
        "colab_type": "text",
        "id": "UEHyIgGaaSEJ"
      },
      "source": [
        "Lambda School Data Science\n",
        "\n",
        "*Unit 2, Sprint 2, Module 2*\n",
        "\n",
        "---"
      ]
    },
    {
      "cell_type": "markdown",
      "metadata": {
        "colab_type": "text",
        "id": "mRfPLX4WgLVJ"
      },
      "source": [
        "# Random Forests"
      ]
    },
    {
      "cell_type": "markdown",
      "metadata": {
        "colab_type": "text",
        "id": "jRRNhkxcgLVK"
      },
      "source": [
        "- use scikit-learn for **random forests**\n",
        "- do **ordinal encoding** with high-cardinality categoricals\n",
        "- understand how categorical encodings affect trees differently compared to linear models\n",
        "- understand how tree ensembles reduce overfitting compared to a single decision tree with unlimited depth"
      ]
    },
    {
      "cell_type": "markdown",
      "metadata": {
        "colab_type": "text",
        "id": "-3TH11e1gLVL"
      },
      "source": [
        "Today's lesson has two take-away messages:\n",
        "\n",
        "#### Try Tree Ensembles when you do machine learning with labeled, tabular data\n",
        "- \"Tree Ensembles\" means Random Forest or Gradient Boosting models. \n",
        "- [Tree Ensembles often have the best predictive accuracy](https://arxiv.org/abs/1708.05070) with labeled, tabular data.\n",
        "- Why? Because trees can fit non-linear, non-[monotonic](https://en.wikipedia.org/wiki/Monotonic_function) relationships, and [interactions](https://christophm.github.io/interpretable-ml-book/interaction.html) between features.\n",
        "- A single decision tree, grown to unlimited depth, will [overfit](http://www.r2d3.us/visual-intro-to-machine-learning-part-1/). We solve this problem by ensembling trees, with bagging (Random Forest) or boosting (Gradient Boosting).\n",
        "- Random Forest's advantage: may be less sensitive to hyperparameters. Gradient Boosting's advantage: may get better predictive accuracy.\n",
        "\n",
        "#### One-hot encoding isn’t the only way, and may not be the best way, of categorical encoding for tree ensembles.\n",
        "- For example, tree ensembles can work with arbitrary \"ordinal\" encoding! (Randomly assigning an integer to each category.) Compared to one-hot encoding, the dimensionality will be lower, and the predictive accuracy may be just as good or even better.\n"
      ]
    },
    {
      "cell_type": "markdown",
      "metadata": {
        "colab_type": "text",
        "id": "r5PbOFEuFfGF"
      },
      "source": [
        "### Setup\n",
        "\n",
        "Run the code cell below. You can work locally (follow the [local setup instructions](https://lambdaschool.github.io/ds/unit2/local/)) or on Colab.\n",
        "\n",
        "Libraries\n",
        "\n",
        "- **category_encoders** \n",
        "- **graphviz**\n",
        "- ipywidgets\n",
        "- matplotlib\n",
        "- numpy\n",
        "- pandas\n",
        "- seaborn\n",
        "- scikit-learn"
      ]
    },
    {
      "cell_type": "code",
      "metadata": {
        "colab_type": "code",
        "id": "FStAplyRFoEu",
        "colab": {}
      },
      "source": [
        "%%capture\n",
        "import sys\n",
        "\n",
        "# If you're on Colab:\n",
        "if 'google.colab' in sys.modules:\n",
        "    DATA_PATH = 'https://raw.githubusercontent.com/LambdaSchool/DS-Unit-2-Kaggle-Challenge/master/data/'\n",
        "    !pip install category_encoders==2.*\n",
        "\n",
        "# If you're working locally:\n",
        "else:\n",
        "    DATA_PATH = '../data/'"
      ],
      "execution_count": 0,
      "outputs": []
    },
    {
      "cell_type": "markdown",
      "metadata": {
        "colab_type": "text",
        "id": "ZL-yK8B7gLVW"
      },
      "source": [
        "# Use scikit-learn for random forests"
      ]
    },
    {
      "cell_type": "markdown",
      "metadata": {
        "id": "3tbqQ4Rq9Eoz",
        "colab_type": "text"
      },
      "source": [
        "## Overview\n",
        "\n",
        "Let's fit a Random Forest!\n",
        "\n",
        "![](https://pbs.twimg.com/media/EGSvKA0UUAEzUZi?format=png)\n",
        "\n",
        "[Chris Albon, MachineLearningFlashcards.com](https://twitter.com/chrisalbon/status/1181261589887909889)"
      ]
    },
    {
      "cell_type": "markdown",
      "metadata": {
        "colab_type": "text",
        "id": "gHFxMCPSgLVM"
      },
      "source": [
        "### Solution example\n",
        "\n",
        "First, read & wrangle the data.\n",
        "\n",
        "> Define a function to wrangle train, validate, and test sets in the same way. Clean outliers and engineer features. (For example, [what other columns have zeros and shouldn't?](https://github.com/Quartz/bad-data-guide#zeros-replace-missing-values) What other columns are duplicates, or nearly duplicates? Can you extract the year from date_recorded? Can you engineer new features, such as the number of years from waterpump construction to waterpump inspection?)"
      ]
    },
    {
      "cell_type": "code",
      "metadata": {
        "colab_type": "code",
        "id": "YTLm-rDagLVM",
        "colab": {}
      },
      "source": [
        "import numpy as np\n",
        "import pandas as pd\n",
        "from sklearn.model_selection import train_test_split\n",
        "\n",
        "# Merge train_features.csv & train_labels.csv\n",
        "train = pd.merge(pd.read_csv(DATA_PATH+'waterpumps/train_features.csv'), \n",
        "                 pd.read_csv(DATA_PATH+'waterpumps/train_labels.csv'))\n",
        "\n",
        "# Read test_features.csv & sample_submission.csv\n",
        "test = pd.read_csv(DATA_PATH+'waterpumps/test_features.csv')\n",
        "sample_submission = pd.read_csv(DATA_PATH+'waterpumps/sample_submission.csv')\n",
        "\n",
        "# Split train into train & val\n",
        "train, val = train_test_split(train, train_size=0.80, test_size=0.20, \n",
        "                              stratify=train['status_group'], random_state=42)\n",
        "\n",
        "\n",
        "def wrangle(X):\n",
        "    \"\"\"Wrangle train, validate, and test sets in the same way\"\"\"\n",
        "    \n",
        "    # Prevent SettingWithCopyWarning\n",
        "    X = X.copy()\n",
        "    \n",
        "    # About 3% of the time, latitude has small values near zero,\n",
        "    # outside Tanzania, so we'll treat these values like zero.\n",
        "    X['latitude'] = X['latitude'].replace(-2e-08, 0)\n",
        "    \n",
        "    # When columns have zeros and shouldn't, they are like null values.\n",
        "    # So we will replace the zeros with nulls, and impute missing values later.\n",
        "    # Also create a \"missing indicator\" column, because the fact that\n",
        "    # values are missing may be a predictive signal.\n",
        "    cols_with_zeros = ['longitude', 'latitude', 'construction_year', \n",
        "                       'gps_height', 'population']\n",
        "    for col in cols_with_zeros:\n",
        "        X[col] = X[col].replace(0, np.nan)\n",
        "        X[col+'_MISSING'] = X[col].isnull()\n",
        "            \n",
        "    # Drop duplicate columns\n",
        "    duplicates = ['quantity_group', 'payment_type']\n",
        "    X = X.drop(columns=duplicates)\n",
        "    \n",
        "    # Drop recorded_by (never varies) and id (always varies, random)\n",
        "    unusable_variance = ['recorded_by', 'id']\n",
        "    X = X.drop(columns=unusable_variance)\n",
        "    \n",
        "    # Convert date_recorded to datetime\n",
        "    X['date_recorded'] = pd.to_datetime(X['date_recorded'], infer_datetime_format=True)\n",
        "    \n",
        "    # Extract components from date_recorded, then drop the original column\n",
        "    X['year_recorded'] = X['date_recorded'].dt.year\n",
        "    X['month_recorded'] = X['date_recorded'].dt.month\n",
        "    X['day_recorded'] = X['date_recorded'].dt.day\n",
        "    X = X.drop(columns='date_recorded')\n",
        "    \n",
        "    # Engineer feature: how many years from construction_year to date_recorded\n",
        "    X['years'] = X['year_recorded'] - X['construction_year']\n",
        "    X['years_MISSING'] = X['years'].isnull()\n",
        "    \n",
        "    # return the wrangled dataframe\n",
        "    return X\n",
        "\n",
        "train = wrangle(train)\n",
        "val = wrangle(val)\n",
        "test = wrangle(test)"
      ],
      "execution_count": 0,
      "outputs": []
    },
    {
      "cell_type": "code",
      "metadata": {
        "colab_type": "code",
        "id": "m2HppBvZgLVP",
        "colab": {}
      },
      "source": [
        "# The status_group column is the target\n",
        "target = 'status_group'\n",
        "\n",
        "# Get a dataframe with all train columns except the target\n",
        "train_features = train.drop(columns=[target])\n",
        "\n",
        "# Get a list of the numeric features\n",
        "numeric_features = train_features.select_dtypes(include='number').columns.tolist()\n",
        "\n",
        "# Get a series with the cardinality of the nonnumeric features\n",
        "cardinality = train_features.select_dtypes(exclude='number').nunique()\n",
        "\n",
        "# Get a list of all categorical features with cardinality <= 50\n",
        "categorical_features = cardinality[cardinality <= 50].index.tolist()\n",
        "\n",
        "# Combine the lists \n",
        "features = numeric_features + categorical_features"
      ],
      "execution_count": 0,
      "outputs": []
    },
    {
      "cell_type": "code",
      "metadata": {
        "colab_type": "code",
        "id": "aXmK2brXgLVR",
        "colab": {}
      },
      "source": [
        "# Arrange data into X features matrix and y target vector \n",
        "X_train = train[features]\n",
        "y_train = train[target]\n",
        "X_val = val[features]\n",
        "y_val = val[target]\n",
        "X_test = test[features]"
      ],
      "execution_count": 0,
      "outputs": []
    },
    {
      "cell_type": "code",
      "metadata": {
        "id": "1FR7hmhzX1q7",
        "colab_type": "code",
        "outputId": "94b8ab5b-4998-443c-c4c7-c9d50e86daef",
        "colab": {
          "base_uri": "https://localhost:8080/",
          "height": 34
        }
      },
      "source": [
        "train.describe(exclude='number').T.unique.sum()"
      ],
      "execution_count": 0,
      "outputs": [
        {
          "output_type": "execute_result",
          "data": {
            "text/plain": [
              "56481"
            ]
          },
          "metadata": {
            "tags": []
          },
          "execution_count": 22
        }
      ]
    },
    {
      "cell_type": "markdown",
      "metadata": {
        "id": "XsT6ahBr9Eo-",
        "colab_type": "text"
      },
      "source": [
        "## Follow Along\n",
        "\n",
        "[Scikit-Learn User Guide: Random Forests](https://scikit-learn.org/stable/modules/ensemble.html#random-forests)"
      ]
    },
    {
      "cell_type": "code",
      "metadata": {
        "colab_type": "code",
        "id": "57yyygsdgLVW",
        "outputId": "b94c1088-a0e9-4df4-db14-d712749ea91f",
        "colab": {
          "base_uri": "https://localhost:8080/",
          "height": 67
        }
      },
      "source": [
        "%%time\n",
        "# WARNING: the %%time command sometimes has quirks/bugs\n",
        "\n",
        "import category_encoders as ce\n",
        "from sklearn.ensemble import RandomForestClassifier\n",
        "from sklearn.impute import SimpleImputer\n",
        "from sklearn.pipeline import make_pipeline\n",
        "\n",
        "pipeline = make_pipeline(\n",
        "    ce.OneHotEncoder(use_cat_names=True), \n",
        "    SimpleImputer(strategy='median'), \n",
        "    RandomForestClassifier(random_state=0, n_jobs=-1)\n",
        ")\n",
        "\n",
        "# Fit on train, score on val\n",
        "pipeline.fit(X_train, y_train)\n",
        "print('Validation Accuracy', pipeline.score(X_val, y_val))"
      ],
      "execution_count": 0,
      "outputs": [
        {
          "output_type": "stream",
          "text": [
            "Validation Accuracy 0.8088383838383838\n",
            "CPU times: user 27.8 s, sys: 408 ms, total: 28.2 s\n",
            "Wall time: 17 s\n"
          ],
          "name": "stdout"
        }
      ]
    },
    {
      "cell_type": "code",
      "metadata": {
        "id": "aNufH5BOVCsj",
        "colab_type": "code",
        "outputId": "04af02d6-4c72-4e1d-8083-2d2a4256db12",
        "colab": {
          "base_uri": "https://localhost:8080/",
          "height": 34
        }
      },
      "source": [
        "print('X_train shape before encoding', X_train.shape)"
      ],
      "execution_count": 0,
      "outputs": [
        {
          "output_type": "stream",
          "text": [
            "X_train shape before encoding (47520, 38)\n"
          ],
          "name": "stdout"
        }
      ]
    },
    {
      "cell_type": "code",
      "metadata": {
        "id": "ay8iLJhtVIlQ",
        "colab_type": "code",
        "outputId": "9f0cd8df-d6d9-4cb4-be22-cd8b1dd4530e",
        "colab": {
          "base_uri": "https://localhost:8080/",
          "height": 34
        }
      },
      "source": [
        "encoder = pipeline.named_steps['onehotencoder']\n",
        "encoded = encoder.transform(X_train)\n",
        "print('X_train shape after encoding', encoded.shape)"
      ],
      "execution_count": 0,
      "outputs": [
        {
          "output_type": "stream",
          "text": [
            "X_train shape after encoding (47520, 182)\n"
          ],
          "name": "stdout"
        }
      ]
    },
    {
      "cell_type": "code",
      "metadata": {
        "id": "LRFGlwRaVmLW",
        "colab_type": "code",
        "outputId": "f34db819-ca27-4f4f-db24-f436ff821ba3",
        "colab": {
          "base_uri": "https://localhost:8080/",
          "height": 607
        }
      },
      "source": [
        "%matplotlib inline\n",
        "import matplotlib.pyplot as plt\n",
        "\n",
        "# Get feature importances\n",
        "rf = pipeline.named_steps['randomforestclassifier']\n",
        "importances = pd.Series(rf.feature_importances_, encoded.columns)\n",
        "\n",
        "# Plot top n feature importances\n",
        "n = 20\n",
        "plt.figure(figsize=(10,n/2))\n",
        "plt.title(f'Top {n} features')\n",
        "importances.sort_values()[-n:].plot.barh();"
      ],
      "execution_count": 0,
      "outputs": [
        {
          "output_type": "display_data",
          "data": {
            "image/png": "[encoded data removed]",
            "text/plain": [
              "<Figure size 720x720 with 1 Axes>"
            ]
          },
          "metadata": {
            "tags": []
          }
        }
      ]
    },
    {
      "cell_type": "markdown",
      "metadata": {
        "colab_type": "text",
        "id": "yfyk_aa5gLVY"
      },
      "source": [
        "# Do ordinal encoding with high-cardinality categoricals"
      ]
    },
    {
      "cell_type": "markdown",
      "metadata": {
        "id": "TALhCsW09EpC",
        "colab_type": "text"
      },
      "source": [
        "## Overview\n",
        "\n",
        "http://contrib.scikit-learn.org/categorical-encoding/ordinal.html"
      ]
    },
    {
      "cell_type": "markdown",
      "metadata": {
        "id": "Xk0xQ1lM9EpC",
        "colab_type": "text"
      },
      "source": [
        "## Follow Along"
      ]
    },
    {
      "cell_type": "code",
      "metadata": {
        "colab_type": "code",
        "id": "b8d_WJtcgLVZ",
        "colab": {}
      },
      "source": [
        "# Re-arrange data into X features matrix and y target vector, so\n",
        "# we use *all* features, including the high-cardinality categoricals\n",
        "X_train = train.drop(columns=target)\n",
        "y_train = train[target]\n",
        "X_val = val.drop(columns=target)\n",
        "y_val = val[target]\n",
        "X_test = test"
      ],
      "execution_count": 0,
      "outputs": []
    },
    {
      "cell_type": "code",
      "metadata": {
        "id": "BjxV8i9daBoO",
        "colab_type": "code",
        "outputId": "376bcbb8-5141-4605-b9c4-64ac852fce35",
        "colab": {
          "base_uri": "https://localhost:8080/",
          "height": 67
        }
      },
      "source": [
        "%%time\n",
        "\n",
        "# This pipeline is ideentical to the example cell above, \n",
        "# except we're replacing one-hot encoder with \"ordinal\" encoder\n",
        "\n",
        "pipeline = make_pipeline(\n",
        "    ce.OrdinalEncoder(), \n",
        "    SimpleImputer(strategy='median'), \n",
        "    RandomForestClassifier(random_state=0, n_jobs=-1)\n",
        ")\n",
        "\n",
        "# Fit on train, score on val\n",
        "pipeline.fit(X_train, y_train)\n",
        "print('Validation Accuracy', pipeline.score(X_val, y_val))"
      ],
      "execution_count": 0,
      "outputs": [
        {
          "output_type": "stream",
          "text": [
            "Validation Accuracy 0.8092592592592592\n",
            "CPU times: user 20.6 s, sys: 261 ms, total: 20.8 s\n",
            "Wall time: 11.4 s\n"
          ],
          "name": "stdout"
        }
      ]
    },
    {
      "cell_type": "code",
      "metadata": {
        "id": "-oTJ_a9_boTQ",
        "colab_type": "code",
        "outputId": "250749e2-2e27-4b8d-9c78-b66c3a433395",
        "colab": {
          "base_uri": "https://localhost:8080/",
          "height": 34
        }
      },
      "source": [
        "print('X_train shape before encoding', X_train.shape)"
      ],
      "execution_count": 0,
      "outputs": [
        {
          "output_type": "stream",
          "text": [
            "X_train shape before encoding (47520, 45)\n"
          ],
          "name": "stdout"
        }
      ]
    },
    {
      "cell_type": "code",
      "metadata": {
        "id": "1BHSXBFmbtzA",
        "colab_type": "code",
        "outputId": "cb856729-eb19-4da2-9ba9-e80397b087e7",
        "colab": {
          "base_uri": "https://localhost:8080/",
          "height": 34
        }
      },
      "source": [
        "encoder = pipeline.named_steps['ordinalencoder']\n",
        "encoded = encoder.transform(X_train)\n",
        "print('X_train shape after encoding', encoded.shape)"
      ],
      "execution_count": 0,
      "outputs": [
        {
          "output_type": "stream",
          "text": [
            "X_train shape after encoding (47520, 45)\n"
          ],
          "name": "stdout"
        }
      ]
    },
    {
      "cell_type": "markdown",
      "metadata": {
        "colab_type": "text",
        "id": "xs2UPoVdgLVp"
      },
      "source": [
        "# Understand how categorical encodings affect trees differently compared to linear models"
      ]
    },
    {
      "cell_type": "markdown",
      "metadata": {
        "id": "jKbCTRg59EpH",
        "colab_type": "text"
      },
      "source": [
        "## Follow Along"
      ]
    },
    {
      "cell_type": "markdown",
      "metadata": {
        "colab_type": "text",
        "id": "z8V-A92mgLVp"
      },
      "source": [
        "### Categorical exploration, 1 feature at a time\n",
        "\n",
        "Change `feature`, then re-run these cells!"
      ]
    },
    {
      "cell_type": "code",
      "metadata": {
        "colab_type": "code",
        "id": "G35RAzVdgLVq",
        "colab": {}
      },
      "source": [
        "feature = 'extraction_type_class'"
      ],
      "execution_count": 0,
      "outputs": []
    },
    {
      "cell_type": "code",
      "metadata": {
        "colab_type": "code",
        "id": "OuxHWiH8gLVr",
        "outputId": "7acfc853-26df-44e4-c6b7-20b3b6b14c47",
        "colab": {
          "base_uri": "https://localhost:8080/",
          "height": 151
        }
      },
      "source": [
        "X_train[feature].value_counts()"
      ],
      "execution_count": 0,
      "outputs": [
        {
          "output_type": "execute_result",
          "data": {
            "text/plain": [
              "gravity         21448\n",
              "handpump        13184\n",
              "other            5193\n",
              "submersible      4894\n",
              "motorpump        2355\n",
              "rope pump         353\n",
              "wind-powered       93\n",
              "Name: extraction_type_class, dtype: int64"
            ]
          },
          "metadata": {
            "tags": []
          },
          "execution_count": 35
        }
      ]
    },
    {
      "cell_type": "code",
      "metadata": {
        "colab_type": "code",
        "id": "pVxoC4NngLVt",
        "outputId": "ca4d3fb2-9de8-4d31-963c-d78b0eb13915",
        "colab": {
          "base_uri": "https://localhost:8080/",
          "height": 552
        }
      },
      "source": [
        "import seaborn as sns\n",
        "plt.figure(figsize=(16,9))\n",
        "sns.barplot(\n",
        "    x=train[feature], \n",
        "    y=train['status_group']=='functional', \n",
        "    color='grey'\n",
        ");"
      ],
      "execution_count": 0,
      "outputs": [
        {
          "output_type": "display_data",
          "data": {
            "image/png": "[encoded data removed]",
            "text/plain": [
              "<Figure size 1152x648 with 1 Axes>"
            ]
          },
          "metadata": {
            "tags": []
          }
        }
      ]
    },
    {
      "cell_type": "code",
      "metadata": {
        "colab_type": "code",
        "id": "w99mek14gLVv",
        "outputId": "3b720c41-c72d-4565-ad53-30cc77b0ba0c",
        "colab": {
          "base_uri": "https://localhost:8080/",
          "height": 370
        }
      },
      "source": [
        "X_train[feature].head(20)"
      ],
      "execution_count": 0,
      "outputs": [
        {
          "output_type": "execute_result",
          "data": {
            "text/plain": [
              "43360        gravity\n",
              "7263         gravity\n",
              "2486        handpump\n",
              "313            other\n",
              "52726      motorpump\n",
              "8558         gravity\n",
              "2559         gravity\n",
              "54735      motorpump\n",
              "25763       handpump\n",
              "44540    submersible\n",
              "28603          other\n",
              "4372     submersible\n",
              "30666        gravity\n",
              "6431     submersible\n",
              "57420          other\n",
              "1373         gravity\n",
              "2026         gravity\n",
              "58977       handpump\n",
              "41101        gravity\n",
              "10019        gravity\n",
              "Name: extraction_type_class, dtype: object"
            ]
          },
          "metadata": {
            "tags": []
          },
          "execution_count": 37
        }
      ]
    },
    {
      "cell_type": "markdown",
      "metadata": {
        "colab_type": "text",
        "id": "ezzK2IdbgLVx"
      },
      "source": [
        "### [One Hot Encoding](http://contrib.scikit-learn.org/categorical-encoding/onehot.html)\n",
        "\n",
        "> Onehot (or dummy) coding for categorical features, produces one feature per category, each binary.\n",
        "\n",
        "Warning: May run slow, or run out of memory, with high cardinality categoricals!"
      ]
    },
    {
      "cell_type": "code",
      "metadata": {
        "colab_type": "code",
        "id": "HDQZtV6GgLVy",
        "outputId": "8bcab9bf-a461-407d-d04e-eb3bfc46308f",
        "colab": {
          "base_uri": "https://localhost:8080/",
          "height": 693
        }
      },
      "source": [
        "encoder = ce.OneHotEncoder(use_cat_names=True)\n",
        "encoded = encoder.fit_transform(X_train[[feature]])\n",
        "print(f'{len(encoded.columns)} columns')\n",
        "encoded.head(20)"
      ],
      "execution_count": 0,
      "outputs": [
        {
          "output_type": "stream",
          "text": [
            "7 columns\n"
          ],
          "name": "stdout"
        },
        {
          "output_type": "execute_result",
          "data": {
            "text/html": [
              "<div>\n",
              "<style scoped>\n",
              "    .dataframe tbody tr th:only-of-type {\n",
              "        vertical-align: middle;\n",
              "    }\n",
              "\n",
              "    .dataframe tbody tr th {\n",
              "        vertical-align: top;\n",
              "    }\n",
              "\n",
              "    .dataframe thead th {\n",
              "        text-align: right;\n",
              "    }\n",
              "</style>\n",
              "<table border=\"1\" class=\"dataframe\">\n",
              "  <thead>\n",
              "    <tr style=\"text-align: right;\">\n",
              "      <th></th>\n",
              "      <th>extraction_type_class_gravity</th>\n",
              "      <th>extraction_type_class_handpump</th>\n",
              "      <th>extraction_type_class_other</th>\n",
              "      <th>extraction_type_class_motorpump</th>\n",
              "      <th>extraction_type_class_submersible</th>\n",
              "      <th>extraction_type_class_rope pump</th>\n",
              "      <th>extraction_type_class_wind-powered</th>\n",
              "    </tr>\n",
              "  </thead>\n",
              "  <tbody>\n",
              "    <tr>\n",
              "      <th>43360</th>\n",
              "      <td>1</td>\n",
              "      <td>0</td>\n",
              "      <td>0</td>\n",
              "      <td>0</td>\n",
              "      <td>0</td>\n",
              "      <td>0</td>\n",
              "      <td>0</td>\n",
              "    </tr>\n",
              "    <tr>\n",
              "      <th>7263</th>\n",
              "      <td>1</td>\n",
              "      <td>0</td>\n",
              "      <td>0</td>\n",
              "      <td>0</td>\n",
              "      <td>0</td>\n",
              "      <td>0</td>\n",
              "      <td>0</td>\n",
              "    </tr>\n",
              "    <tr>\n",
              "      <th>2486</th>\n",
              "      <td>0</td>\n",
              "      <td>1</td>\n",
              "      <td>0</td>\n",
              "      <td>0</td>\n",
              "      <td>0</td>\n",
              "      <td>0</td>\n",
              "      <td>0</td>\n",
              "    </tr>\n",
              "    <tr>\n",
              "      <th>313</th>\n",
              "      <td>0</td>\n",
              "      <td>0</td>\n",
              "      <td>1</td>\n",
              "      <td>0</td>\n",
              "      <td>0</td>\n",
              "      <td>0</td>\n",
              "      <td>0</td>\n",
              "    </tr>\n",
              "    <tr>\n",
              "      <th>52726</th>\n",
              "      <td>0</td>\n",
              "      <td>0</td>\n",
              "      <td>0</td>\n",
              "      <td>1</td>\n",
              "      <td>0</td>\n",
              "      <td>0</td>\n",
              "      <td>0</td>\n",
              "    </tr>\n",
              "    <tr>\n",
              "      <th>8558</th>\n",
              "      <td>1</td>\n",
              "      <td>0</td>\n",
              "      <td>0</td>\n",
              "      <td>0</td>\n",
              "      <td>0</td>\n",
              "      <td>0</td>\n",
              "      <td>0</td>\n",
              "    </tr>\n",
              "    <tr>\n",
              "      <th>2559</th>\n",
              "      <td>1</td>\n",
              "      <td>0</td>\n",
              "      <td>0</td>\n",
              "      <td>0</td>\n",
              "      <td>0</td>\n",
              "      <td>0</td>\n",
              "      <td>0</td>\n",
              "    </tr>\n",
              "    <tr>\n",
              "      <th>54735</th>\n",
              "      <td>0</td>\n",
              "      <td>0</td>\n",
              "      <td>0</td>\n",
              "      <td>1</td>\n",
              "      <td>0</td>\n",
              "      <td>0</td>\n",
              "      <td>0</td>\n",
              "    </tr>\n",
              "    <tr>\n",
              "      <th>25763</th>\n",
              "      <td>0</td>\n",
              "      <td>1</td>\n",
              "      <td>0</td>\n",
              "      <td>0</td>\n",
              "      <td>0</td>\n",
              "      <td>0</td>\n",
              "      <td>0</td>\n",
              "    </tr>\n",
              "    <tr>\n",
              "      <th>44540</th>\n",
              "      <td>0</td>\n",
              "      <td>0</td>\n",
              "      <td>0</td>\n",
              "      <td>0</td>\n",
              "      <td>1</td>\n",
              "      <td>0</td>\n",
              "      <td>0</td>\n",
              "    </tr>\n",
              "    <tr>\n",
              "      <th>28603</th>\n",
              "      <td>0</td>\n",
              "      <td>0</td>\n",
              "      <td>1</td>\n",
              "      <td>0</td>\n",
              "      <td>0</td>\n",
              "      <td>0</td>\n",
              "      <td>0</td>\n",
              "    </tr>\n",
              "    <tr>\n",
              "      <th>4372</th>\n",
              "      <td>0</td>\n",
              "      <td>0</td>\n",
              "      <td>0</td>\n",
              "      <td>0</td>\n",
              "      <td>1</td>\n",
              "      <td>0</td>\n",
              "      <td>0</td>\n",
              "    </tr>\n",
              "    <tr>\n",
              "      <th>30666</th>\n",
              "      <td>1</td>\n",
              "      <td>0</td>\n",
              "      <td>0</td>\n",
              "      <td>0</td>\n",
              "      <td>0</td>\n",
              "      <td>0</td>\n",
              "      <td>0</td>\n",
              "    </tr>\n",
              "    <tr>\n",
              "      <th>6431</th>\n",
              "      <td>0</td>\n",
              "      <td>0</td>\n",
              "      <td>0</td>\n",
              "      <td>0</td>\n",
              "      <td>1</td>\n",
              "      <td>0</td>\n",
              "      <td>0</td>\n",
              "    </tr>\n",
              "    <tr>\n",
              "      <th>57420</th>\n",
              "      <td>0</td>\n",
              "      <td>0</td>\n",
              "      <td>1</td>\n",
              "      <td>0</td>\n",
              "      <td>0</td>\n",
              "      <td>0</td>\n",
              "      <td>0</td>\n",
              "    </tr>\n",
              "    <tr>\n",
              "      <th>1373</th>\n",
              "      <td>1</td>\n",
              "      <td>0</td>\n",
              "      <td>0</td>\n",
              "      <td>0</td>\n",
              "      <td>0</td>\n",
              "      <td>0</td>\n",
              "      <td>0</td>\n",
              "    </tr>\n",
              "    <tr>\n",
              "      <th>2026</th>\n",
              "      <td>1</td>\n",
              "      <td>0</td>\n",
              "      <td>0</td>\n",
              "      <td>0</td>\n",
              "      <td>0</td>\n",
              "      <td>0</td>\n",
              "      <td>0</td>\n",
              "    </tr>\n",
              "    <tr>\n",
              "      <th>58977</th>\n",
              "      <td>0</td>\n",
              "      <td>1</td>\n",
              "      <td>0</td>\n",
              "      <td>0</td>\n",
              "      <td>0</td>\n",
              "      <td>0</td>\n",
              "      <td>0</td>\n",
              "    </tr>\n",
              "    <tr>\n",
              "      <th>41101</th>\n",
              "      <td>1</td>\n",
              "      <td>0</td>\n",
              "      <td>0</td>\n",
              "      <td>0</td>\n",
              "      <td>0</td>\n",
              "      <td>0</td>\n",
              "      <td>0</td>\n",
              "    </tr>\n",
              "    <tr>\n",
              "      <th>10019</th>\n",
              "      <td>1</td>\n",
              "      <td>0</td>\n",
              "      <td>0</td>\n",
              "      <td>0</td>\n",
              "      <td>0</td>\n",
              "      <td>0</td>\n",
              "      <td>0</td>\n",
              "    </tr>\n",
              "  </tbody>\n",
              "</table>\n",
              "</div>"
            ],
            "text/plain": [
              "       extraction_type_class_gravity  ...  extraction_type_class_wind-powered\n",
              "43360                              1  ...                                   0\n",
              "7263                               1  ...                                   0\n",
              "2486                               0  ...                                   0\n",
              "313                                0  ...                                   0\n",
              "52726                              0  ...                                   0\n",
              "8558                               1  ...                                   0\n",
              "2559                               1  ...                                   0\n",
              "54735                              0  ...                                   0\n",
              "25763                              0  ...                                   0\n",
              "44540                              0  ...                                   0\n",
              "28603                              0  ...                                   0\n",
              "4372                               0  ...                                   0\n",
              "30666                              1  ...                                   0\n",
              "6431                               0  ...                                   0\n",
              "57420                              0  ...                                   0\n",
              "1373                               1  ...                                   0\n",
              "2026                               1  ...                                   0\n",
              "58977                              0  ...                                   0\n",
              "41101                              1  ...                                   0\n",
              "10019                              1  ...                                   0\n",
              "\n",
              "[20 rows x 7 columns]"
            ]
          },
          "metadata": {
            "tags": []
          },
          "execution_count": 38
        }
      ]
    },
    {
      "cell_type": "markdown",
      "metadata": {
        "colab_type": "text",
        "id": "1Ql9Qmw3sNJ7"
      },
      "source": [
        "#### One-Hot Encoding, Logistic Regression, Validation Accuracy"
      ]
    },
    {
      "cell_type": "code",
      "metadata": {
        "colab_type": "code",
        "id": "mT4A-oDGpOss",
        "outputId": "d251d730-6b84-4f2a-cde3-1e8fb7616f2b",
        "colab": {
          "base_uri": "https://localhost:8080/",
          "height": 34
        }
      },
      "source": [
        "from sklearn.linear_model import LogisticRegressionCV\n",
        "from sklearn.preprocessing import StandardScaler\n",
        "\n",
        "lr = make_pipeline(\n",
        "    ce.OneHotEncoder(use_cat_names=True), \n",
        "    SimpleImputer(), \n",
        "    StandardScaler(), \n",
        "    LogisticRegressionCV(multi_class='auto', solver='lbfgs', cv=5, n_jobs=-1)\n",
        ")\n",
        "\n",
        "lr.fit(X_train[[feature]], y_train)\n",
        "score = lr.score(X_val[[feature]], y_val)\n",
        "print('Logistic Regression, Validation Accuracy', score)"
      ],
      "execution_count": 0,
      "outputs": [
        {
          "output_type": "stream",
          "text": [
            "Logistic Regression, Validation Accuracy 0.6202861952861953\n"
          ],
          "name": "stdout"
        }
      ]
    },
    {
      "cell_type": "markdown",
      "metadata": {
        "colab_type": "text",
        "id": "EbH6wivpsRuV"
      },
      "source": [
        "#### One-Hot Encoding, Decision Tree, Validation Accuracy"
      ]
    },
    {
      "cell_type": "code",
      "metadata": {
        "colab_type": "code",
        "id": "b6KUluFOqIdK",
        "outputId": "2d083106-8bf9-4edd-b275-130de432a0db",
        "colab": {
          "base_uri": "https://localhost:8080/",
          "height": 34
        }
      },
      "source": [
        "from sklearn.tree import DecisionTreeClassifier\n",
        "\n",
        "dt = make_pipeline(\n",
        "    ce.OneHotEncoder(use_cat_names=True), \n",
        "    SimpleImputer(), \n",
        "    DecisionTreeClassifier(random_state=42)\n",
        ")\n",
        "\n",
        "dt.fit(X_train[[feature]], y_train)\n",
        "score = dt.score(X_val[[feature]], y_val)\n",
        "print('Decision Tree, Validation Accuracy', score)"
      ],
      "execution_count": 0,
      "outputs": [
        {
          "output_type": "stream",
          "text": [
            "Decision Tree, Validation Accuracy 0.6202861952861953\n"
          ],
          "name": "stdout"
        }
      ]
    },
    {
      "cell_type": "markdown",
      "metadata": {
        "colab_type": "text",
        "id": "8yg11_gTsUu6"
      },
      "source": [
        "#### One-Hot Encoding, Logistic Regression, Model Interpretation"
      ]
    },
    {
      "cell_type": "code",
      "metadata": {
        "colab_type": "code",
        "id": "IxHwXGRornNI",
        "outputId": "ba519f01-983b-41aa-e743-fcd1f571c342",
        "colab": {
          "base_uri": "https://localhost:8080/",
          "height": 265
        }
      },
      "source": [
        "model = lr.named_steps['logisticregressioncv']\n",
        "encoder = lr.named_steps['onehotencoder']\n",
        "encoded_columns = encoder.transform(X_val[[feature]]).columns\n",
        "coefficients = pd.Series(model.coef_[0], encoded_columns)\n",
        "coefficients.sort_values().plot.barh(color='grey');"
      ],
      "execution_count": 0,
      "outputs": [
        {
          "output_type": "display_data",
          "data": {
            "image/png": "[encoded data removed]",
            "text/plain": [
              "<Figure size 432x288 with 1 Axes>"
            ]
          },
          "metadata": {
            "tags": []
          }
        }
      ]
    },
    {
      "cell_type": "markdown",
      "metadata": {
        "colab_type": "text",
        "id": "0REZ8HdpsccR"
      },
      "source": [
        "#### One-Hot Encoding, Decision Tree, Model Interpretation"
      ]
    },
    {
      "cell_type": "code",
      "metadata": {
        "colab_type": "code",
        "id": "gV-grmYKpDp9",
        "outputId": "583958ef-6c29-45fb-ae6f-c4514a5e857b",
        "colab": {
          "base_uri": "https://localhost:8080/",
          "height": 954
        }
      },
      "source": [
        "# Plot tree\n",
        "# https://scikit-learn.org/stable/modules/generated/sklearn.tree.export_graphviz.html\n",
        "import graphviz\n",
        "from sklearn.tree import export_graphviz\n",
        "\n",
        "model = dt.named_steps['decisiontreeclassifier']\n",
        "encoder = dt.named_steps['onehotencoder']\n",
        "encoded_columns = encoder.transform(X_val[[feature]]).columns\n",
        "\n",
        "dot_data = export_graphviz(model, \n",
        "                           out_file=None, \n",
        "                           max_depth=7, \n",
        "                           feature_names=encoded_columns,\n",
        "                           class_names=model.classes_, \n",
        "                           impurity=False, \n",
        "                           filled=True, \n",
        "                           proportion=True, \n",
        "                           rounded=True)   \n",
        "display(graphviz.Source(dot_data))"
      ],
      "execution_count": 0,
      "outputs": [
        {
          "output_type": "display_data",
          "data": {
            "text/plain": [
              "<graphviz.files.Source at 0x7f4ee625c358>"
            ],
            "image/svg+xml": "<?xml version=\"1.0\" encoding=\"UTF-8\" standalone=\"no\"?>\n<!DOCTYPE svg PUBLIC \"-//W3C//DTD SVG 1.1//EN\"\n \"http://www.w3.org/Graphics/SVG/1.1/DTD/svg11.dtd\">\n<!-- Generated by graphviz version 2.40.1 (20161225.0304)\n -->\n<!-- Title: Tree Pages: 1 -->\n<svg width=\"1067pt\" height=\"685pt\"\n viewBox=\"0.00 0.00 1067.00 685.00\" xmlns=\"http://www.w3.org/2000/svg\" xmlns:xlink=\"http://www.w3.org/1999/xlink\">\n<g id=\"graph0\" class=\"graph\" transform=\"scale(1 1) rotate(0) translate(4 681)\">\n<title>Tree</title>\n<polygon fill=\"#ffffff\" stroke=\"transparent\" points=\"-4,4 -4,-681 1063,-681 1063,4 -4,4\"/>\n<!-- 0 -->\n<g id=\"node1\" class=\"node\">\n<title>0</title>\n<path fill=\"#f8decc\" stroke=\"#000000\" d=\"M944.5,-677C944.5,-677 725.5,-677 725.5,-677 719.5,-677 713.5,-671 713.5,-665 713.5,-665 713.5,-621 713.5,-621 713.5,-615 719.5,-609 725.5,-609 725.5,-609 944.5,-609 944.5,-609 950.5,-609 956.5,-615 956.5,-621 956.5,-621 956.5,-665 956.5,-665 956.5,-671 950.5,-677 944.5,-677\"/>\n<text text-anchor=\"middle\" x=\"835\" y=\"-661.8\" font-family=\"Helvetica,sans-Serif\" font-size=\"14.00\" fill=\"#000000\">extraction_type_class_other &lt;= 0.5</text>\n<text text-anchor=\"middle\" x=\"835\" y=\"-646.8\" font-family=\"Helvetica,sans-Serif\" font-size=\"14.00\" fill=\"#000000\">samples = 100.0%</text>\n<text text-anchor=\"middle\" x=\"835\" y=\"-631.8\" font-family=\"Helvetica,sans-Serif\" font-size=\"14.00\" fill=\"#000000\">value = [0.543, 0.073, 0.384]</text>\n<text text-anchor=\"middle\" x=\"835\" y=\"-616.8\" font-family=\"Helvetica,sans-Serif\" font-size=\"14.00\" fill=\"#000000\">class = functional</text>\n</g>\n<!-- 1 -->\n<g id=\"node2\" class=\"node\">\n<title>1</title>\n<path fill=\"#f5ceb2\" stroke=\"#000000\" d=\"M837,-573C837,-573 577,-573 577,-573 571,-573 565,-567 565,-561 565,-561 565,-517 565,-517 565,-511 571,-505 577,-505 577,-505 837,-505 837,-505 843,-505 849,-511 849,-517 849,-517 849,-561 849,-561 849,-567 843,-573 837,-573\"/>\n<text text-anchor=\"middle\" x=\"707\" y=\"-557.8\" font-family=\"Helvetica,sans-Serif\" font-size=\"14.00\" fill=\"#000000\">extraction_type_class_motorpump &lt;= 0.5</text>\n<text text-anchor=\"middle\" x=\"707\" y=\"-542.8\" font-family=\"Helvetica,sans-Serif\" font-size=\"14.00\" fill=\"#000000\">samples = 89.1%</text>\n<text text-anchor=\"middle\" x=\"707\" y=\"-527.8\" font-family=\"Helvetica,sans-Serif\" font-size=\"14.00\" fill=\"#000000\">value = [0.59, 0.078, 0.332]</text>\n<text text-anchor=\"middle\" x=\"707\" y=\"-512.8\" font-family=\"Helvetica,sans-Serif\" font-size=\"14.00\" fill=\"#000000\">class = functional</text>\n</g>\n<!-- 0&#45;&gt;1 -->\n<g id=\"edge1\" class=\"edge\">\n<title>0&#45;&gt;1</title>\n<path fill=\"none\" stroke=\"#000000\" d=\"M793.088,-608.9465C781.485,-599.519 768.7779,-589.1946 756.7741,-579.4415\"/>\n<polygon fill=\"#000000\" stroke=\"#000000\" points=\"758.9744,-576.7196 749.0061,-573.13 754.5602,-582.1524 758.9744,-576.7196\"/>\n<text text-anchor=\"middle\" x=\"751.5786\" y=\"-594.2973\" font-family=\"Helvetica,sans-Serif\" font-size=\"14.00\" fill=\"#000000\">True</text>\n</g>\n<!-- 12 -->\n<g id=\"node13\" class=\"node\">\n<title>12</title>\n<path fill=\"#9d66eb\" stroke=\"#000000\" d=\"M1047,-565.5C1047,-565.5 879,-565.5 879,-565.5 873,-565.5 867,-559.5 867,-553.5 867,-553.5 867,-524.5 867,-524.5 867,-518.5 873,-512.5 879,-512.5 879,-512.5 1047,-512.5 1047,-512.5 1053,-512.5 1059,-518.5 1059,-524.5 1059,-524.5 1059,-553.5 1059,-553.5 1059,-559.5 1053,-565.5 1047,-565.5\"/>\n<text text-anchor=\"middle\" x=\"963\" y=\"-550.3\" font-family=\"Helvetica,sans-Serif\" font-size=\"14.00\" fill=\"#000000\">samples = 10.9%</text>\n<text text-anchor=\"middle\" x=\"963\" y=\"-535.3\" font-family=\"Helvetica,sans-Serif\" font-size=\"14.00\" fill=\"#000000\">value = [0.159, 0.031, 0.81]</text>\n<text text-anchor=\"middle\" x=\"963\" y=\"-520.3\" font-family=\"Helvetica,sans-Serif\" font-size=\"14.00\" fill=\"#000000\">class = non functional</text>\n</g>\n<!-- 0&#45;&gt;12 -->\n<g id=\"edge12\" class=\"edge\">\n<title>0&#45;&gt;12</title>\n<path fill=\"none\" stroke=\"#000000\" d=\"M876.912,-608.9465C891.5533,-597.0504 907.9526,-583.726 922.4785,-571.9237\"/>\n<polygon fill=\"#000000\" stroke=\"#000000\" points=\"924.7786,-574.5645 930.3327,-565.5422 920.3645,-569.1317 924.7786,-574.5645\"/>\n<text text-anchor=\"middle\" x=\"927.7602\" y=\"-586.7095\" font-family=\"Helvetica,sans-Serif\" font-size=\"14.00\" fill=\"#000000\">False</text>\n</g>\n<!-- 2 -->\n<g id=\"node3\" class=\"node\">\n<title>2</title>\n<path fill=\"#f4caac\" stroke=\"#000000\" d=\"M708.5,-469C708.5,-469 443.5,-469 443.5,-469 437.5,-469 431.5,-463 431.5,-457 431.5,-457 431.5,-413 431.5,-413 431.5,-407 437.5,-401 443.5,-401 443.5,-401 708.5,-401 708.5,-401 714.5,-401 720.5,-407 720.5,-413 720.5,-413 720.5,-457 720.5,-457 720.5,-463 714.5,-469 708.5,-469\"/>\n<text text-anchor=\"middle\" x=\"576\" y=\"-453.8\" font-family=\"Helvetica,sans-Serif\" font-size=\"14.00\" fill=\"#000000\">extraction_type_class_submersible &lt;= 0.5</text>\n<text text-anchor=\"middle\" x=\"576\" y=\"-438.8\" font-family=\"Helvetica,sans-Serif\" font-size=\"14.00\" fill=\"#000000\">samples = 84.1%</text>\n<text text-anchor=\"middle\" x=\"576\" y=\"-423.8\" font-family=\"Helvetica,sans-Serif\" font-size=\"14.00\" fill=\"#000000\">value = [0.603, 0.08, 0.318]</text>\n<text text-anchor=\"middle\" x=\"576\" y=\"-408.8\" font-family=\"Helvetica,sans-Serif\" font-size=\"14.00\" fill=\"#000000\">class = functional</text>\n</g>\n<!-- 1&#45;&gt;2 -->\n<g id=\"edge2\" class=\"edge\">\n<title>1&#45;&gt;2</title>\n<path fill=\"none\" stroke=\"#000000\" d=\"M664.1057,-504.9465C652.2307,-495.519 639.2259,-485.1946 626.9407,-475.4415\"/>\n<polygon fill=\"#000000\" stroke=\"#000000\" points=\"628.9989,-472.6066 618.9907,-469.13 624.6464,-478.089 628.9989,-472.6066\"/>\n</g>\n<!-- 11 -->\n<g id=\"node12\" class=\"node\">\n<title>11</title>\n<path fill=\"#d8c1f7\" stroke=\"#000000\" d=\"M927,-461.5C927,-461.5 751,-461.5 751,-461.5 745,-461.5 739,-455.5 739,-449.5 739,-449.5 739,-420.5 739,-420.5 739,-414.5 745,-408.5 751,-408.5 751,-408.5 927,-408.5 927,-408.5 933,-408.5 939,-414.5 939,-420.5 939,-420.5 939,-449.5 939,-449.5 939,-455.5 933,-461.5 927,-461.5\"/>\n<text text-anchor=\"middle\" x=\"839\" y=\"-446.3\" font-family=\"Helvetica,sans-Serif\" font-size=\"14.00\" fill=\"#000000\">samples = 5.0%</text>\n<text text-anchor=\"middle\" x=\"839\" y=\"-431.3\" font-family=\"Helvetica,sans-Serif\" font-size=\"14.00\" fill=\"#000000\">value = [0.381, 0.045, 0.574]</text>\n<text text-anchor=\"middle\" x=\"839\" y=\"-416.3\" font-family=\"Helvetica,sans-Serif\" font-size=\"14.00\" fill=\"#000000\">class = non functional</text>\n</g>\n<!-- 1&#45;&gt;11 -->\n<g id=\"edge11\" class=\"edge\">\n<title>1&#45;&gt;11</title>\n<path fill=\"none\" stroke=\"#000000\" d=\"M750.2217,-504.9465C765.3206,-493.0504 782.2324,-479.726 797.2122,-467.9237\"/>\n<polygon fill=\"#000000\" stroke=\"#000000\" points=\"799.623,-470.4802 805.3119,-461.5422 795.2909,-464.9817 799.623,-470.4802\"/>\n</g>\n<!-- 3 -->\n<g id=\"node4\" class=\"node\">\n<title>3</title>\n<path fill=\"#f4c7a8\" stroke=\"#000000\" d=\"M568.5,-365C568.5,-365 339.5,-365 339.5,-365 333.5,-365 327.5,-359 327.5,-353 327.5,-353 327.5,-309 327.5,-309 327.5,-303 333.5,-297 339.5,-297 339.5,-297 568.5,-297 568.5,-297 574.5,-297 580.5,-303 580.5,-309 580.5,-309 580.5,-353 580.5,-353 580.5,-359 574.5,-365 568.5,-365\"/>\n<text text-anchor=\"middle\" x=\"454\" y=\"-349.8\" font-family=\"Helvetica,sans-Serif\" font-size=\"14.00\" fill=\"#000000\">extraction_type_class_gravity &lt;= 0.5</text>\n<text text-anchor=\"middle\" x=\"454\" y=\"-334.8\" font-family=\"Helvetica,sans-Serif\" font-size=\"14.00\" fill=\"#000000\">samples = 73.8%</text>\n<text text-anchor=\"middle\" x=\"454\" y=\"-319.8\" font-family=\"Helvetica,sans-Serif\" font-size=\"14.00\" fill=\"#000000\">value = [0.611, 0.085, 0.304]</text>\n<text text-anchor=\"middle\" x=\"454\" y=\"-304.8\" font-family=\"Helvetica,sans-Serif\" font-size=\"14.00\" fill=\"#000000\">class = functional</text>\n</g>\n<!-- 2&#45;&gt;3 -->\n<g id=\"edge3\" class=\"edge\">\n<title>2&#45;&gt;3</title>\n<path fill=\"none\" stroke=\"#000000\" d=\"M536.0526,-400.9465C525.0988,-391.6088 513.1127,-381.3911 501.768,-371.7203\"/>\n<polygon fill=\"#000000\" stroke=\"#000000\" points=\"503.9179,-368.9538 494.0371,-365.13 499.3767,-374.2809 503.9179,-368.9538\"/>\n</g>\n<!-- 10 -->\n<g id=\"node11\" class=\"node\">\n<title>10</title>\n<path fill=\"#f9e4d5\" stroke=\"#000000\" d=\"M787,-357.5C787,-357.5 611,-357.5 611,-357.5 605,-357.5 599,-351.5 599,-345.5 599,-345.5 599,-316.5 599,-316.5 599,-310.5 605,-304.5 611,-304.5 611,-304.5 787,-304.5 787,-304.5 793,-304.5 799,-310.5 799,-316.5 799,-316.5 799,-345.5 799,-345.5 799,-351.5 793,-357.5 787,-357.5\"/>\n<text text-anchor=\"middle\" x=\"699\" y=\"-342.3\" font-family=\"Helvetica,sans-Serif\" font-size=\"14.00\" fill=\"#000000\">samples = 10.3%</text>\n<text text-anchor=\"middle\" x=\"699\" y=\"-327.3\" font-family=\"Helvetica,sans-Serif\" font-size=\"14.00\" fill=\"#000000\">value = [0.541, 0.042, 0.416]</text>\n<text text-anchor=\"middle\" x=\"699\" y=\"-312.3\" font-family=\"Helvetica,sans-Serif\" font-size=\"14.00\" fill=\"#000000\">class = functional</text>\n</g>\n<!-- 2&#45;&gt;10 -->\n<g id=\"edge10\" class=\"edge\">\n<title>2&#45;&gt;10</title>\n<path fill=\"none\" stroke=\"#000000\" d=\"M616.2748,-400.9465C630.2139,-389.1606 645.8112,-375.9726 659.6732,-364.2519\"/>\n<polygon fill=\"#000000\" stroke=\"#000000\" points=\"662.2324,-366.6715 667.6088,-357.5422 657.7127,-361.3262 662.2324,-366.6715\"/>\n</g>\n<!-- 4 -->\n<g id=\"node5\" class=\"node\">\n<title>4</title>\n<path fill=\"#f3c5a4\" stroke=\"#000000\" d=\"M458.5,-261C458.5,-261 181.5,-261 181.5,-261 175.5,-261 169.5,-255 169.5,-249 169.5,-249 169.5,-205 169.5,-205 169.5,-199 175.5,-193 181.5,-193 181.5,-193 458.5,-193 458.5,-193 464.5,-193 470.5,-199 470.5,-205 470.5,-205 470.5,-249 470.5,-249 470.5,-255 464.5,-261 458.5,-261\"/>\n<text text-anchor=\"middle\" x=\"320\" y=\"-245.8\" font-family=\"Helvetica,sans-Serif\" font-size=\"14.00\" fill=\"#000000\">extraction_type_class_wind&#45;powered &lt;= 0.5</text>\n<text text-anchor=\"middle\" x=\"320\" y=\"-230.8\" font-family=\"Helvetica,sans-Serif\" font-size=\"14.00\" fill=\"#000000\">samples = 28.7%</text>\n<text text-anchor=\"middle\" x=\"320\" y=\"-215.8\" font-family=\"Helvetica,sans-Serif\" font-size=\"14.00\" fill=\"#000000\">value = [0.629, 0.059, 0.311]</text>\n<text text-anchor=\"middle\" x=\"320\" y=\"-200.8\" font-family=\"Helvetica,sans-Serif\" font-size=\"14.00\" fill=\"#000000\">class = functional</text>\n</g>\n<!-- 3&#45;&gt;4 -->\n<g id=\"edge4\" class=\"edge\">\n<title>3&#45;&gt;4</title>\n<path fill=\"none\" stroke=\"#000000\" d=\"M410.1234,-296.9465C397.9765,-287.519 384.6738,-277.1946 372.1073,-267.4415\"/>\n<polygon fill=\"#000000\" stroke=\"#000000\" points=\"374.021,-264.4963 363.9752,-261.13 369.7291,-270.0262 374.021,-264.4963\"/>\n</g>\n<!-- 9 -->\n<g id=\"node10\" class=\"node\">\n<title>9</title>\n<path fill=\"#f4c9aa\" stroke=\"#000000\" d=\"M677,-253.5C677,-253.5 501,-253.5 501,-253.5 495,-253.5 489,-247.5 489,-241.5 489,-241.5 489,-212.5 489,-212.5 489,-206.5 495,-200.5 501,-200.5 501,-200.5 677,-200.5 677,-200.5 683,-200.5 689,-206.5 689,-212.5 689,-212.5 689,-241.5 689,-241.5 689,-247.5 683,-253.5 677,-253.5\"/>\n<text text-anchor=\"middle\" x=\"589\" y=\"-238.3\" font-family=\"Helvetica,sans-Serif\" font-size=\"14.00\" fill=\"#000000\">samples = 45.1%</text>\n<text text-anchor=\"middle\" x=\"589\" y=\"-223.3\" font-family=\"Helvetica,sans-Serif\" font-size=\"14.00\" fill=\"#000000\">value = [0.599, 0.101, 0.299]</text>\n<text text-anchor=\"middle\" x=\"589\" y=\"-208.3\" font-family=\"Helvetica,sans-Serif\" font-size=\"14.00\" fill=\"#000000\">class = functional</text>\n</g>\n<!-- 3&#45;&gt;9 -->\n<g id=\"edge9\" class=\"edge\">\n<title>3&#45;&gt;9</title>\n<path fill=\"none\" stroke=\"#000000\" d=\"M498.204,-296.9465C513.6461,-285.0504 530.9422,-271.726 546.2625,-259.9237\"/>\n<polygon fill=\"#000000\" stroke=\"#000000\" points=\"548.7603,-262.4176 554.5462,-253.5422 544.4883,-256.8723 548.7603,-262.4176\"/>\n</g>\n<!-- 5 -->\n<g id=\"node6\" class=\"node\">\n<title>5</title>\n<path fill=\"#f3c4a3\" stroke=\"#000000\" d=\"M319,-157C319,-157 63,-157 63,-157 57,-157 51,-151 51,-145 51,-145 51,-101 51,-101 51,-95 57,-89 63,-89 63,-89 319,-89 319,-89 325,-89 331,-95 331,-101 331,-101 331,-145 331,-145 331,-151 325,-157 319,-157\"/>\n<text text-anchor=\"middle\" x=\"191\" y=\"-141.8\" font-family=\"Helvetica,sans-Serif\" font-size=\"14.00\" fill=\"#000000\">extraction_type_class_rope pump &lt;= 0.5</text>\n<text text-anchor=\"middle\" x=\"191\" y=\"-126.8\" font-family=\"Helvetica,sans-Serif\" font-size=\"14.00\" fill=\"#000000\">samples = 28.5%</text>\n<text text-anchor=\"middle\" x=\"191\" y=\"-111.8\" font-family=\"Helvetica,sans-Serif\" font-size=\"14.00\" fill=\"#000000\">value = [0.631, 0.059, 0.31]</text>\n<text text-anchor=\"middle\" x=\"191\" y=\"-96.8\" font-family=\"Helvetica,sans-Serif\" font-size=\"14.00\" fill=\"#000000\">class = functional</text>\n</g>\n<!-- 4&#45;&gt;5 -->\n<g id=\"edge5\" class=\"edge\">\n<title>4&#45;&gt;5</title>\n<path fill=\"none\" stroke=\"#000000\" d=\"M277.7606,-192.9465C266.0669,-183.519 253.2606,-173.1946 241.163,-163.4415\"/>\n<polygon fill=\"#000000\" stroke=\"#000000\" points=\"243.3162,-160.6816 233.3343,-157.13 238.9227,-166.1312 243.3162,-160.6816\"/>\n</g>\n<!-- 8 -->\n<g id=\"node9\" class=\"node\">\n<title>8</title>\n<path fill=\"#f8f3fd\" stroke=\"#000000\" d=\"M537,-149.5C537,-149.5 361,-149.5 361,-149.5 355,-149.5 349,-143.5 349,-137.5 349,-137.5 349,-108.5 349,-108.5 349,-102.5 355,-96.5 361,-96.5 361,-96.5 537,-96.5 537,-96.5 543,-96.5 549,-102.5 549,-108.5 549,-108.5 549,-137.5 549,-137.5 549,-143.5 543,-149.5 537,-149.5\"/>\n<text text-anchor=\"middle\" x=\"449\" y=\"-134.3\" font-family=\"Helvetica,sans-Serif\" font-size=\"14.00\" fill=\"#000000\">samples = 0.2%</text>\n<text text-anchor=\"middle\" x=\"449\" y=\"-119.3\" font-family=\"Helvetica,sans-Serif\" font-size=\"14.00\" fill=\"#000000\">value = [0.452, 0.065, 0.484]</text>\n<text text-anchor=\"middle\" x=\"449\" y=\"-104.3\" font-family=\"Helvetica,sans-Serif\" font-size=\"14.00\" fill=\"#000000\">class = non functional</text>\n</g>\n<!-- 4&#45;&gt;8 -->\n<g id=\"edge8\" class=\"edge\">\n<title>4&#45;&gt;8</title>\n<path fill=\"none\" stroke=\"#000000\" d=\"M362.2394,-192.9465C376.9952,-181.0504 393.5225,-167.726 408.162,-155.9237\"/>\n<polygon fill=\"#000000\" stroke=\"#000000\" points=\"410.4891,-158.5433 416.0775,-149.5422 406.0957,-153.0938 410.4891,-158.5433\"/>\n</g>\n<!-- 6 -->\n<g id=\"node7\" class=\"node\">\n<title>6</title>\n<path fill=\"#f3c5a3\" stroke=\"#000000\" d=\"M164,-53C164,-53 12,-53 12,-53 6,-53 0,-47 0,-41 0,-41 0,-12 0,-12 0,-6 6,0 12,0 12,0 164,0 164,0 170,0 176,-6 176,-12 176,-12 176,-41 176,-41 176,-47 170,-53 164,-53\"/>\n<text text-anchor=\"middle\" x=\"88\" y=\"-37.8\" font-family=\"Helvetica,sans-Serif\" font-size=\"14.00\" fill=\"#000000\">samples = 27.7%</text>\n<text text-anchor=\"middle\" x=\"88\" y=\"-22.8\" font-family=\"Helvetica,sans-Serif\" font-size=\"14.00\" fill=\"#000000\">value = [0.63, 0.06, 0.31]</text>\n<text text-anchor=\"middle\" x=\"88\" y=\"-7.8\" font-family=\"Helvetica,sans-Serif\" font-size=\"14.00\" fill=\"#000000\">class = functional</text>\n</g>\n<!-- 5&#45;&gt;6 -->\n<g id=\"edge6\" class=\"edge\">\n<title>5&#45;&gt;6</title>\n<path fill=\"none\" stroke=\"#000000\" d=\"M154.6861,-88.9777C144.7168,-79.6376 133.9138,-69.5163 123.9643,-60.1947\"/>\n<polygon fill=\"#000000\" stroke=\"#000000\" points=\"126.2408,-57.5314 116.5502,-53.2485 121.4548,-62.6397 126.2408,-57.5314\"/>\n</g>\n<!-- 7 -->\n<g id=\"node8\" class=\"node\">\n<title>7</title>\n<path fill=\"#f2bf9b\" stroke=\"#000000\" d=\"M382,-53C382,-53 206,-53 206,-53 200,-53 194,-47 194,-41 194,-41 194,-12 194,-12 194,-6 200,0 206,0 206,0 382,0 382,0 388,0 394,-6 394,-12 394,-12 394,-41 394,-41 394,-47 388,-53 382,-53\"/>\n<text text-anchor=\"middle\" x=\"294\" y=\"-37.8\" font-family=\"Helvetica,sans-Serif\" font-size=\"14.00\" fill=\"#000000\">samples = 0.7%</text>\n<text text-anchor=\"middle\" x=\"294\" y=\"-22.8\" font-family=\"Helvetica,sans-Serif\" font-size=\"14.00\" fill=\"#000000\">value = [0.657, 0.037, 0.306]</text>\n<text text-anchor=\"middle\" x=\"294\" y=\"-7.8\" font-family=\"Helvetica,sans-Serif\" font-size=\"14.00\" fill=\"#000000\">class = functional</text>\n</g>\n<!-- 5&#45;&gt;7 -->\n<g id=\"edge7\" class=\"edge\">\n<title>5&#45;&gt;7</title>\n<path fill=\"none\" stroke=\"#000000\" d=\"M227.3139,-88.9777C237.2832,-79.6376 248.0862,-69.5163 258.0357,-60.1947\"/>\n<polygon fill=\"#000000\" stroke=\"#000000\" points=\"260.5452,-62.6397 265.4498,-53.2485 255.7592,-57.5314 260.5452,-62.6397\"/>\n</g>\n</g>\n</svg>\n"
          },
          "metadata": {
            "tags": []
          }
        }
      ]
    },
    {
      "cell_type": "code",
      "metadata": {
        "id": "31V7L6bVjmEA",
        "colab_type": "code",
        "outputId": "a65cbd0c-0506-4d21-8c9c-7698760edf8b",
        "colab": {
          "base_uri": "https://localhost:8080/",
          "height": 420
        }
      },
      "source": [
        "pipeline"
      ],
      "execution_count": 0,
      "outputs": [
        {
          "output_type": "execute_result",
          "data": {
            "text/plain": [
              "Pipeline(memory=None,\n",
              "         steps=[('ordinalencoder',\n",
              "                 OrdinalEncoder(cols=['funder', 'installer', 'wpt_name',\n",
              "                                      'basin', 'subvillage', 'region', 'lga',\n",
              "                                      'ward', 'public_meeting',\n",
              "                                      'scheme_management', 'scheme_name',\n",
              "                                      'permit', 'extraction_type',\n",
              "                                      'extraction_type_group',\n",
              "                                      'extraction_type_class', 'management',\n",
              "                                      'management_group', 'payment',\n",
              "                                      'water_quality', 'quality_group',\n",
              "                                      'quantit...\n",
              "                 RandomForestClassifier(bootstrap=True, ccp_alpha=0.0,\n",
              "                                        class_weight=None, criterion='gini',\n",
              "                                        max_depth=None, max_features='auto',\n",
              "                                        max_leaf_nodes=None, max_samples=None,\n",
              "                                        min_impurity_decrease=0.0,\n",
              "                                        min_impurity_split=None,\n",
              "                                        min_samples_leaf=1, min_samples_split=2,\n",
              "                                        min_weight_fraction_leaf=0.0,\n",
              "                                        n_estimators=100, n_jobs=-1,\n",
              "                                        oob_score=False, random_state=0,\n",
              "                                        verbose=0, warm_start=False))],\n",
              "         verbose=False)"
            ]
          },
          "metadata": {
            "tags": []
          },
          "execution_count": 49
        }
      ]
    },
    {
      "cell_type": "markdown",
      "metadata": {
        "colab_type": "text",
        "id": "QUd6gzcZgLVz"
      },
      "source": [
        "### [Ordinal Encoding](http://contrib.scikit-learn.org/categorical-encoding/ordinal.html)\n",
        "\n",
        "> Ordinal encoding uses a single column of integers to represent the classes. An optional mapping dict can be passed in; in this case, we use the knowledge that there is some true order to the classes themselves. Otherwise, the classes are assumed to have no true order and integers are selected at random."
      ]
    },
    {
      "cell_type": "code",
      "metadata": {
        "colab_type": "code",
        "id": "CnBz2RbwgLVz",
        "outputId": "e0e0afb6-53dd-436b-c4e0-8b0555efbbb9",
        "colab": {
          "base_uri": "https://localhost:8080/",
          "height": 656
        }
      },
      "source": [
        "encoder = ce.OrdinalEncoder()\n",
        "encoded = encoder.fit_transform(X_train[[feature]])\n",
        "print(f'1 column, {encoded[feature].nunique()} unique values')\n",
        "encoded.head(20)"
      ],
      "execution_count": 0,
      "outputs": [
        {
          "output_type": "stream",
          "text": [
            "1 column, 7 unique values\n"
          ],
          "name": "stdout"
        },
        {
          "output_type": "execute_result",
          "data": {
            "text/html": [
              "<div>\n",
              "<style scoped>\n",
              "    .dataframe tbody tr th:only-of-type {\n",
              "        vertical-align: middle;\n",
              "    }\n",
              "\n",
              "    .dataframe tbody tr th {\n",
              "        vertical-align: top;\n",
              "    }\n",
              "\n",
              "    .dataframe thead th {\n",
              "        text-align: right;\n",
              "    }\n",
              "</style>\n",
              "<table border=\"1\" class=\"dataframe\">\n",
              "  <thead>\n",
              "    <tr style=\"text-align: right;\">\n",
              "      <th></th>\n",
              "      <th>extraction_type_class</th>\n",
              "    </tr>\n",
              "  </thead>\n",
              "  <tbody>\n",
              "    <tr>\n",
              "      <th>43360</th>\n",
              "      <td>1</td>\n",
              "    </tr>\n",
              "    <tr>\n",
              "      <th>7263</th>\n",
              "      <td>1</td>\n",
              "    </tr>\n",
              "    <tr>\n",
              "      <th>2486</th>\n",
              "      <td>2</td>\n",
              "    </tr>\n",
              "    <tr>\n",
              "      <th>313</th>\n",
              "      <td>3</td>\n",
              "    </tr>\n",
              "    <tr>\n",
              "      <th>52726</th>\n",
              "      <td>4</td>\n",
              "    </tr>\n",
              "    <tr>\n",
              "      <th>8558</th>\n",
              "      <td>1</td>\n",
              "    </tr>\n",
              "    <tr>\n",
              "      <th>2559</th>\n",
              "      <td>1</td>\n",
              "    </tr>\n",
              "    <tr>\n",
              "      <th>54735</th>\n",
              "      <td>4</td>\n",
              "    </tr>\n",
              "    <tr>\n",
              "      <th>25763</th>\n",
              "      <td>2</td>\n",
              "    </tr>\n",
              "    <tr>\n",
              "      <th>44540</th>\n",
              "      <td>5</td>\n",
              "    </tr>\n",
              "    <tr>\n",
              "      <th>28603</th>\n",
              "      <td>3</td>\n",
              "    </tr>\n",
              "    <tr>\n",
              "      <th>4372</th>\n",
              "      <td>5</td>\n",
              "    </tr>\n",
              "    <tr>\n",
              "      <th>30666</th>\n",
              "      <td>1</td>\n",
              "    </tr>\n",
              "    <tr>\n",
              "      <th>6431</th>\n",
              "      <td>5</td>\n",
              "    </tr>\n",
              "    <tr>\n",
              "      <th>57420</th>\n",
              "      <td>3</td>\n",
              "    </tr>\n",
              "    <tr>\n",
              "      <th>1373</th>\n",
              "      <td>1</td>\n",
              "    </tr>\n",
              "    <tr>\n",
              "      <th>2026</th>\n",
              "      <td>1</td>\n",
              "    </tr>\n",
              "    <tr>\n",
              "      <th>58977</th>\n",
              "      <td>2</td>\n",
              "    </tr>\n",
              "    <tr>\n",
              "      <th>41101</th>\n",
              "      <td>1</td>\n",
              "    </tr>\n",
              "    <tr>\n",
              "      <th>10019</th>\n",
              "      <td>1</td>\n",
              "    </tr>\n",
              "  </tbody>\n",
              "</table>\n",
              "</div>"
            ],
            "text/plain": [
              "       extraction_type_class\n",
              "43360                      1\n",
              "7263                       1\n",
              "2486                       2\n",
              "313                        3\n",
              "52726                      4\n",
              "8558                       1\n",
              "2559                       1\n",
              "54735                      4\n",
              "25763                      2\n",
              "44540                      5\n",
              "28603                      3\n",
              "4372                       5\n",
              "30666                      1\n",
              "6431                       5\n",
              "57420                      3\n",
              "1373                       1\n",
              "2026                       1\n",
              "58977                      2\n",
              "41101                      1\n",
              "10019                      1"
            ]
          },
          "metadata": {
            "tags": []
          },
          "execution_count": 43
        }
      ]
    },
    {
      "cell_type": "markdown",
      "metadata": {
        "colab_type": "text",
        "id": "Nd-ZWprasqUM"
      },
      "source": [
        "#### Ordinal Encoding, Logistic Regression, Validation Accuracy"
      ]
    },
    {
      "cell_type": "code",
      "metadata": {
        "colab_type": "code",
        "id": "GJ1YpwjvrhfL",
        "outputId": "a4165e4c-28c1-4335-b2c9-059834deb820",
        "colab": {
          "base_uri": "https://localhost:8080/",
          "height": 34
        }
      },
      "source": [
        "lr = make_pipeline(\n",
        "    ce.OrdinalEncoder(), \n",
        "    SimpleImputer(), \n",
        "    StandardScaler(), \n",
        "    LogisticRegressionCV(multi_class='auto', solver='lbfgs', cv=5, n_jobs=-1)\n",
        ")\n",
        "\n",
        "lr.fit(X_train[[feature]], y_train)\n",
        "score = lr.score(X_val[[feature]], y_val)\n",
        "print('Logistic Regression, Validation Accuracy', score)"
      ],
      "execution_count": 0,
      "outputs": [
        {
          "output_type": "stream",
          "text": [
            "Logistic Regression, Validation Accuracy 0.5417508417508418\n"
          ],
          "name": "stdout"
        }
      ]
    },
    {
      "cell_type": "markdown",
      "metadata": {
        "colab_type": "text",
        "id": "9lO_R3SksuHs"
      },
      "source": [
        "#### Ordinal Encoding, Decision Tree, Validation Accuracy"
      ]
    },
    {
      "cell_type": "code",
      "metadata": {
        "colab_type": "code",
        "id": "aOELD_roriVI",
        "outputId": "b83438d2-56c2-4e53-82ea-a07ce4f4f6dc",
        "colab": {
          "base_uri": "https://localhost:8080/",
          "height": 34
        }
      },
      "source": [
        "dt = make_pipeline(\n",
        "    ce.OrdinalEncoder(), \n",
        "    SimpleImputer(), \n",
        "    DecisionTreeClassifier(random_state=42)\n",
        ")\n",
        "\n",
        "dt.fit(X_train[[feature]], y_train)\n",
        "score = dt.score(X_val[[feature]], y_val)\n",
        "print('Decision Tree, Validation Accuracy', score)"
      ],
      "execution_count": 0,
      "outputs": [
        {
          "output_type": "stream",
          "text": [
            "Decision Tree, Validation Accuracy 0.6202861952861953\n"
          ],
          "name": "stdout"
        }
      ]
    },
    {
      "cell_type": "markdown",
      "metadata": {
        "colab_type": "text",
        "id": "7V2zHjiwswTg"
      },
      "source": [
        "#### Ordinal Encoding, Logistic Regression, Model Interpretation"
      ]
    },
    {
      "cell_type": "code",
      "metadata": {
        "colab_type": "code",
        "id": "S9UPYPois8QR",
        "outputId": "aa99c8f8-4811-4030-99f3-b0bc1799359b",
        "colab": {
          "base_uri": "https://localhost:8080/",
          "height": 265
        }
      },
      "source": [
        "model = lr.named_steps['logisticregressioncv']\n",
        "encoder = lr.named_steps['ordinalencoder']\n",
        "encoded_columns = encoder.transform(X_val[[feature]]).columns\n",
        "coefficients = pd.Series(model.coef_[0], encoded_columns)\n",
        "coefficients.sort_values().plot.barh(color='grey');"
      ],
      "execution_count": 0,
      "outputs": [
        {
          "output_type": "display_data",
          "data": {
            "image/png": "[encoded data removed]",
            "text/plain": [
              "<Figure size 432x288 with 1 Axes>"
            ]
          },
          "metadata": {
            "tags": []
          }
        }
      ]
    },
    {
      "cell_type": "markdown",
      "metadata": {
        "colab_type": "text",
        "id": "MvmmvE8fsymh"
      },
      "source": [
        "#### Ordinal Encoding, Decision Tree, Model Interpretation"
      ]
    },
    {
      "cell_type": "code",
      "metadata": {
        "colab_type": "code",
        "id": "jCvUu4Oms88b",
        "outputId": "64c69119-ec5f-4212-931f-d9f095730d59",
        "colab": {
          "base_uri": "https://localhost:8080/",
          "height": 816
        }
      },
      "source": [
        "model = dt.named_steps['decisiontreeclassifier']\n",
        "encoder = dt.named_steps['ordinalencoder']\n",
        "encoded_columns = encoder.transform(X_val[[feature]]).columns\n",
        "\n",
        "dot_data = export_graphviz(model, \n",
        "                           out_file=None, \n",
        "                           max_depth=5, \n",
        "                           feature_names=encoded_columns,\n",
        "                           class_names=model.classes_, \n",
        "                           impurity=False, \n",
        "                           filled=True, \n",
        "                           proportion=True, \n",
        "                           rounded=True)   \n",
        "display(graphviz.Source(dot_data))"
      ],
      "execution_count": 0,
      "outputs": [
        {
          "output_type": "display_data",
          "data": {
            "text/plain": [
              "<graphviz.files.Source at 0x7f4ee33f1358>"
            ],
            "image/svg+xml": "<?xml version=\"1.0\" encoding=\"UTF-8\" standalone=\"no\"?>\n<!DOCTYPE svg PUBLIC \"-//W3C//DTD SVG 1.1//EN\"\n \"http://www.w3.org/Graphics/SVG/1.1/DTD/svg11.dtd\">\n<!-- Generated by graphviz version 2.40.1 (20161225.0304)\n -->\n<!-- Title: Tree Pages: 1 -->\n<svg width=\"1167pt\" height=\"581pt\"\n viewBox=\"0.00 0.00 1167.00 581.00\" xmlns=\"http://www.w3.org/2000/svg\" xmlns:xlink=\"http://www.w3.org/1999/xlink\">\n<g id=\"graph0\" class=\"graph\" transform=\"scale(1 1) rotate(0) translate(4 577)\">\n<title>Tree</title>\n<polygon fill=\"#ffffff\" stroke=\"transparent\" points=\"-4,4 -4,-577 1163,-577 1163,4 -4,4\"/>\n<!-- 0 -->\n<g id=\"node1\" class=\"node\">\n<title>0</title>\n<path fill=\"#f8decc\" stroke=\"#000000\" d=\"M500,-573C500,-573 322,-573 322,-573 316,-573 310,-567 310,-561 310,-561 310,-517 310,-517 310,-511 316,-505 322,-505 322,-505 500,-505 500,-505 506,-505 512,-511 512,-517 512,-517 512,-561 512,-561 512,-567 506,-573 500,-573\"/>\n<text text-anchor=\"middle\" x=\"411\" y=\"-557.8\" font-family=\"Helvetica,sans-Serif\" font-size=\"14.00\" fill=\"#000000\">extraction_type_class &lt;= 2.5</text>\n<text text-anchor=\"middle\" x=\"411\" y=\"-542.8\" font-family=\"Helvetica,sans-Serif\" font-size=\"14.00\" fill=\"#000000\">samples = 100.0%</text>\n<text text-anchor=\"middle\" x=\"411\" y=\"-527.8\" font-family=\"Helvetica,sans-Serif\" font-size=\"14.00\" fill=\"#000000\">value = [0.543, 0.073, 0.384]</text>\n<text text-anchor=\"middle\" x=\"411\" y=\"-512.8\" font-family=\"Helvetica,sans-Serif\" font-size=\"14.00\" fill=\"#000000\">class = functional</text>\n</g>\n<!-- 1 -->\n<g id=\"node2\" class=\"node\">\n<title>1</title>\n<path fill=\"#f4c7a8\" stroke=\"#000000\" d=\"M390,-469C390,-469 212,-469 212,-469 206,-469 200,-463 200,-457 200,-457 200,-413 200,-413 200,-407 206,-401 212,-401 212,-401 390,-401 390,-401 396,-401 402,-407 402,-413 402,-413 402,-457 402,-457 402,-463 396,-469 390,-469\"/>\n<text text-anchor=\"middle\" x=\"301\" y=\"-453.8\" font-family=\"Helvetica,sans-Serif\" font-size=\"14.00\" fill=\"#000000\">extraction_type_class &lt;= 1.5</text>\n<text text-anchor=\"middle\" x=\"301\" y=\"-438.8\" font-family=\"Helvetica,sans-Serif\" font-size=\"14.00\" fill=\"#000000\">samples = 72.9%</text>\n<text text-anchor=\"middle\" x=\"301\" y=\"-423.8\" font-family=\"Helvetica,sans-Serif\" font-size=\"14.00\" fill=\"#000000\">value = [0.611, 0.085, 0.304]</text>\n<text text-anchor=\"middle\" x=\"301\" y=\"-408.8\" font-family=\"Helvetica,sans-Serif\" font-size=\"14.00\" fill=\"#000000\">class = functional</text>\n</g>\n<!-- 0&#45;&gt;1 -->\n<g id=\"edge1\" class=\"edge\">\n<title>0&#45;&gt;1</title>\n<path fill=\"none\" stroke=\"#000000\" d=\"M374.9819,-504.9465C365.2954,-495.7884 354.7136,-485.7838 344.6603,-476.2788\"/>\n<polygon fill=\"#000000\" stroke=\"#000000\" points=\"346.7701,-473.4569 337.099,-469.13 341.961,-478.5434 346.7701,-473.4569\"/>\n<text text-anchor=\"middle\" x=\"337.7997\" y=\"-490.4202\" font-family=\"Helvetica,sans-Serif\" font-size=\"14.00\" fill=\"#000000\">True</text>\n</g>\n<!-- 4 -->\n<g id=\"node5\" class=\"node\">\n<title>4</title>\n<path fill=\"#d0b4f5\" stroke=\"#000000\" d=\"M610,-469C610,-469 432,-469 432,-469 426,-469 420,-463 420,-457 420,-457 420,-413 420,-413 420,-407 426,-401 432,-401 432,-401 610,-401 610,-401 616,-401 622,-407 622,-413 622,-413 622,-457 622,-457 622,-463 616,-469 610,-469\"/>\n<text text-anchor=\"middle\" x=\"521\" y=\"-453.8\" font-family=\"Helvetica,sans-Serif\" font-size=\"14.00\" fill=\"#000000\">extraction_type_class &lt;= 3.5</text>\n<text text-anchor=\"middle\" x=\"521\" y=\"-438.8\" font-family=\"Helvetica,sans-Serif\" font-size=\"14.00\" fill=\"#000000\">samples = 27.1%</text>\n<text text-anchor=\"middle\" x=\"521\" y=\"-423.8\" font-family=\"Helvetica,sans-Serif\" font-size=\"14.00\" fill=\"#000000\">value = [0.361, 0.038, 0.601]</text>\n<text text-anchor=\"middle\" x=\"521\" y=\"-408.8\" font-family=\"Helvetica,sans-Serif\" font-size=\"14.00\" fill=\"#000000\">class = non functional</text>\n</g>\n<!-- 0&#45;&gt;4 -->\n<g id=\"edge4\" class=\"edge\">\n<title>0&#45;&gt;4</title>\n<path fill=\"none\" stroke=\"#000000\" d=\"M447.0181,-504.9465C456.7046,-495.7884 467.2864,-485.7838 477.3397,-476.2788\"/>\n<polygon fill=\"#000000\" stroke=\"#000000\" points=\"480.039,-478.5434 484.901,-469.13 475.2299,-473.4569 480.039,-478.5434\"/>\n<text text-anchor=\"middle\" x=\"484.2003\" y=\"-490.4202\" font-family=\"Helvetica,sans-Serif\" font-size=\"14.00\" fill=\"#000000\">False</text>\n</g>\n<!-- 2 -->\n<g id=\"node3\" class=\"node\">\n<title>2</title>\n<path fill=\"#f4c9aa\" stroke=\"#000000\" d=\"M188,-357.5C188,-357.5 12,-357.5 12,-357.5 6,-357.5 0,-351.5 0,-345.5 0,-345.5 0,-316.5 0,-316.5 0,-310.5 6,-304.5 12,-304.5 12,-304.5 188,-304.5 188,-304.5 194,-304.5 200,-310.5 200,-316.5 200,-316.5 200,-345.5 200,-345.5 200,-351.5 194,-357.5 188,-357.5\"/>\n<text text-anchor=\"middle\" x=\"100\" y=\"-342.3\" font-family=\"Helvetica,sans-Serif\" font-size=\"14.00\" fill=\"#000000\">samples = 45.1%</text>\n<text text-anchor=\"middle\" x=\"100\" y=\"-327.3\" font-family=\"Helvetica,sans-Serif\" font-size=\"14.00\" fill=\"#000000\">value = [0.599, 0.101, 0.299]</text>\n<text text-anchor=\"middle\" x=\"100\" y=\"-312.3\" font-family=\"Helvetica,sans-Serif\" font-size=\"14.00\" fill=\"#000000\">class = functional</text>\n</g>\n<!-- 1&#45;&gt;2 -->\n<g id=\"edge2\" class=\"edge\">\n<title>1&#45;&gt;2</title>\n<path fill=\"none\" stroke=\"#000000\" d=\"M235.1851,-400.9465C211.1292,-388.4997 184.0513,-374.4892 160.4827,-362.2946\"/>\n<polygon fill=\"#000000\" stroke=\"#000000\" points=\"161.7878,-359.0291 151.2978,-357.5422 158.571,-365.2462 161.7878,-359.0291\"/>\n</g>\n<!-- 3 -->\n<g id=\"node4\" class=\"node\">\n<title>3</title>\n<path fill=\"#f3c5a3\" stroke=\"#000000\" d=\"M382,-357.5C382,-357.5 230,-357.5 230,-357.5 224,-357.5 218,-351.5 218,-345.5 218,-345.5 218,-316.5 218,-316.5 218,-310.5 224,-304.5 230,-304.5 230,-304.5 382,-304.5 382,-304.5 388,-304.5 394,-310.5 394,-316.5 394,-316.5 394,-345.5 394,-345.5 394,-351.5 388,-357.5 382,-357.5\"/>\n<text text-anchor=\"middle\" x=\"306\" y=\"-342.3\" font-family=\"Helvetica,sans-Serif\" font-size=\"14.00\" fill=\"#000000\">samples = 27.7%</text>\n<text text-anchor=\"middle\" x=\"306\" y=\"-327.3\" font-family=\"Helvetica,sans-Serif\" font-size=\"14.00\" fill=\"#000000\">value = [0.63, 0.06, 0.31]</text>\n<text text-anchor=\"middle\" x=\"306\" y=\"-312.3\" font-family=\"Helvetica,sans-Serif\" font-size=\"14.00\" fill=\"#000000\">class = functional</text>\n</g>\n<!-- 1&#45;&gt;3 -->\n<g id=\"edge3\" class=\"edge\">\n<title>1&#45;&gt;3</title>\n<path fill=\"none\" stroke=\"#000000\" d=\"M302.6372,-400.9465C303.1509,-390.2621 303.7199,-378.4254 304.2416,-367.5742\"/>\n<polygon fill=\"#000000\" stroke=\"#000000\" points=\"307.7396,-367.6987 304.7239,-357.5422 300.7477,-367.3625 307.7396,-367.6987\"/>\n</g>\n<!-- 5 -->\n<g id=\"node6\" class=\"node\">\n<title>5</title>\n<path fill=\"#9d66eb\" stroke=\"#000000\" d=\"M601,-357.5C601,-357.5 433,-357.5 433,-357.5 427,-357.5 421,-351.5 421,-345.5 421,-345.5 421,-316.5 421,-316.5 421,-310.5 427,-304.5 433,-304.5 433,-304.5 601,-304.5 601,-304.5 607,-304.5 613,-310.5 613,-316.5 613,-316.5 613,-345.5 613,-345.5 613,-351.5 607,-357.5 601,-357.5\"/>\n<text text-anchor=\"middle\" x=\"517\" y=\"-342.3\" font-family=\"Helvetica,sans-Serif\" font-size=\"14.00\" fill=\"#000000\">samples = 10.9%</text>\n<text text-anchor=\"middle\" x=\"517\" y=\"-327.3\" font-family=\"Helvetica,sans-Serif\" font-size=\"14.00\" fill=\"#000000\">value = [0.159, 0.031, 0.81]</text>\n<text text-anchor=\"middle\" x=\"517\" y=\"-312.3\" font-family=\"Helvetica,sans-Serif\" font-size=\"14.00\" fill=\"#000000\">class = non functional</text>\n</g>\n<!-- 4&#45;&gt;5 -->\n<g id=\"edge5\" class=\"edge\">\n<title>4&#45;&gt;5</title>\n<path fill=\"none\" stroke=\"#000000\" d=\"M519.6903,-400.9465C519.2793,-390.2621 518.8241,-378.4254 518.4067,-367.5742\"/>\n<polygon fill=\"#000000\" stroke=\"#000000\" points=\"521.9027,-367.4002 518.0209,-357.5422 514.9079,-367.6693 521.9027,-367.4002\"/>\n</g>\n<!-- 6 -->\n<g id=\"node7\" class=\"node\">\n<title>6</title>\n<path fill=\"#fdf7f2\" stroke=\"#000000\" d=\"M821,-365C821,-365 643,-365 643,-365 637,-365 631,-359 631,-353 631,-353 631,-309 631,-309 631,-303 637,-297 643,-297 643,-297 821,-297 821,-297 827,-297 833,-303 833,-309 833,-309 833,-353 833,-353 833,-359 827,-365 821,-365\"/>\n<text text-anchor=\"middle\" x=\"732\" y=\"-349.8\" font-family=\"Helvetica,sans-Serif\" font-size=\"14.00\" fill=\"#000000\">extraction_type_class &lt;= 4.5</text>\n<text text-anchor=\"middle\" x=\"732\" y=\"-334.8\" font-family=\"Helvetica,sans-Serif\" font-size=\"14.00\" fill=\"#000000\">samples = 16.2%</text>\n<text text-anchor=\"middle\" x=\"732\" y=\"-319.8\" font-family=\"Helvetica,sans-Serif\" font-size=\"14.00\" fill=\"#000000\">value = [0.497, 0.043, 0.46]</text>\n<text text-anchor=\"middle\" x=\"732\" y=\"-304.8\" font-family=\"Helvetica,sans-Serif\" font-size=\"14.00\" fill=\"#000000\">class = functional</text>\n</g>\n<!-- 4&#45;&gt;6 -->\n<g id=\"edge6\" class=\"edge\">\n<title>4&#45;&gt;6</title>\n<path fill=\"none\" stroke=\"#000000\" d=\"M590.0893,-400.9465C610.4002,-390.9354 632.7633,-379.9129 653.6112,-369.6371\"/>\n<polygon fill=\"#000000\" stroke=\"#000000\" points=\"655.3332,-372.6905 662.7555,-365.13 652.2385,-366.4117 655.3332,-372.6905\"/>\n</g>\n<!-- 7 -->\n<g id=\"node8\" class=\"node\">\n<title>7</title>\n<path fill=\"#d8c1f7\" stroke=\"#000000\" d=\"M710,-253.5C710,-253.5 534,-253.5 534,-253.5 528,-253.5 522,-247.5 522,-241.5 522,-241.5 522,-212.5 522,-212.5 522,-206.5 528,-200.5 534,-200.5 534,-200.5 710,-200.5 710,-200.5 716,-200.5 722,-206.5 722,-212.5 722,-212.5 722,-241.5 722,-241.5 722,-247.5 716,-253.5 710,-253.5\"/>\n<text text-anchor=\"middle\" x=\"622\" y=\"-238.3\" font-family=\"Helvetica,sans-Serif\" font-size=\"14.00\" fill=\"#000000\">samples = 5.0%</text>\n<text text-anchor=\"middle\" x=\"622\" y=\"-223.3\" font-family=\"Helvetica,sans-Serif\" font-size=\"14.00\" fill=\"#000000\">value = [0.381, 0.045, 0.574]</text>\n<text text-anchor=\"middle\" x=\"622\" y=\"-208.3\" font-family=\"Helvetica,sans-Serif\" font-size=\"14.00\" fill=\"#000000\">class = non functional</text>\n</g>\n<!-- 6&#45;&gt;7 -->\n<g id=\"edge7\" class=\"edge\">\n<title>6&#45;&gt;7</title>\n<path fill=\"none\" stroke=\"#000000\" d=\"M695.9819,-296.9465C683.6325,-285.2707 669.8278,-272.219 657.5183,-260.5809\"/>\n<polygon fill=\"#000000\" stroke=\"#000000\" points=\"659.7445,-257.869 650.0734,-253.5422 654.9354,-262.9556 659.7445,-257.869\"/>\n</g>\n<!-- 8 -->\n<g id=\"node9\" class=\"node\">\n<title>8</title>\n<path fill=\"#f9e2d1\" stroke=\"#000000\" d=\"M930,-261C930,-261 752,-261 752,-261 746,-261 740,-255 740,-249 740,-249 740,-205 740,-205 740,-199 746,-193 752,-193 752,-193 930,-193 930,-193 936,-193 942,-199 942,-205 942,-205 942,-249 942,-249 942,-255 936,-261 930,-261\"/>\n<text text-anchor=\"middle\" x=\"841\" y=\"-245.8\" font-family=\"Helvetica,sans-Serif\" font-size=\"14.00\" fill=\"#000000\">extraction_type_class &lt;= 5.5</text>\n<text text-anchor=\"middle\" x=\"841\" y=\"-230.8\" font-family=\"Helvetica,sans-Serif\" font-size=\"14.00\" fill=\"#000000\">samples = 11.2%</text>\n<text text-anchor=\"middle\" x=\"841\" y=\"-215.8\" font-family=\"Helvetica,sans-Serif\" font-size=\"14.00\" fill=\"#000000\">value = [0.548, 0.042, 0.41]</text>\n<text text-anchor=\"middle\" x=\"841\" y=\"-200.8\" font-family=\"Helvetica,sans-Serif\" font-size=\"14.00\" fill=\"#000000\">class = functional</text>\n</g>\n<!-- 6&#45;&gt;8 -->\n<g id=\"edge8\" class=\"edge\">\n<title>6&#45;&gt;8</title>\n<path fill=\"none\" stroke=\"#000000\" d=\"M767.6907,-296.9465C777.2891,-287.7884 787.7747,-277.7838 797.7366,-268.2788\"/>\n<polygon fill=\"#000000\" stroke=\"#000000\" points=\"800.4102,-270.5655 805.2291,-261.13 795.5779,-265.5009 800.4102,-270.5655\"/>\n</g>\n<!-- 9 -->\n<g id=\"node10\" class=\"node\">\n<title>9</title>\n<path fill=\"#f9e4d5\" stroke=\"#000000\" d=\"M819,-149.5C819,-149.5 643,-149.5 643,-149.5 637,-149.5 631,-143.5 631,-137.5 631,-137.5 631,-108.5 631,-108.5 631,-102.5 637,-96.5 643,-96.5 643,-96.5 819,-96.5 819,-96.5 825,-96.5 831,-102.5 831,-108.5 831,-108.5 831,-137.5 831,-137.5 831,-143.5 825,-149.5 819,-149.5\"/>\n<text text-anchor=\"middle\" x=\"731\" y=\"-134.3\" font-family=\"Helvetica,sans-Serif\" font-size=\"14.00\" fill=\"#000000\">samples = 10.3%</text>\n<text text-anchor=\"middle\" x=\"731\" y=\"-119.3\" font-family=\"Helvetica,sans-Serif\" font-size=\"14.00\" fill=\"#000000\">value = [0.541, 0.042, 0.416]</text>\n<text text-anchor=\"middle\" x=\"731\" y=\"-104.3\" font-family=\"Helvetica,sans-Serif\" font-size=\"14.00\" fill=\"#000000\">class = functional</text>\n</g>\n<!-- 8&#45;&gt;9 -->\n<g id=\"edge9\" class=\"edge\">\n<title>8&#45;&gt;9</title>\n<path fill=\"none\" stroke=\"#000000\" d=\"M804.9819,-192.9465C792.6325,-181.2707 778.8278,-168.219 766.5183,-156.5809\"/>\n<polygon fill=\"#000000\" stroke=\"#000000\" points=\"768.7445,-153.869 759.0734,-149.5422 763.9354,-158.9556 768.7445,-153.869\"/>\n</g>\n<!-- 10 -->\n<g id=\"node11\" class=\"node\">\n<title>10</title>\n<path fill=\"#f4cbad\" stroke=\"#000000\" d=\"M1039,-157C1039,-157 861,-157 861,-157 855,-157 849,-151 849,-145 849,-145 849,-101 849,-101 849,-95 855,-89 861,-89 861,-89 1039,-89 1039,-89 1045,-89 1051,-95 1051,-101 1051,-101 1051,-145 1051,-145 1051,-151 1045,-157 1039,-157\"/>\n<text text-anchor=\"middle\" x=\"950\" y=\"-141.8\" font-family=\"Helvetica,sans-Serif\" font-size=\"14.00\" fill=\"#000000\">extraction_type_class &lt;= 6.5</text>\n<text text-anchor=\"middle\" x=\"950\" y=\"-126.8\" font-family=\"Helvetica,sans-Serif\" font-size=\"14.00\" fill=\"#000000\">samples = 0.9%</text>\n<text text-anchor=\"middle\" x=\"950\" y=\"-111.8\" font-family=\"Helvetica,sans-Serif\" font-size=\"14.00\" fill=\"#000000\">value = [0.614, 0.043, 0.343]</text>\n<text text-anchor=\"middle\" x=\"950\" y=\"-96.8\" font-family=\"Helvetica,sans-Serif\" font-size=\"14.00\" fill=\"#000000\">class = functional</text>\n</g>\n<!-- 8&#45;&gt;10 -->\n<g id=\"edge10\" class=\"edge\">\n<title>8&#45;&gt;10</title>\n<path fill=\"none\" stroke=\"#000000\" d=\"M876.6907,-192.9465C886.2891,-183.7884 896.7747,-173.7838 906.7366,-164.2788\"/>\n<polygon fill=\"#000000\" stroke=\"#000000\" points=\"909.4102,-166.5655 914.2291,-157.13 904.5779,-161.5009 909.4102,-166.5655\"/>\n</g>\n<!-- 11 -->\n<g id=\"node12\" class=\"node\">\n<title>11</title>\n<path fill=\"#f2bf9b\" stroke=\"#000000\" d=\"M929,-53C929,-53 753,-53 753,-53 747,-53 741,-47 741,-41 741,-41 741,-12 741,-12 741,-6 747,0 753,0 753,0 929,0 929,0 935,0 941,-6 941,-12 941,-12 941,-41 941,-41 941,-47 935,-53 929,-53\"/>\n<text text-anchor=\"middle\" x=\"841\" y=\"-37.8\" font-family=\"Helvetica,sans-Serif\" font-size=\"14.00\" fill=\"#000000\">samples = 0.7%</text>\n<text text-anchor=\"middle\" x=\"841\" y=\"-22.8\" font-family=\"Helvetica,sans-Serif\" font-size=\"14.00\" fill=\"#000000\">value = [0.657, 0.037, 0.306]</text>\n<text text-anchor=\"middle\" x=\"841\" y=\"-7.8\" font-family=\"Helvetica,sans-Serif\" font-size=\"14.00\" fill=\"#000000\">class = functional</text>\n</g>\n<!-- 10&#45;&gt;11 -->\n<g id=\"edge11\" class=\"edge\">\n<title>10&#45;&gt;11</title>\n<path fill=\"none\" stroke=\"#000000\" d=\"M911.5707,-88.9777C900.9173,-79.546 889.3641,-69.3178 878.7499,-59.9208\"/>\n<polygon fill=\"#000000\" stroke=\"#000000\" points=\"881.0207,-57.2566 871.2133,-53.2485 876.3806,-62.4978 881.0207,-57.2566\"/>\n</g>\n<!-- 12 -->\n<g id=\"node13\" class=\"node\">\n<title>12</title>\n<path fill=\"#f8f3fd\" stroke=\"#000000\" d=\"M1147,-53C1147,-53 971,-53 971,-53 965,-53 959,-47 959,-41 959,-41 959,-12 959,-12 959,-6 965,0 971,0 971,0 1147,0 1147,0 1153,0 1159,-6 1159,-12 1159,-12 1159,-41 1159,-41 1159,-47 1153,-53 1147,-53\"/>\n<text text-anchor=\"middle\" x=\"1059\" y=\"-37.8\" font-family=\"Helvetica,sans-Serif\" font-size=\"14.00\" fill=\"#000000\">samples = 0.2%</text>\n<text text-anchor=\"middle\" x=\"1059\" y=\"-22.8\" font-family=\"Helvetica,sans-Serif\" font-size=\"14.00\" fill=\"#000000\">value = [0.452, 0.065, 0.484]</text>\n<text text-anchor=\"middle\" x=\"1059\" y=\"-7.8\" font-family=\"Helvetica,sans-Serif\" font-size=\"14.00\" fill=\"#000000\">class = non functional</text>\n</g>\n<!-- 10&#45;&gt;12 -->\n<g id=\"edge12\" class=\"edge\">\n<title>10&#45;&gt;12</title>\n<path fill=\"none\" stroke=\"#000000\" d=\"M988.4293,-88.9777C999.0827,-79.546 1010.6359,-69.3178 1021.2501,-59.9208\"/>\n<polygon fill=\"#000000\" stroke=\"#000000\" points=\"1023.6194,-62.4978 1028.7867,-53.2485 1018.9793,-57.2566 1023.6194,-62.4978\"/>\n</g>\n</g>\n</svg>\n"
          },
          "metadata": {
            "tags": []
          }
        }
      ]
    },
    {
      "cell_type": "markdown",
      "metadata": {
        "colab_type": "text",
        "id": "P4EJi2GvgLVa"
      },
      "source": [
        "# Understand how tree ensembles reduce overfitting compared to a single decision tree with unlimited depth"
      ]
    },
    {
      "cell_type": "markdown",
      "metadata": {
        "id": "axvjYtRv9Epu",
        "colab_type": "text"
      },
      "source": [
        "## Overview"
      ]
    },
    {
      "cell_type": "markdown",
      "metadata": {
        "colab_type": "text",
        "id": "0nNABF3HgLVg"
      },
      "source": [
        "### What's \"random\" about random forests?\n",
        "1. Each tree trains on a random bootstrap sample of the data. (In scikit-learn, for `RandomForestRegressor` and `RandomForestClassifier`, the `bootstrap` parameter's default is `True`.) This type of ensembling is called Bagging. (Bootstrap AGGregatING.)\n",
        "2. Each split considers a random subset of the features. (In scikit-learn, when the `max_features` parameter is not `None`.) \n",
        "\n",
        "For extra randomness, you can try [\"extremely randomized trees\"](https://scikit-learn.org/stable/modules/ensemble.html#extremely-randomized-trees)!\n",
        "\n",
        ">In extremely randomized trees (see [ExtraTreesClassifier](https://scikit-learn.org/stable/modules/generated/sklearn.ensemble.ExtraTreesClassifier.html) and [ExtraTreesRegressor](https://scikit-learn.org/stable/modules/generated/sklearn.ensemble.ExtraTreesRegressor.html) classes), randomness goes one step further in the way splits are computed. As in random forests, a random subset of candidate features is used, but instead of looking for the most discriminative thresholds, thresholds are drawn at random for each candidate feature and the best of these randomly-generated thresholds is picked as the splitting rule. This usually allows to reduce the variance of the model a bit more, at the expense of a slightly greater increase in bias"
      ]
    },
    {
      "cell_type": "markdown",
      "metadata": {
        "id": "SABL5fg09Epv",
        "colab_type": "text"
      },
      "source": [
        "## Follow Along"
      ]
    },
    {
      "cell_type": "markdown",
      "metadata": {
        "colab_type": "text",
        "id": "pUYP619CgLVb"
      },
      "source": [
        "### Example: [predicting golf putts](https://statmodeling.stat.columbia.edu/2008/12/04/the_golf_puttin/)\n",
        "(1 feature, non-linear, regression)"
      ]
    },
    {
      "cell_type": "code",
      "metadata": {
        "colab_type": "code",
        "id": "b4640ukxgLVc",
        "colab": {}
      },
      "source": [
        "putts = pd.DataFrame(\n",
        "    columns=['distance', 'tries', 'successes'], \n",
        "    data = [[2, 1443, 1346],\n",
        "            [3, 694, 577],\n",
        "            [4, 455, 337],\n",
        "            [5, 353, 208],\n",
        "            [6, 272, 149],\n",
        "            [7, 256, 136],\n",
        "            [8, 240, 111],\n",
        "            [9, 217, 69],\n",
        "            [10, 200, 67],\n",
        "            [11, 237, 75],\n",
        "            [12, 202, 52],\n",
        "            [13, 192, 46],\n",
        "            [14, 174, 54],\n",
        "            [15, 167, 28],\n",
        "            [16, 201, 27],\n",
        "            [17, 195, 31],\n",
        "            [18, 191, 33],\n",
        "            [19, 147, 20],\n",
        "            [20, 152, 24]]\n",
        ")\n",
        "\n",
        "putts['rate of success'] = putts['successes'] / putts['tries']\n",
        "putts_X = putts[['distance']]\n",
        "putts_y = putts['rate of success']"
      ],
      "execution_count": 0,
      "outputs": []
    },
    {
      "cell_type": "code",
      "metadata": {
        "colab_type": "code",
        "id": "T0IpCcKggLVd",
        "outputId": "785b273c-f101-4e40-b0cc-470fa92fbf52",
        "colab": {
          "base_uri": "https://localhost:8080/",
          "height": 638,
          "referenced_widgets": [
            "411b6f0ef9cc48c6be25690c0bd41e17",
            "5885f7bc21c344e4b19bd6737af66a06",
            "be6ee52126c7442d9f5932227ef54c23",
            "9210c973ab834e9e9b9d97ab659d02ad",
            "aba6607b5c4c48fdbb79f9b868a795d6",
            "b488b69f3da0411da874d5256bfae55e",
            "5cd8fdd036ee44b0bd1e24a6a6e16a1a",
            "5101c39a474343ef963bc670fc1a392e",
            "a5d9238468e546dba024cd2aae1fc73d"
          ]
        }
      },
      "source": [
        "%matplotlib inline\n",
        "import matplotlib.pyplot as plt\n",
        "from ipywidgets import interact\n",
        "from sklearn.ensemble import RandomForestRegressor\n",
        "from sklearn.tree import DecisionTreeRegressor\n",
        "\n",
        "def putt_trees(max_depth=1, n_estimators=1):\n",
        "    models = [DecisionTreeRegressor(max_depth=max_depth), \n",
        "              RandomForestRegressor(max_depth=max_depth, n_estimators=n_estimators)]\n",
        "    \n",
        "    for model in models:\n",
        "        name = model.__class__.__name__\n",
        "        model.fit(putts_X, putts_y)\n",
        "        ax = putts.plot('distance', 'rate of success', kind='scatter', title=name)\n",
        "        ax.step(putts_X, model.predict(putts_X), where='mid')\n",
        "        plt.show()\n",
        "        \n",
        "interact(putt_trees, max_depth=(1,6,1), n_estimators=(10,40,10));"
      ],
      "execution_count": 0,
      "outputs": [
        {
          "output_type": "display_data",
          "data": {
            "application/vnd.jupyter.widget-view+json": {
              "model_id": "411b6f0ef9cc48c6be25690c0bd41e17",
              "version_minor": 0,
              "version_major": 2
            },
            "text/plain": [
              "interactive(children=(IntSlider(value=1, description='max_depth', max=6, min=1), IntSlider(value=10, descripti…"
            ]
          },
          "metadata": {
            "tags": []
          }
        }
      ]
    },
    {
      "cell_type": "markdown",
      "metadata": {
        "colab_type": "text",
        "id": "_KgZK9_9gLVh"
      },
      "source": [
        "### Bagging demo, with golf putts data\n",
        "https://pandas.pydata.org/pandas-docs/stable/reference/api/pandas.DataFrame.sample.html"
      ]
    },
    {
      "cell_type": "code",
      "metadata": {
        "colab_type": "code",
        "id": "vA9mrSTNgLVi",
        "scrolled": false,
        "outputId": "958a6d8d-694f-41e3-cd4e-ace7c96320af",
        "colab": {
          "base_uri": "https://localhost:8080/",
          "height": 915,
          "referenced_widgets": [
            "d5c7e7cbee6c4e79b8e4360d08edfba0",
            "48a7102be65141aebfb78e30fb741bcb",
            "5d37a530026f4a68a479ccc41fa22ac4",
            "a38a551d797d4311b4f626e34464c68c",
            "97e5c0b0b3fb48f1a026916d88f5b41b",
            "fb1682201cbc4f46b81a4e4fee0a424b",
            "373315cf08d64ea8804f34458bb19b49",
            "12f1c08651ae4dc1a8080f802d919925",
            "51208007c29f41abb1abacd18b941ab5"
          ]
        }
      },
      "source": [
        "# Do-it-yourself Bagging Ensemble of Decision Trees (like a Random Forest)\n",
        "def diy_bagging(max_depth=1, n_estimators=1):\n",
        "    y_preds = []\n",
        "    for i in range(n_estimators):\n",
        "        title = f'Tree {i+1}'\n",
        "        bootstrap_sample = putts.sample(n=len(putts), replace=True).sort_values(by='distance')\n",
        "        bootstrap_X = bootstrap_sample[['distance']]\n",
        "        bootstrap_y = bootstrap_sample['rate of success']\n",
        "        tree = DecisionTreeRegressor(max_depth=max_depth)\n",
        "        tree.fit(bootstrap_X, bootstrap_y)\n",
        "        y_pred = tree.predict(bootstrap_X)\n",
        "        y_preds.append(y_pred)\n",
        "        ax = bootstrap_sample.plot('distance', 'rate of success', kind='scatter', title=title)\n",
        "        ax.step(bootstrap_X, y_pred, where='mid')\n",
        "        plt.show()\n",
        "        \n",
        "    ensembled = np.vstack(y_preds).mean(axis=0)\n",
        "    title = f'Ensemble of {n_estimators} trees, with max_depth={max_depth}'\n",
        "    ax = putts.plot('distance', 'rate of success', kind='scatter', title=title)\n",
        "    ax.step(putts_X, ensembled, where='mid')\n",
        "    plt.show()\n",
        "    \n",
        "interact(diy_bagging, max_depth=(1,6,1), n_estimators=(2,5,1));"
      ],
      "execution_count": 0,
      "outputs": [
        {
          "output_type": "display_data",
          "data": {
            "application/vnd.jupyter.widget-view+json": {
              "model_id": "d5c7e7cbee6c4e79b8e4360d08edfba0",
              "version_minor": 0,
              "version_major": 2
            },
            "text/plain": [
              "interactive(children=(IntSlider(value=1, description='max_depth', max=6, min=1), IntSlider(value=2, descriptio…"
            ]
          },
          "metadata": {
            "tags": []
          }
        }
      ]
    },
    {
      "cell_type": "markdown",
      "metadata": {
        "colab_type": "text",
        "id": "rq4Z_wQ_gLVj"
      },
      "source": [
        "### Go back to Tanzania Waterpumps ..."
      ]
    },
    {
      "cell_type": "markdown",
      "metadata": {
        "colab_type": "text",
        "id": "FoSE9iT6YXQz"
      },
      "source": [
        "#### Helper function to visualize predicted probabilities\n",
        "\n"
      ]
    },
    {
      "cell_type": "code",
      "metadata": {
        "colab_type": "code",
        "id": "HzIAjGpJgLVj",
        "colab": {}
      },
      "source": [
        "import itertools\n",
        "import seaborn as sns\n",
        "\n",
        "def pred_heatmap(model, X, features, class_index=-1, title='', num=100):\n",
        "    \"\"\"\n",
        "    Visualize predicted probabilities, for classifier fit on 2 numeric features\n",
        "    \n",
        "    Parameters\n",
        "    ----------\n",
        "    model : scikit-learn classifier, already fit\n",
        "    X : pandas dataframe, which was used to fit model\n",
        "    features : list of strings, column names of the 2 numeric features\n",
        "    class_index : integer, index of class label\n",
        "    title : string, title of plot\n",
        "    num : int, number of grid points for each feature\n",
        "    \n",
        "    Returns\n",
        "    -------\n",
        "    y_pred_proba : numpy array, predicted probabilities for class_index\n",
        "    \"\"\"\n",
        "    feature1, feature2 = features\n",
        "    min1, max1 = X[feature1].min(), X[feature1].max()\n",
        "    min2, max2 = X[feature2].min(), X[feature2].max()\n",
        "    x1 = np.linspace(min1, max1, num)\n",
        "    x2 = np.linspace(max2, min2, num)\n",
        "    combos = list(itertools.product(x1, x2))\n",
        "    y_pred_proba = model.predict_proba(combos)[:, class_index]\n",
        "    pred_grid = y_pred_proba.reshape(num, num).T\n",
        "    table = pd.DataFrame(pred_grid, columns=x1, index=x2)\n",
        "    sns.heatmap(table, vmin=0, vmax=1)\n",
        "    plt.xticks([])\n",
        "    plt.yticks([])\n",
        "    plt.xlabel(feature1)\n",
        "    plt.ylabel(feature2)\n",
        "    plt.title(title)\n",
        "    plt.show()\n",
        "    return y_pred_proba\n"
      ],
      "execution_count": 0,
      "outputs": []
    },
    {
      "cell_type": "markdown",
      "metadata": {
        "colab_type": "text",
        "id": "DiRfPqHjgLVl"
      },
      "source": [
        "### Compare Decision Tree, Random Forest, Logistic Regression"
      ]
    },
    {
      "cell_type": "code",
      "metadata": {
        "colab_type": "code",
        "id": "HKkMLXhMgLVl",
        "outputId": "cf73e06a-3dc5-4754-8af6-5ad5fb71ab97",
        "colab": {
          "base_uri": "https://localhost:8080/",
          "height": 864,
          "referenced_widgets": [
            "5339d0e3907a45f3858ab9e97ffbf260",
            "8c92ea2a519e40be82309bdccfa887cf",
            "5071a3673a734065bc3d1de04dc7a710",
            "8d2e87e08c4540e1badf30bac0894945",
            "fff3d00c420f41a18127e909c1f721ba",
            "b34785c39859488db1677cd5ccf85710",
            "5d8a66c96dd945c0827cde792b2ef2bd",
            "0a460c3fc1224a92b1b4e096b3ddddf4",
            "8c6576320f7141f5955cf0e2aa738f55"
          ]
        }
      },
      "source": [
        "# Instructions\n",
        "# 1. Choose two features\n",
        "# 2. Run this code cell\n",
        "# 3. Interact with the widget sliders\n",
        "feature1 = 'longitude'\n",
        "feature2 = 'quantity'\n",
        "\n",
        "from sklearn.linear_model import LogisticRegression\n",
        "from sklearn.tree import DecisionTreeClassifier\n",
        "\n",
        "def get_X_y(df, feature1, feature2, target):\n",
        "    features = [feature1, feature2]\n",
        "    X = df[features]\n",
        "    y = df[target]\n",
        "    X = X.fillna(X.median())\n",
        "    X = ce.OrdinalEncoder().fit_transform(X)\n",
        "    return X, y\n",
        "\n",
        "def compare_models(max_depth=1, n_estimators=1):\n",
        "    models = [DecisionTreeClassifier(max_depth=max_depth), \n",
        "              RandomForestClassifier(max_depth=max_depth, n_estimators=n_estimators), \n",
        "              LogisticRegression(solver='lbfgs', multi_class='auto')]\n",
        "    \n",
        "    for model in models:\n",
        "        name = model.__class__.__name__\n",
        "        model.fit(X, y)\n",
        "        pred_heatmap(model, X, [feature1, feature2], class_index=0, title=name)\n",
        "\n",
        "X, y = get_X_y(train, feature1, feature2, target='status_group')\n",
        "interact(compare_models, max_depth=(1,6,1), n_estimators=(10,40,10));"
      ],
      "execution_count": 0,
      "outputs": [
        {
          "output_type": "display_data",
          "data": {
            "application/vnd.jupyter.widget-view+json": {
              "model_id": "5339d0e3907a45f3858ab9e97ffbf260",
              "version_minor": 0,
              "version_major": 2
            },
            "text/plain": [
              "interactive(children=(IntSlider(value=1, description='max_depth', max=6, min=1), IntSlider(value=10, descripti…"
            ]
          },
          "metadata": {
            "tags": []
          }
        }
      ]
    },
    {
      "cell_type": "markdown",
      "metadata": {
        "colab_type": "text",
        "id": "hOQqjLEDgLVn"
      },
      "source": [
        "### Bagging"
      ]
    },
    {
      "cell_type": "code",
      "metadata": {
        "colab_type": "code",
        "id": "Hm4aPgs2gLVn",
        "outputId": "eff4f702-e496-4282-c574-b5515822d5d7",
        "colab": {
          "base_uri": "https://localhost:8080/",
          "height": 864,
          "referenced_widgets": [
            "c57699caeb6741b6ba5f6479cee78f28",
            "568f7294caaf47fd9cc3d186d7e04624",
            "7eaefa8c04dc4ad2bc6da9563e109803",
            "20ab5d0e09d24488a85390ebf08bea98",
            "93ee098d32074c53a94c5d71d229d1db",
            "f4f2672e6511403ca84e5af10489ef02",
            "e784b34e4cf24a9d82f4746d2eb63c61",
            "9010afbb74d94ac497901044f2f52447",
            "65612d1b0644409f8a0177ab71dd62f6"
          ]
        }
      },
      "source": [
        "# Do-it-yourself Bagging Ensemble of Decision Trees (like a Random Forest)\n",
        "\n",
        "# Instructions\n",
        "# 1. Choose two features\n",
        "# 2. Run this code cell\n",
        "# 3. Interact with the widget sliders\n",
        "\n",
        "feature1 = 'longitude'\n",
        "feature2 = 'latitude'\n",
        "\n",
        "def waterpumps_bagging(max_depth=1, n_estimators=1):\n",
        "    predicteds = []\n",
        "    for i in range(n_estimators):\n",
        "        title = f'Tree {i+1}'\n",
        "        bootstrap_sample = train.sample(n=len(train), replace=True)\n",
        "        X, y = get_X_y(bootstrap_sample, feature1, feature2, target='status_group')\n",
        "        tree = DecisionTreeClassifier(max_depth=max_depth)\n",
        "        tree.fit(X, y)\n",
        "        predicted = pred_heatmap(tree, X, [feature1, feature2], class_index=0, title=title)\n",
        "        predicteds.append(predicted)\n",
        "    \n",
        "    ensembled = np.vstack(predicteds).mean(axis=0)\n",
        "    title = f'Ensemble of {n_estimators} trees, with max_depth={max_depth}'\n",
        "    sns.heatmap(ensembled.reshape(100, 100).T, vmin=0, vmax=1)\n",
        "    plt.title(title)\n",
        "    plt.xlabel(feature1)\n",
        "    plt.ylabel(feature2)\n",
        "    plt.xticks([])\n",
        "    plt.yticks([])\n",
        "    plt.show()\n",
        "        \n",
        "interact(waterpumps_bagging, max_depth=(1,6,1), n_estimators=(2,5,1));"
      ],
      "execution_count": 0,
      "outputs": [
        {
          "output_type": "display_data",
          "data": {
            "application/vnd.jupyter.widget-view+json": {
              "model_id": "c57699caeb6741b6ba5f6479cee78f28",
              "version_minor": 0,
              "version_major": 2
            },
            "text/plain": [
              "interactive(children=(IntSlider(value=1, description='max_depth', max=6, min=1), IntSlider(value=2, descriptio…"
            ]
          },
          "metadata": {
            "tags": []
          }
        }
      ]
    },
    {
      "cell_type": "markdown",
      "metadata": {
        "colab_type": "text",
        "id": "wYoSBi15akWP"
      },
      "source": [
        "# Review\n",
        "\n",
        "#### Try Tree Ensembles when you do machine learning with labeled, tabular data\n",
        "- \"Tree Ensembles\" means Random Forest or Gradient Boosting models. \n",
        "- [Tree Ensembles often have the best predictive accuracy](https://arxiv.org/abs/1708.05070) with labeled, tabular data.\n",
        "- Why? Because trees can fit non-linear, non-[monotonic](https://en.wikipedia.org/wiki/Monotonic_function) relationships, and [interactions](https://christophm.github.io/interpretable-ml-book/interaction.html) between features.\n",
        "- A single decision tree, grown to unlimited depth, will [overfit](http://www.r2d3.us/visual-intro-to-machine-learning-part-1/). We solve this problem by ensembling trees, with bagging (Random Forest) or boosting (Gradient Boosting).\n",
        "- Random Forest's advantage: may be less sensitive to hyperparameters. Gradient Boosting's advantage: may get better predictive accuracy.\n",
        "\n",
        "#### One-hot encoding isn’t the only way, and may not be the best way, of categorical encoding for tree ensembles.\n",
        "- For example, tree ensembles can work with arbitrary \"ordinal\" encoding! (Randomly assigning an integer to each category.) Compared to one-hot encoding, the dimensionality will be lower, and the predictive accuracy may be just as good or even better.\n"
      ]
    }
  ]
}